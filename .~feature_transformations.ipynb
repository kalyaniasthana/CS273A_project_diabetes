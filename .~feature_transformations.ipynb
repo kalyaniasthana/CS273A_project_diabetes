{
 "cells": [
  {
   "cell_type": "code",
   "execution_count": 151,
   "metadata": {},
   "outputs": [],
   "source": [
    "from IPython.display import Image\n",
    "import numpy as np\n",
    "import os\n",
    "import pandas as pd"
   ]
  },
  {
   "cell_type": "code",
   "execution_count": 152,
   "metadata": {},
   "outputs": [],
   "source": [
    "from sklearn.compose import ColumnTransformer, make_column_transformer\n",
    "from sklearn.preprocessing import LabelEncoder\n",
    "from sklearn.preprocessing import OneHotEncoder\n",
    "from sklearn.preprocessing import StandardScaler\n",
    "from sklearn.preprocessing import LabelBinarizer\n",
    "from sklearn.pipeline import Pipeline"
   ]
  },
  {
   "cell_type": "code",
   "execution_count": 153,
   "metadata": {},
   "outputs": [],
   "source": [
    "np.random.seed(42)\n",
    "pd.set_option('display.max_columns', None)"
   ]
  },
  {
   "cell_type": "code",
   "execution_count": 154,
   "metadata": {},
   "outputs": [],
   "source": [
    "dataDirectory = os.path.join(os.getcwd(), 'dataset_diabetes')"
   ]
  },
  {
   "cell_type": "code",
   "execution_count": 155,
   "metadata": {},
   "outputs": [],
   "source": [
    "trainingSet = pd.read_csv(os.path.join(dataDirectory, 'diabetic_data_train.csv'))\n",
    "diabetes = trainingSet.drop('readmitted', axis=1)\n",
    "readmittedLabels = trainingSet['readmitted']"
   ]
  },
  {
   "cell_type": "code",
   "execution_count": 156,
   "metadata": {},
   "outputs": [],
   "source": [
    "# Label Transforms\n",
    "from sklearn.preprocessing import LabelEncoder\n",
    "labelEncoder = LabelEncoder()\n",
    "readmittedLabelsEncoded = labelEncoder.fit_transform(readmittedLabels)"
   ]
  },
  {
   "cell_type": "code",
   "execution_count": 157,
   "metadata": {},
   "outputs": [],
   "source": [
    "# find column numbers using column names of a Pandas DataFrame\n",
    "def find_column_numbers(dataFrame, columnNamesList):\n",
    "    return [dataFrame.columns.get_loc(col) for col in columnNamesList]"
   ]
  },
  {
   "cell_type": "code",
   "execution_count": 158,
   "metadata": {},
   "outputs": [],
   "source": [
    "# Transformer for diagnoses columns\n",
    "from sklearn.base import BaseEstimator, TransformerMixin\n",
    "class RenameDiagnosesColumns(BaseEstimator, TransformerMixin):\n",
    "    def __init__(self, columnNumbers):\n",
    "        self.circulatory = self.int_to_str_list(390,460) + ['785']\n",
    "        self.respiratory = self.int_to_str_list(460,520) + ['786']\n",
    "        self.digestive = self.int_to_str_list(520,580) + ['787']\n",
    "        self.injury = self.int_to_str_list(800,1000)\n",
    "        self.musculoskeletal = self.int_to_str_list(710,740)\n",
    "        self.genitourinary = self.int_to_str_list(580,630) + ['788']\n",
    "        self.neoplasms = self.int_to_str_list(140, 240)\n",
    "        # self.notOthers = ['Circulatory', 'Respiratory', 'Digestive', 'Injury', 'Diabetes', 'Musculoskeletal', 'Genitourinary',\n",
    "             # 'Neoplasms']\n",
    "        self.notOthers = [1, 2, 3, 4, 5, 6, 7, 8]\n",
    "        self.columnNumbers = columnNumbers\n",
    "    def fit(self, X, y=None):\n",
    "        return self\n",
    "    def int_to_str_list(self, l, h):\n",
    "        return list(map(str,list(range(l,h))))\n",
    "    def transform(self, X):\n",
    "        for col in self.columnNumbers:\n",
    "            X[:, col] = np.array([1 if x in self.circulatory else x for x in X[:, col]])\n",
    "            X[:, col] = np.array([2 if x in self.respiratory else x for x in X[:, col] ])\n",
    "            X[:, col] = np.array([3 if x in self.digestive else x for x in X[:, col] ])\n",
    "            X[:, col] = np.array([4 if x in self.injury else x for x in X[:, col]])\n",
    "            X[:, col] = np.array([5 if x.isdigit() and int(x) == 250 else x for x in X[:, col]])\n",
    "            X[:, col] = np.array([6 if x in self.musculoskeletal else x for x in X[:, col]])\n",
    "            X[:, col] = np.array([7 if x in self.genitourinary else x for x in X[:, col]])\n",
    "            X[:, col] = np.array([8 if x in self.neoplasms else x for x in X[:, col]])\n",
    "            X[:, col] = np.array([9 if x not in self.notOthers else x for x in X[:, col]])\n",
    "        return X "
   ]
  },
  {
   "cell_type": "code",
   "execution_count": 159,
   "metadata": {},
   "outputs": [],
   "source": [
    "# imputer for filling missing values\n",
    "from sklearn.impute import SimpleImputer \n",
    "imputer = SimpleImputer(missing_values = '?', fill_value = np.nan, strategy = 'constant')"
   ]
  },
  {
   "cell_type": "code",
   "execution_count": 160,
   "metadata": {},
   "outputs": [],
   "source": [
    "# replace ? with NaN\n",
    "diabetes.replace('?', np.NaN, inplace=True)\n",
    "# drop irrelevant columns\n",
    "diabetes.drop(['weight', 'payer_code', 'encounter_id', 'patient_nbr', 'medical_specialty',\n",
    "              'admission_source_id', 'admission_type_id', 'number_outpatient', 'number_emergency'],\n",
    "              axis=1, inplace=True)\n",
    "# drop rows with missing values\n",
    "diabetes.dropna(subset=['race', 'diag_1', 'diag_2', 'diag_3'], inplace=True)"
   ]
  },
  {
   "cell_type": "code",
   "execution_count": 161,
   "metadata": {},
   "outputs": [],
   "source": [
    "#get numerical and categorical columns\n",
    "def get_num_and_cat_columns(dataFrame):\n",
    "    numerical_ix = dataFrame.select_dtypes(include=['int64', 'float64']).columns\n",
    "    categorical_ix = dataFrame.select_dtypes(include=['object', 'bool', 'category']).columns\n",
    "    return numerical_ix, categorical_ix"
   ]
  },
  {
   "cell_type": "code",
   "execution_count": 162,
   "metadata": {},
   "outputs": [],
   "source": [
    "diagnosesColumnNames = ['diag_1', 'diag_2', 'diag_3']\n",
    "columnNumbers = find_column_numbers(diabetes, diagnosesColumnNames)"
   ]
  },
  {
   "cell_type": "code",
   "execution_count": 163,
   "metadata": {},
   "outputs": [],
   "source": [
    "num_attribs, cat_attribs = get_num_and_cat_columns(diabetes)\n",
    "cat_attribs = [x for x in list(cat_attribs) if x not in diagnosesColumnNames]"
   ]
  },
  {
   "cell_type": "code",
   "execution_count": 164,
   "metadata": {},
   "outputs": [],
   "source": [
    "le = LabelEncoder()"
   ]
  },
  {
   "cell_type": "code",
   "execution_count": 165,
   "metadata": {},
   "outputs": [],
   "source": [
    "for col in cat_attribs:\n",
    "    diabetes[col] = le.fit_transform(diabetes[col])"
   ]
  },
  {
   "cell_type": "code",
   "execution_count": 166,
   "metadata": {},
   "outputs": [],
   "source": [
    "pipeline1 = Pipeline([\n",
    "    ('imputer', imputer), # adding this for no reason at all\n",
    "    ('dt', RenameDiagnosesColumns(columnNumbers))\n",
    "])"
   ]
  },
  {
   "cell_type": "code",
   "execution_count": 168,
   "metadata": {},
   "outputs": [],
   "source": [
    "full_pipeline = ColumnTransformer([\n",
    "    ('pipe1', pipeline1, list(diabetes)),\n",
    "    ('ohe', OneHotEncoder(), cat_attribs + diagnosesColumnNames)\n",
    "], remainder='passthrough')"
   ]
  },
  {
   "cell_type": "code",
   "execution_count": 169,
   "metadata": {},
   "outputs": [],
   "source": [
    "diabetesPrepared = full_pipeline.fit_transform(diabetes)"
   ]
  },
  {
   "cell_type": "code",
   "execution_count": 172,
   "metadata": {},
   "outputs": [
    {
     "data": {
      "text/plain": [
       "(78446, 2290)"
      ]
     },
     "execution_count": 172,
     "metadata": {},
     "output_type": "execute_result"
    }
   ],
   "source": []
  },
  {
   "cell_type": "code",
   "execution_count": 107,
   "metadata": {},
   "outputs": [],
   "source": []
  },
  {
   "cell_type": "code",
   "execution_count": null,
   "metadata": {},
   "outputs": [],
   "source": []
  }
 ],
 "metadata": {
  "kernelspec": {
   "display_name": "Python 3",
   "language": "python",
   "name": "python3"
  },
  "language_info": {
   "codemirror_mode": {
    "name": "ipython",
    "version": 3
   },
   "file_extension": ".py",
   "mimetype": "text/x-python",
   "name": "python",
   "nbconvert_exporter": "python",
   "pygments_lexer": "ipython3",
   "version": "3.7.6"
  }
 },
 "nbformat": 4,
 "nbformat_minor": 4
}
