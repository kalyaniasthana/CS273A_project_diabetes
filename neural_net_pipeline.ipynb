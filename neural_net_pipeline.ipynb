{
 "cells": [
  {
   "cell_type": "code",
   "execution_count": 26,
   "metadata": {},
   "outputs": [],
   "source": [
    "import numpy as np\n",
    "import pandas as pd\n",
    "import matplotlib.pyplot as plt\n",
    "from sklearn.ensemble import RandomForestClassifier, AdaBoostClassifier\n",
    "from sklearn.model_selection import StratifiedKFold\n",
    "from sklearn.metrics import accuracy_score, roc_auc_score, recall_score\n",
    "from sklearn.preprocessing import OneHotEncoder\n",
    "from sklearn.model_selection import GridSearchCV\n",
    "from imblearn.over_sampling import SMOTE\n",
    "from imblearn.pipeline import Pipeline\n",
    "\n",
    "from collections import Counter"
   ]
  },
  {
   "cell_type": "code",
   "execution_count": 27,
   "metadata": {},
   "outputs": [],
   "source": [
    "pd.set_option('display.max_columns', None)\n",
    "pd.set_option('display.max_rows', None)"
   ]
  },
  {
   "cell_type": "code",
   "execution_count": 28,
   "metadata": {},
   "outputs": [],
   "source": [
    "random_state = 0"
   ]
  },
  {
   "cell_type": "code",
   "execution_count": 29,
   "metadata": {},
   "outputs": [],
   "source": [
    "df_train = pd.read_csv('dataset_diabetes/diabetic_data_train.csv')"
   ]
  },
  {
   "cell_type": "code",
   "execution_count": 30,
   "metadata": {},
   "outputs": [],
   "source": [
    "# Removing several medication columns also\n",
    "remove_cols = ['encounter_id', 'patient_nbr', 'weight', 'payer_code', 'medical_specialty', 'examide', \n",
    "    'citoglipton', 'chlorpropamide', 'acetohexamide', 'tolbutamide', 'acarbose', 'miglitol', \n",
    "    'troglitazone', 'tolazamide', 'glyburide-metformin', 'glipizide-metformin', 'glimepiride-pioglitazone', \n",
    "    'metformin-rosiglitazone', 'metformin-pioglitazone']"
   ]
  },
  {
   "cell_type": "code",
   "execution_count": 31,
   "metadata": {},
   "outputs": [],
   "source": [
    "df_train = df_train[[col for col in df_train.columns if col not in remove_cols]]"
   ]
  },
  {
   "cell_type": "code",
   "execution_count": 32,
   "metadata": {},
   "outputs": [
    {
     "data": {
      "text/plain": [
       "Index(['race', 'gender', 'age', 'admission_type_id',\n",
       "       'discharge_disposition_id', 'admission_source_id', 'time_in_hospital',\n",
       "       'num_lab_procedures', 'num_procedures', 'num_medications',\n",
       "       'number_outpatient', 'number_emergency', 'number_inpatient', 'diag_1',\n",
       "       'diag_2', 'diag_3', 'number_diagnoses', 'max_glu_serum', 'A1Cresult',\n",
       "       'metformin', 'repaglinide', 'nateglinide', 'glimepiride', 'glipizide',\n",
       "       'glyburide', 'pioglitazone', 'rosiglitazone', 'insulin', 'change',\n",
       "       'diabetesMed', 'readmitted'],\n",
       "      dtype='object')"
      ]
     },
     "execution_count": 32,
     "metadata": {},
     "output_type": "execute_result"
    }
   ],
   "source": [
    "df_train.columns"
   ]
  },
  {
   "cell_type": "markdown",
   "metadata": {},
   "source": [
    "## Create Labels"
   ]
  },
  {
   "cell_type": "code",
   "execution_count": 33,
   "metadata": {},
   "outputs": [
    {
     "data": {
      "text/plain": [
       "[('NO', 0.5393799439886012),\n",
       " ('>30', 0.3491868520611212),\n",
       " ('<30', 0.1114332039502776)]"
      ]
     },
     "execution_count": 33,
     "metadata": {},
     "output_type": "execute_result"
    }
   ],
   "source": [
    "[(key, val/len(df_train.readmitted)) for (key, val) in Counter(df_train.readmitted).most_common()]"
   ]
  },
  {
   "cell_type": "code",
   "execution_count": 34,
   "metadata": {},
   "outputs": [],
   "source": [
    "def binarize_readmitted(x):\n",
    "    if x in ['<30']: # readmitted in less than 30 days is positive class\n",
    "        return 1 \n",
    "    else:\n",
    "        return 0 "
   ]
  },
  {
   "cell_type": "code",
   "execution_count": 35,
   "metadata": {},
   "outputs": [],
   "source": [
    "df_train['label'] = df_train.apply(lambda x: binarize_readmitted(x['readmitted']), axis=1)"
   ]
  },
  {
   "cell_type": "code",
   "execution_count": 36,
   "metadata": {},
   "outputs": [
    {
     "data": {
      "text/plain": [
       "[(0, 0.8885667960497224), (1, 0.1114332039502776)]"
      ]
     },
     "execution_count": 36,
     "metadata": {},
     "output_type": "execute_result"
    }
   ],
   "source": [
    "[(key, val/len(df_train.readmitted)) for (key, val) in Counter(df_train['label']).most_common()]"
   ]
  },
  {
   "cell_type": "markdown",
   "metadata": {},
   "source": [
    "## Process Features"
   ]
  },
  {
   "cell_type": "code",
   "execution_count": 37,
   "metadata": {},
   "outputs": [],
   "source": [
    "def map_age(x):\n",
    "    if x == '[0-10)':\n",
    "        return 5\n",
    "    elif x == '[10-20)':\n",
    "        return 15\n",
    "    elif x == '[20-30)':\n",
    "        return 25\n",
    "    elif x == '[30-40)':\n",
    "        return 35\n",
    "    elif x == '[40-50)':\n",
    "        return 45\n",
    "    elif x == '[50-60)':\n",
    "        return 55\n",
    "    elif x == '[60-70)':\n",
    "        return 65\n",
    "    elif x == '[70-80)':\n",
    "        return 75\n",
    "    elif x == '[80-90)':\n",
    "        return 85\n",
    "    else:\n",
    "        return 95\n",
    "\n",
    "admission_dict = {1: 'Emergency', 2: 'Urgent', 3: 'Elective', 4: 'Newborn', 7: 'Trauma Center'}\n",
    "def map_admission(x):\n",
    "    if x in [5,6,8]:\n",
    "        return 'Not Available'\n",
    "    else:\n",
    "        return admission_dict[x]\n",
    "    \n",
    "def discharged_home(x):\n",
    "    if x == 1:\n",
    "        return 1 # Discharged home\n",
    "    else:\n",
    "        return 0 # Other \n",
    "\n",
    "def map_source(x):\n",
    "    if x in [1,2,3]:\n",
    "        return 'Referral' \n",
    "    elif x == 7:\n",
    "        return 'Emergency Room'\n",
    "    else:\n",
    "        return 'Other'\n",
    "\n",
    "def map_diag(x):\n",
    "    if x[0].isdigit() == False:\n",
    "        return 'other'\n",
    "    \n",
    "    float_x = float(x)\n",
    "    if (float_x >= 390 and float_x <= 459) or float_x == 785: # 390–459, 785\n",
    "        return 'circulatory'\n",
    "    elif (float_x >= 460 and float_x <= 519) or float_x == 786: # 460–519, 786\n",
    "        return 'respiratory'\n",
    "    elif (float_x >= 520 and float_x <= 579) or float_x == 787: # 520–579, 787\n",
    "        return 'digestive'\n",
    "    elif float_x >= 250 and float_x < 251: # 250.xx\n",
    "        return 'diabetes'\n",
    "    elif float_x >= 800 and float_x <= 999: # 800–999\n",
    "        return 'injury'\n",
    "    elif float_x >= 710 and float_x <= 739: # 710–739\n",
    "        return 'musculoskeletal'\n",
    "    elif (float_x >= 580 and float_x <= 629) or float_x == 788: # 580–629, 788\n",
    "        return 'genitourinary'\n",
    "    elif float_x >= 140 and float_x <= 239: # 140–239\n",
    "        return 'neoplasms'\n",
    "    else:\n",
    "        return 'other'\n",
    "\n",
    "def binarize_yn(x):\n",
    "    if x in ['Yes', 'Ch']: \n",
    "        return 1 \n",
    "    else:\n",
    "        return 0 "
   ]
  },
  {
   "cell_type": "code",
   "execution_count": 38,
   "metadata": {},
   "outputs": [],
   "source": [
    "df_train['age_processed'] = df_train.apply(lambda x: map_age(x['age']), axis=1)\n",
    "df_train['admission_type_processed'] = df_train.apply(lambda x: map_admission(x['admission_type_id']), axis=1)\n",
    "df_train['discharged_processed'] = df_train.apply(lambda x: discharged_home(x['discharge_disposition_id']), axis=1)\n",
    "df_train['source_processed'] = df_train.apply(lambda x: map_source(x['admission_source_id']), axis=1)"
   ]
  },
  {
   "cell_type": "code",
   "execution_count": 39,
   "metadata": {},
   "outputs": [],
   "source": [
    "df_train['diag1_processed'] = df_train.apply(lambda x: map_diag(x['diag_1']), axis=1)\n",
    "df_train['diag2_processed'] = df_train.apply(lambda x: map_diag(x['diag_2']), axis=1)\n",
    "df_train['diag3_processed'] = df_train.apply(lambda x: map_diag(x['diag_3']), axis=1)\n",
    "df_train['change_processed'] = df_train.apply(lambda x: binarize_yn(x['change']), axis=1)\n",
    "df_train['diabetesMed_processed'] = df_train.apply(lambda x: binarize_yn(x['diabetesMed']), axis=1)"
   ]
  },
  {
   "cell_type": "markdown",
   "metadata": {},
   "source": [
    "## One Hot Encodings"
   ]
  },
  {
   "cell_type": "code",
   "execution_count": 40,
   "metadata": {},
   "outputs": [],
   "source": [
    "ohe_cols = ['admission_type_processed', 'source_processed',\n",
    "    'diag1_processed', 'diag2_processed', 'diag3_processed', 'race', 'gender', \n",
    "    'max_glu_serum', 'A1Cresult', 'metformin', 'repaglinide', 'nateglinide', \n",
    "    'glimepiride', 'glipizide', 'glyburide', 'pioglitazone', 'rosiglitazone', 'insulin']"
   ]
  },
  {
   "cell_type": "code",
   "execution_count": 41,
   "metadata": {},
   "outputs": [
    {
     "name": "stdout",
     "output_type": "stream",
     "text": [
      "81410\n"
     ]
    }
   ],
   "source": [
    "# Remove 2 rows where gender is invalid (probably doesn't matter but just incase)\n",
    "df_train = df_train[df_train.gender != 'Unknown/Invalid']\n",
    "print(len(df_train))"
   ]
  },
  {
   "cell_type": "code",
   "execution_count": 42,
   "metadata": {},
   "outputs": [],
   "source": [
    "df_train_sub = df_train[ohe_cols]"
   ]
  },
  {
   "cell_type": "code",
   "execution_count": 43,
   "metadata": {},
   "outputs": [],
   "source": [
    "ohe = OneHotEncoder(categories='auto')\n",
    "train_ohe = ohe.fit_transform(df_train_sub).toarray()"
   ]
  },
  {
   "cell_type": "code",
   "execution_count": 44,
   "metadata": {},
   "outputs": [],
   "source": [
    "# obtain column names for one hot encoded columns \n",
    "feature_labels = []\n",
    "feature_labels_ = ohe.categories_\n",
    "for col, values in zip(df_train_sub.columns, feature_labels_):\n",
    "    for val in values:\n",
    "        feature_labels.append(col+'_'+val)"
   ]
  },
  {
   "cell_type": "code",
   "execution_count": 45,
   "metadata": {},
   "outputs": [],
   "source": [
    "df_train_ohe = pd.DataFrame(train_ohe, columns = feature_labels)"
   ]
  },
  {
   "cell_type": "code",
   "execution_count": 46,
   "metadata": {},
   "outputs": [],
   "source": [
    "num_cols = ['age_processed', 'discharged_processed', 'change_processed', 'diabetesMed_processed', \n",
    "        'time_in_hospital', 'num_lab_procedures', 'num_procedures', 'num_medications', \n",
    "        'number_outpatient','number_emergency', 'number_inpatient', 'number_diagnoses']\n",
    "\n",
    "df_train_num = df_train[num_cols]"
   ]
  },
  {
   "cell_type": "code",
   "execution_count": 48,
   "metadata": {},
   "outputs": [],
   "source": [
    "from sklearn.preprocessing import StandardScaler\n",
    "scaler = StandardScaler()\n",
    "df_train_num_scaled = scaler.fit_transform(df_train_num.astype(np.float64))"
   ]
  },
  {
   "cell_type": "code",
   "execution_count": 49,
   "metadata": {},
   "outputs": [],
   "source": [
    "df_train_num = pd.DataFrame(df_train_num_scaled, index=df_train_num.index, columns=df_train_num.columns)"
   ]
  },
  {
   "cell_type": "code",
   "execution_count": 50,
   "metadata": {},
   "outputs": [
    {
     "name": "stdout",
     "output_type": "stream",
     "text": [
      "(81410, 88) (81410, 12)\n"
     ]
    }
   ],
   "source": [
    "print(df_train_ohe.shape, df_train_num.shape)"
   ]
  },
  {
   "cell_type": "code",
   "execution_count": 51,
   "metadata": {},
   "outputs": [],
   "source": [
    "# Reindexing because df_train_ohe has different indices than df_train_num (due to removing the two invalid gender entries)\n",
    "# and not doing this will create null entries when concatenating \n",
    "df_train_ohe.reset_index(drop=True, inplace=True)\n",
    "df_train_num.reset_index(drop=True, inplace=True)"
   ]
  },
  {
   "cell_type": "code",
   "execution_count": 52,
   "metadata": {},
   "outputs": [],
   "source": [
    "X_train = pd.concat([df_train_ohe, df_train_num], axis=1)"
   ]
  },
  {
   "cell_type": "code",
   "execution_count": 53,
   "metadata": {},
   "outputs": [
    {
     "name": "stdout",
     "output_type": "stream",
     "text": [
      "admission_type_processed_Elective\n",
      "Counter({0.0: 66358, 1.0: 15052}) \n",
      "\n",
      "admission_type_processed_Emergency\n",
      "Counter({1.0: 43216, 0.0: 38194}) \n",
      "\n",
      "admission_type_processed_Newborn\n",
      "Counter({0.0: 81400, 1.0: 10}) \n",
      "\n",
      "admission_type_processed_Not Available\n",
      "Counter({0.0: 73136, 1.0: 8274}) \n",
      "\n",
      "admission_type_processed_Trauma Center\n",
      "Counter({0.0: 81397, 1.0: 13}) \n",
      "\n",
      "admission_type_processed_Urgent\n",
      "Counter({0.0: 66565, 1.0: 14845}) \n",
      "\n",
      "source_processed_Emergency Room\n",
      "Counter({1.0: 45988, 0.0: 35422}) \n",
      "\n",
      "source_processed_Other\n",
      "Counter({0.0: 70656, 1.0: 10754}) \n",
      "\n",
      "source_processed_Referral\n",
      "Counter({0.0: 56742, 1.0: 24668}) \n",
      "\n",
      "diag1_processed_circulatory\n",
      "Counter({0.0: 56981, 1.0: 24429}) \n",
      "\n",
      "diag1_processed_diabetes\n",
      "Counter({0.0: 74423, 1.0: 6987}) \n",
      "\n",
      "diag1_processed_digestive\n",
      "Counter({0.0: 73861, 1.0: 7549}) \n",
      "\n",
      "diag1_processed_genitourinary\n",
      "Counter({0.0: 77288, 1.0: 4122}) \n",
      "\n",
      "diag1_processed_injury\n",
      "Counter({0.0: 75921, 1.0: 5489}) \n",
      "\n",
      "diag1_processed_musculoskeletal\n",
      "Counter({0.0: 77481, 1.0: 3929}) \n",
      "\n",
      "diag1_processed_neoplasms\n",
      "Counter({0.0: 78671, 1.0: 2739}) \n",
      "\n",
      "diag1_processed_other\n",
      "Counter({0.0: 66774, 1.0: 14636}) \n",
      "\n",
      "diag1_processed_respiratory\n",
      "Counter({0.0: 69880, 1.0: 11530}) \n",
      "\n",
      "diag2_processed_circulatory\n",
      "Counter({0.0: 55954, 1.0: 25456}) \n",
      "\n",
      "diag2_processed_diabetes\n",
      "Counter({0.0: 71193, 1.0: 10217}) \n",
      "\n",
      "diag2_processed_digestive\n",
      "Counter({0.0: 78092, 1.0: 3318}) \n",
      "\n",
      "diag2_processed_genitourinary\n",
      "Counter({0.0: 74693, 1.0: 6717}) \n",
      "\n",
      "diag2_processed_injury\n",
      "Counter({0.0: 79441, 1.0: 1969}) \n",
      "\n",
      "diag2_processed_musculoskeletal\n",
      "Counter({0.0: 80012, 1.0: 1398}) \n",
      "\n",
      "diag2_processed_neoplasms\n",
      "Counter({0.0: 79371, 1.0: 2039}) \n",
      "\n",
      "diag2_processed_other\n",
      "Counter({0.0: 59793, 1.0: 21617}) \n",
      "\n",
      "diag2_processed_respiratory\n",
      "Counter({0.0: 72731, 1.0: 8679}) \n",
      "\n",
      "diag3_processed_circulatory\n",
      "Counter({0.0: 57251, 1.0: 24159}) \n",
      "\n",
      "diag3_processed_diabetes\n",
      "Counter({0.0: 67651, 1.0: 13759}) \n",
      "\n",
      "diag3_processed_digestive\n",
      "Counter({0.0: 78281, 1.0: 3129}) \n",
      "\n",
      "diag3_processed_genitourinary\n",
      "Counter({0.0: 76056, 1.0: 5354}) \n",
      "\n",
      "diag3_processed_injury\n",
      "Counter({0.0: 79851, 1.0: 1559}) \n",
      "\n",
      "diag3_processed_musculoskeletal\n",
      "Counter({0.0: 79893, 1.0: 1517}) \n",
      "\n",
      "diag3_processed_neoplasms\n",
      "Counter({0.0: 79917, 1.0: 1493}) \n",
      "\n",
      "diag3_processed_other\n",
      "Counter({0.0: 56835, 1.0: 24575}) \n",
      "\n",
      "diag3_processed_respiratory\n",
      "Counter({0.0: 75545, 1.0: 5865}) \n",
      "\n",
      "race_?\n",
      "Counter({0.0: 79588, 1.0: 1822}) \n",
      "\n",
      "race_AfricanAmerican\n",
      "Counter({0.0: 66085, 1.0: 15325}) \n",
      "\n",
      "race_Asian\n",
      "Counter({0.0: 80893, 1.0: 517}) \n",
      "\n",
      "race_Caucasian\n",
      "Counter({1.0: 60871, 0.0: 20539}) \n",
      "\n",
      "race_Hispanic\n",
      "Counter({0.0: 79760, 1.0: 1650}) \n",
      "\n",
      "race_Other\n",
      "Counter({0.0: 80185, 1.0: 1225}) \n",
      "\n",
      "gender_Female\n",
      "Counter({1.0: 43740, 0.0: 37670}) \n",
      "\n",
      "gender_Male\n",
      "Counter({0.0: 43740, 1.0: 37670}) \n",
      "\n",
      "max_glu_serum_>200\n",
      "Counter({0.0: 80209, 1.0: 1201}) \n",
      "\n",
      "max_glu_serum_>300\n",
      "Counter({0.0: 80397, 1.0: 1013}) \n",
      "\n",
      "max_glu_serum_None\n",
      "Counter({1.0: 77128, 0.0: 4282}) \n",
      "\n",
      "max_glu_serum_Norm\n",
      "Counter({0.0: 79342, 1.0: 2068}) \n",
      "\n",
      "A1Cresult_>7\n",
      "Counter({0.0: 78419, 1.0: 2991}) \n",
      "\n",
      "A1Cresult_>8\n",
      "Counter({0.0: 74810, 1.0: 6600}) \n",
      "\n",
      "A1Cresult_None\n",
      "Counter({1.0: 67776, 0.0: 13634}) \n",
      "\n",
      "A1Cresult_Norm\n",
      "Counter({0.0: 77367, 1.0: 4043}) \n",
      "\n",
      "metformin_Down\n",
      "Counter({0.0: 80955, 1.0: 455}) \n",
      "\n",
      "metformin_No\n",
      "Counter({1.0: 65383, 0.0: 16027}) \n",
      "\n",
      "metformin_Steady\n",
      "Counter({0.0: 66707, 1.0: 14703}) \n",
      "\n",
      "metformin_Up\n",
      "Counter({0.0: 80541, 1.0: 869}) \n",
      "\n",
      "repaglinide_Down\n",
      "Counter({0.0: 81375, 1.0: 35}) \n",
      "\n",
      "repaglinide_No\n",
      "Counter({1.0: 80160, 0.0: 1250}) \n",
      "\n",
      "repaglinide_Steady\n",
      "Counter({0.0: 80284, 1.0: 1126}) \n",
      "\n",
      "repaglinide_Up\n",
      "Counter({0.0: 81321, 1.0: 89}) \n",
      "\n",
      "nateglinide_Down\n",
      "Counter({0.0: 81402, 1.0: 8}) \n",
      "\n",
      "nateglinide_No\n",
      "Counter({1.0: 80843, 0.0: 567}) \n",
      "\n",
      "nateglinide_Steady\n",
      "Counter({0.0: 80871, 1.0: 539}) \n",
      "\n",
      "nateglinide_Up\n",
      "Counter({0.0: 81390, 1.0: 20}) \n",
      "\n",
      "glimepiride_Down\n",
      "Counter({0.0: 81257, 1.0: 153}) \n",
      "\n",
      "glimepiride_No\n",
      "Counter({1.0: 77253, 0.0: 4157}) \n",
      "\n",
      "glimepiride_Steady\n",
      "Counter({0.0: 77672, 1.0: 3738}) \n",
      "\n",
      "glimepiride_Up\n",
      "Counter({0.0: 81144, 1.0: 266}) \n",
      "\n",
      "glipizide_Down\n",
      "Counter({0.0: 80951, 1.0: 459}) \n",
      "\n",
      "glipizide_No\n",
      "Counter({1.0: 71344, 0.0: 10066}) \n",
      "\n",
      "glipizide_Steady\n",
      "Counter({0.0: 72426, 1.0: 8984}) \n",
      "\n",
      "glipizide_Up\n",
      "Counter({0.0: 80787, 1.0: 623}) \n",
      "\n",
      "glyburide_Down\n",
      "Counter({0.0: 80954, 1.0: 456}) \n",
      "\n",
      "glyburide_No\n",
      "Counter({1.0: 72903, 0.0: 8507}) \n",
      "\n",
      "glyburide_Steady\n",
      "Counter({0.0: 74004, 1.0: 7406}) \n",
      "\n",
      "glyburide_Up\n",
      "Counter({0.0: 80765, 1.0: 645}) \n",
      "\n",
      "pioglitazone_Down\n",
      "Counter({0.0: 81321, 1.0: 89}) \n",
      "\n",
      "pioglitazone_No\n",
      "Counter({1.0: 75592, 0.0: 5818}) \n",
      "\n",
      "pioglitazone_Steady\n",
      "Counter({0.0: 75861, 1.0: 5549}) \n",
      "\n",
      "pioglitazone_Up\n",
      "Counter({0.0: 81230, 1.0: 180}) \n",
      "\n",
      "rosiglitazone_Down\n",
      "Counter({0.0: 81342, 1.0: 68}) \n",
      "\n",
      "rosiglitazone_No\n",
      "Counter({1.0: 76323, 0.0: 5087}) \n",
      "\n",
      "rosiglitazone_Steady\n",
      "Counter({0.0: 76535, 1.0: 4875}) \n",
      "\n",
      "rosiglitazone_Up\n",
      "Counter({0.0: 81266, 1.0: 144}) \n",
      "\n",
      "insulin_Down\n",
      "Counter({0.0: 71617, 1.0: 9793}) \n",
      "\n",
      "insulin_No\n",
      "Counter({0.0: 43481, 1.0: 37929}) \n",
      "\n",
      "insulin_Steady\n",
      "Counter({0.0: 56818, 1.0: 24592}) \n",
      "\n",
      "insulin_Up\n",
      "Counter({0.0: 72314, 1.0: 9096}) \n",
      "\n",
      "age_processed\n",
      "Counter({0.5670535328754747: 20878, -0.05955089631014834: 17958, -0.6861553254957714: 13741, 1.1936579620610976: 13737, -1.3127597546813945: 7810, -1.9393641838670175: 3030, 1.8202623912467208: 2239, -2.5659686130526405: 1335, -3.1925730422382634: 551, -3.8191774714238864: 131}) \n",
      "\n",
      "discharged_processed\n",
      "Counter({0.8282276406317545: 48287, -1.2073975208521428: 33123}) \n",
      "\n",
      "change_processed\n",
      "Counter({-0.9277013987634344: 43754, 1.0779330518773982: 37656}) \n",
      "\n",
      "diabetesMed_processed\n",
      "Counter({0.5478566667504611: 62616, -1.8252949369610973: 18794}) \n",
      "\n",
      "time_in_hospital\n",
      "Counter({-0.46815377146633436: 14169, -0.8021888340453177: 13819, -1.1362238966243012: 11375, -0.13411870888735095: 11087, 0.19991635369163244: 7926, 0.5339514162706158: 6033, 0.8679864788495992: 4704, 1.2020215414285826: 3504, 1.536056604007566: 2425, 1.8700916665865495: 1890, 2.204126729165533: 1476, 2.5381617917445163: 1157, 2.8721968543234997: 1004, 3.206231916902483: 841}) \n",
      "\n",
      "num_lab_procedures\n",
      "Counter({-2.1319629586918363: 2598, -0.0039371235057667: 2208, 0.046730158284377814: 1984, 0.09739744007452232: 1905, -0.25727353245648926: 1785, -0.15593896887620023: 1775, 0.14806472186466685: 1725, -0.3079408142466338: 1695, -0.10527168708605572: 1685, 0.19873200365481136: 1674, -0.054604405295911214: 1661, 0.24939928544495585: 1647, -0.20660625066634475: 1647, 0.3000665672351004: 1630, -0.3586080960367783: 1587, -0.4092753778269228: 1541, 0.3507338490252449: 1538, 0.4014011308153894: 1528, 0.5534029761858229: 1509, 0.45206841260553393: 1506, 0.6547375397661119: 1463, 0.6040702579759675: 1460, 0.5027356943956784: 1439, 0.7054048215562565: 1400, 0.756072103346401: 1370, -0.4599426596170673: 1368, 0.9080739487168346: 1318, 0.85740666692669: 1286, 0.8067393851365455: 1278, 1.0094085122971235: 1136, 0.958741230506979: 1130, 1.060075794087268: 1091, -0.6626117867776453: 1077, -0.7132790685677899: 1060, -0.6119445049875009: 1047, -0.5612772231973563: 1045, -0.5106099414072118: 1024, 1.1614103576675572: 984, 1.1107430758774126: 972, -2.0812956769016915: 901, -0.8652809139382234: 875, 1.2120776394577015: 872, -0.9159481957283679: 848, 1.262744921247846: 841, -0.7639463503579343: 824, 1.3134122030379907: 794, -1.219951886469235: 769, -1.7266247043706802: 754, -0.8146136321480789: 680, -1.6759574225805356: 675, 1.3640794848281352: 666, -1.0172827593086569: 657, 1.4147467666182796: 614, -1.1692846046790906: 605, -1.321286450049524: 605, 1.4654140484084242: 604, -0.9666154775185124: 602, -1.0679500410988014: 582, -1.2706191682593795: 572, -1.625290140790391: 543, -1.118617322888946: 537, -2.030628395111547: 533, 1.5160813301985687: 520, 1.566748611988713: 503, -1.3719537318396686: 433, 1.6174158937788576: 431, -1.5746228590002467: 407, 1.6680831755690022: 377, -1.422621013629813: 363, -1.523955577210102: 343, 1.7187504573591468: 338, -1.9799611133214026: 315, 1.7694177391492911: 293, -1.7772919861608247: 283, -1.4732882954199575: 266, -1.827959267950969: 266, 1.8200850209394357: 260, 1.8707523027295803: 252, -1.9292938315312582: 233, 1.9214195845197248: 225, -1.8786265497411136: 218, 2.022754148100014: 191, 1.9720868663098692: 185, 2.0734214298901583: 127, 2.1240887116803027: 126, 2.1747559934704475: 106, 2.276090557050736: 82, 2.225423275260592: 74, 2.326757838840881: 62, 2.3774251206310253: 51, 2.42809240242117: 50, 2.5294269660014588: 47, 2.4787596842113144: 41, 2.5800942477916036: 39, 2.630761529581748: 38, 2.732096093162037: 27, 2.7827633749521814: 20, 2.6814288113718923: 19, 2.934765220322615: 11, 2.8840979385324705: 9, 2.833430656742326: 8, 2.9854325021127597: 7, 3.036099783902904: 5, 3.1881016292733375: 5, 3.2894361928536267: 4, 3.340103474643771: 4, 3.137434347483193: 4, 3.0867670656930484: 3, 3.5934398835944936: 2, 3.9481108561255054: 1, 3.238768911063482: 1, 3.8974435743353606: 1, 4.5054509558170945: 1, 3.5427726018043493: 1, 3.796109010755072: 1, 3.44143803822406: 1, 4.353449110446661: 1}) \n",
      "\n",
      "num_procedures\n",
      "Counter({-0.784868110556935: 37349, -0.19831546099122993: 16624, 0.3882371885744751: 10131, 0.9747898381401802: 7534, 2.734447786837295: 3928, 1.561342487705885: 3341, 2.14789513727159: 2503}) \n",
      "\n",
      "num_medications\n",
      "Counter({-0.3705251967129147: 4879, -0.49368865925241173: 4816, -0.6168521217919088: 4669, -0.1241982716339205: 4611, -0.24736173417341759: 4593, -0.0010348090944234136: 4351, -0.7400155843314059: 4259, 0.12212865344507366: 3945, -0.863179046870903: 3903, 0.24529211598457074: 3626, -0.9863425094104: 3511, 0.36845557852406785: 3289, 0.4916190410635649: 2976, -1.1095059719498972: 2753, 0.614782503603062: 2547, 0.737945966142559: 2282, -1.2326694344893943: 2196, 0.8611094286820562: 1906, 0.9842728912215533: 1698, -1.3558328970288913: 1618, 1.1074363537610503: 1504, 1.2305998163005474: 1290, -1.4789963595683884: 1136, 1.3537632788400444: 1132, 1.4769267413795415: 966, 1.6000902039190386: 780, -1.6021598221078854: 716, 1.7232536664585356: 685, 1.846417128998033: 570, 1.96958059153753: 503, 2.092744054077027: 386, -1.7253232846473825: 363, 2.215907516616524: 355, 2.339070979156021: 317, 2.4622344416955184: 238, 2.5853979042350153: 234, -1.8484867471868796: 219, 2.7085613667745125: 196, 2.8317248293140094: 165, 2.9548882918535067: 150, 3.0780517543930035: 109, 3.3243786794719976: 108, 3.2012152169325008: 97, 3.693869067090489: 76, 3.5707056045509917: 74, 3.447542142011495: 72, 3.8170325296299863: 61, 4.063359454708981: 50, 3.940195992169483: 50, 4.186522917248478: 45, 4.432849842327472: 44, 4.3096863797879745: 33, 4.556013304866969: 29, 4.92550369248546: 29, 4.679176767406466: 27, 4.802340229945963: 25, 5.048667155024957: 23, 5.171830617564455: 20, 5.294994080103952: 15, 5.541321005182946: 13, 5.418157542643448: 13, 5.78764793026194: 12, 5.664484467722443: 10, 6.033974855340934: 9, 6.403465242959426: 6, 6.280301780419928: 5, 6.157138317880431: 5, 5.9108113928014365: 4, 6.896119093117414: 3, 6.526628705498922: 3, 7.265609480735905: 2, 6.649792168038419: 2, 8.004590255972888: 1, 7.758263330893893: 1, 7.142446018196408: 1}) \n",
      "\n",
      "number_outpatient\n",
      "Counter({-0.2911746303454171: 68018, 0.4997935920317194: 6865, 1.290761814408856: 2872, 2.0817300367859923: 1620, 2.872698259163129: 888, 3.663666481540265: 423, 4.454634703917401: 228, 5.245602926294538: 130, 6.036571148671674: 72, 6.827539371048812: 71, 7.618507593425948: 41, 8.409475815803084: 35, 9.991412260557357: 24, 9.20044403818022: 23, 10.782380482934494: 22, 11.57334870531163: 15, 12.364316927688767: 13, 17.110126261951585: 5, 16.31915803957445: 5, 13.94625337244304: 5, 15.528189817197312: 5, 13.155285150065904: 5, 14.737221594820175: 3, 21.064967373837266: 3, 18.69206270670586: 2, 25.810776708100082: 2, 17.901094484328723: 2, 27.392713152854355: 2, 20.27399915146013: 2, 26.60174493047722: 1, 22.64690381859154: 1, 28.183681375231494: 1, 21.855935596214405: 1, 19.483030929082993: 1, 29.765617819985767: 1, 28.97464959760863: 1, 30.556586042362902: 1, 31.34755426474004: 1}) \n",
      "\n",
      "number_emergency\n",
      "Counter({-0.21415691268690235: 72264, 0.8627789241060262: 6158, 1.939714760898955: 1657, 3.016650597691883: 582, 4.093586434484812: 300, 5.170522271277741: 147, 6.247458108070669: 72, 7.324393944863598: 61, 8.401329781656527: 40, 10.555201455242383: 28, 9.478265618449454: 27, 11.632137292035312: 19, 13.78600896562117: 10, 12.70907312882824: 8, 23.478431496757523: 5, 19.17068814958581: 4, 20.247623986378738: 4, 15.939880639207026: 3, 17.016816475999953: 3, 21.324559823171665: 3, 14.862944802414097: 3, 22.401495659964596: 2, 26.709239007136308: 2, 45.017148232616094: 1, 81.63296668357567: 1, 25.63230317034338: 1, 29.940046517515096: 1, 68.70973664206052: 1, 31.016982354308023: 1, 39.63246904865145: 1, 57.940378274131234: 1}) \n",
      "\n",
      "number_inpatient\n",
      "Counter({-0.5022683705624524: 54100, 0.2872903698308675: 15646, 1.0768491102241873: 6047, 1.8664078506175072: 2691, 2.655966591010827: 1285, 3.445525331404147: 661, 4.235084071797467: 388, 5.024642812190787: 220, 5.814201552584107: 119, 6.603760292977426: 94, 7.393319033370746: 50, 8.182877773764066: 40, 8.972436514157385: 29, 9.761995254550706: 16, 10.551553994944026: 9, 11.341112735337346: 7, 12.130671475730665: 4, 14.499347696910625: 2, 12.920230216123985: 1, 13.709788956517306: 1}) \n",
      "\n",
      "number_diagnoses\n"
     ]
    },
    {
     "name": "stdout",
     "output_type": "stream",
     "text": [
      "Counter({0.8159869476590422: 39570, -1.2521953205380214: 9119, 0.2989413806097763: 8494, -0.2181041864394896: 8301, -0.7351497534887556: 8121, -1.7692408875872874: 4446, -2.2862864546365533: 2280, -2.803332021685819: 818, -3.320377588735085: 168, 4.4353059170039035: 37, 1.3330325147083082: 14, 2.884169215856106: 13, 2.36712364880684: 8, 1.850078081757574: 8, 3.4012147829053716: 7, 3.918260349954638: 6}) \n",
      "\n"
     ]
    }
   ],
   "source": [
    "for col in X_train.columns:\n",
    "    print(col)\n",
    "    print(Counter(X_train[col]), '\\n')"
   ]
  },
  {
   "cell_type": "code",
   "execution_count": 54,
   "metadata": {},
   "outputs": [],
   "source": [
    "y_train = df_train['label'].values"
   ]
  },
  {
   "cell_type": "code",
   "execution_count": 55,
   "metadata": {},
   "outputs": [],
   "source": [
    "from sklearn.neural_network import MLPClassifier"
   ]
  },
  {
   "cell_type": "markdown",
   "metadata": {},
   "source": [
    "## Cross Validation Pipeline"
   ]
  },
  {
   "cell_type": "code",
   "execution_count": 56,
   "metadata": {},
   "outputs": [
    {
     "data": {
      "text/plain": [
       "dict_keys(['memory', 'steps', 'verbose', 'sampling', 'model', 'sampling__k_neighbors', 'sampling__n_jobs', 'sampling__random_state', 'sampling__sampling_strategy', 'model__activation', 'model__alpha', 'model__batch_size', 'model__beta_1', 'model__beta_2', 'model__early_stopping', 'model__epsilon', 'model__hidden_layer_sizes', 'model__learning_rate', 'model__learning_rate_init', 'model__max_fun', 'model__max_iter', 'model__momentum', 'model__n_iter_no_change', 'model__nesterovs_momentum', 'model__power_t', 'model__random_state', 'model__shuffle', 'model__solver', 'model__tol', 'model__validation_fraction', 'model__verbose', 'model__warm_start'])"
      ]
     },
     "execution_count": 56,
     "metadata": {},
     "output_type": "execute_result"
    }
   ],
   "source": [
    "pipe = Pipeline([\n",
    "        ('sampling', SMOTE(random_state=random_state)),\n",
    "        ('model', MLPClassifier())\n",
    "    ])\n",
    "\n",
    "pipe.get_params().keys()"
   ]
  },
  {
   "cell_type": "code",
   "execution_count": 57,
   "metadata": {},
   "outputs": [],
   "source": [
    "param_grid={\n",
    "'model__learning_rate': [\"constant\"],\n",
    "'model__hidden_layer_sizes': [(30, 10), (20, 20, 20), (20, 20, 15)],\n",
    "'model__alpha': [.015], #between .01 and .5 is best. .1 seemed best after trying .01 to 1, started getting worse at .5 \n",
    "'model__activation': [\"relu\"]\n",
    "}\n",
    "\n",
    "# Recall = TP/TP+FN -> Of the ones that are positive, how many did we indicate as positive\n",
    "# AUROC = area under curve TPR (TP/TP+FN) vs. FPR (FP/TN+FP) at various thresholds\n",
    "scoring = ['accuracy', 'roc_auc', 'recall']"
   ]
  },
  {
   "cell_type": "code",
   "execution_count": 58,
   "metadata": {},
   "outputs": [],
   "source": [
    "clf = GridSearchCV(pipe, param_grid, cv=3, verbose=5, scoring=scoring, refit='roc_auc', return_train_score=True)"
   ]
  },
  {
   "cell_type": "code",
   "execution_count": 63,
   "metadata": {},
   "outputs": [
    {
     "name": "stdout",
     "output_type": "stream",
     "text": [
      "Fitting 3 folds for each of 3 candidates, totalling 9 fits\n",
      "[CV] model__activation=relu, model__alpha=0.015, model__hidden_layer_sizes=(30, 10), model__learning_rate=constant \n"
     ]
    },
    {
     "name": "stderr",
     "output_type": "stream",
     "text": [
      "[Parallel(n_jobs=1)]: Using backend SequentialBackend with 1 concurrent workers.\n",
      "/Users/kalyaniasthana/opt/anaconda3/lib/python3.7/site-packages/sklearn/neural_network/_multilayer_perceptron.py:585: ConvergenceWarning: Stochastic Optimizer: Maximum iterations (200) reached and the optimization hasn't converged yet.\n",
      "  % self.max_iter, ConvergenceWarning)\n"
     ]
    },
    {
     "name": "stdout",
     "output_type": "stream",
     "text": [
      "[CV]  model__activation=relu, model__alpha=0.015, model__hidden_layer_sizes=(30, 10), model__learning_rate=constant, accuracy=(train=0.863, test=0.832), recall=(train=0.233, test=0.126), roc_auc=(train=0.733, test=0.579), total= 3.0min\n",
      "[CV] model__activation=relu, model__alpha=0.015, model__hidden_layer_sizes=(30, 10), model__learning_rate=constant \n"
     ]
    },
    {
     "name": "stderr",
     "output_type": "stream",
     "text": [
      "[Parallel(n_jobs=1)]: Done   1 out of   1 | elapsed:  3.0min remaining:    0.0s\n"
     ]
    },
    {
     "name": "stdout",
     "output_type": "stream",
     "text": [
      "[CV]  model__activation=relu, model__alpha=0.015, model__hidden_layer_sizes=(30, 10), model__learning_rate=constant, accuracy=(train=0.860, test=0.832), recall=(train=0.246, test=0.143), roc_auc=(train=0.723, test=0.573), total= 2.2min\n",
      "[CV] model__activation=relu, model__alpha=0.015, model__hidden_layer_sizes=(30, 10), model__learning_rate=constant \n"
     ]
    },
    {
     "name": "stderr",
     "output_type": "stream",
     "text": [
      "[Parallel(n_jobs=1)]: Done   2 out of   2 | elapsed:  5.2min remaining:    0.0s\n"
     ]
    },
    {
     "name": "stdout",
     "output_type": "stream",
     "text": [
      "[CV]  model__activation=relu, model__alpha=0.015, model__hidden_layer_sizes=(30, 10), model__learning_rate=constant, accuracy=(train=0.852, test=0.817), recall=(train=0.278, test=0.151), roc_auc=(train=0.728, test=0.571), total= 1.5min\n",
      "[CV] model__activation=relu, model__alpha=0.015, model__hidden_layer_sizes=(20, 20, 20), model__learning_rate=constant \n"
     ]
    },
    {
     "name": "stderr",
     "output_type": "stream",
     "text": [
      "[Parallel(n_jobs=1)]: Done   3 out of   3 | elapsed:  6.8min remaining:    0.0s\n"
     ]
    },
    {
     "name": "stdout",
     "output_type": "stream",
     "text": [
      "[CV]  model__activation=relu, model__alpha=0.015, model__hidden_layer_sizes=(20, 20, 20), model__learning_rate=constant, accuracy=(train=0.841, test=0.816), recall=(train=0.254, test=0.165), roc_auc=(train=0.690, test=0.575), total= 2.1min\n",
      "[CV] model__activation=relu, model__alpha=0.015, model__hidden_layer_sizes=(20, 20, 20), model__learning_rate=constant \n"
     ]
    },
    {
     "name": "stderr",
     "output_type": "stream",
     "text": [
      "[Parallel(n_jobs=1)]: Done   4 out of   4 | elapsed:  8.8min remaining:    0.0s\n"
     ]
    },
    {
     "name": "stdout",
     "output_type": "stream",
     "text": [
      "[CV]  model__activation=relu, model__alpha=0.015, model__hidden_layer_sizes=(20, 20, 20), model__learning_rate=constant, accuracy=(train=0.882, test=0.866), recall=(train=0.111, test=0.057), roc_auc=(train=0.706, test=0.574), total= 3.8min\n",
      "[CV] model__activation=relu, model__alpha=0.015, model__hidden_layer_sizes=(20, 20, 20), model__learning_rate=constant \n",
      "[CV]  model__activation=relu, model__alpha=0.015, model__hidden_layer_sizes=(20, 20, 20), model__learning_rate=constant, accuracy=(train=0.866, test=0.841), recall=(train=0.223, test=0.128), roc_auc=(train=0.727, test=0.592), total= 3.0min\n",
      "[CV] model__activation=relu, model__alpha=0.015, model__hidden_layer_sizes=(20, 20, 15), model__learning_rate=constant \n"
     ]
    },
    {
     "name": "stderr",
     "output_type": "stream",
     "text": [
      "/Users/kalyaniasthana/opt/anaconda3/lib/python3.7/site-packages/sklearn/neural_network/_multilayer_perceptron.py:585: ConvergenceWarning: Stochastic Optimizer: Maximum iterations (200) reached and the optimization hasn't converged yet.\n",
      "  % self.max_iter, ConvergenceWarning)\n"
     ]
    },
    {
     "name": "stdout",
     "output_type": "stream",
     "text": [
      "[CV]  model__activation=relu, model__alpha=0.015, model__hidden_layer_sizes=(20, 20, 15), model__learning_rate=constant, accuracy=(train=0.830, test=0.800), recall=(train=0.325, test=0.213), roc_auc=(train=0.710, test=0.587), total= 3.4min\n",
      "[CV] model__activation=relu, model__alpha=0.015, model__hidden_layer_sizes=(20, 20, 15), model__learning_rate=constant \n",
      "[CV]  model__activation=relu, model__alpha=0.015, model__hidden_layer_sizes=(20, 20, 15), model__learning_rate=constant, accuracy=(train=0.848, test=0.822), recall=(train=0.250, test=0.150), roc_auc=(train=0.703, test=0.557), total= 2.1min\n",
      "[CV] model__activation=relu, model__alpha=0.015, model__hidden_layer_sizes=(20, 20, 15), model__learning_rate=constant \n",
      "[CV]  model__activation=relu, model__alpha=0.015, model__hidden_layer_sizes=(20, 20, 15), model__learning_rate=constant, accuracy=(train=0.874, test=0.855), recall=(train=0.177, test=0.113), roc_auc=(train=0.709, test=0.594), total= 2.5min\n"
     ]
    },
    {
     "name": "stderr",
     "output_type": "stream",
     "text": [
      "[Parallel(n_jobs=1)]: Done   9 out of   9 | elapsed: 23.6min finished\n"
     ]
    }
   ],
   "source": [
    "best_model = clf.fit(X_train, y_train)"
   ]
  },
  {
   "cell_type": "code",
   "execution_count": 64,
   "metadata": {},
   "outputs": [
    {
     "data": {
      "text/plain": [
       "Pipeline(steps=[('sampling', SMOTE(random_state=0)),\n",
       "                ('model',\n",
       "                 MLPClassifier(alpha=0.015, hidden_layer_sizes=(20, 20, 20)))])"
      ]
     },
     "execution_count": 64,
     "metadata": {},
     "output_type": "execute_result"
    }
   ],
   "source": [
    "best_model.best_estimator_"
   ]
  },
  {
   "cell_type": "code",
   "execution_count": 65,
   "metadata": {},
   "outputs": [],
   "source": [
    "df_test = pd.read_csv('dataset_diabetes/diabetic_data_test.csv')"
   ]
  },
  {
   "cell_type": "code",
   "execution_count": 66,
   "metadata": {},
   "outputs": [],
   "source": [
    "df_test = df_test[[col for col in df_test.columns if col not in remove_cols]]"
   ]
  },
  {
   "cell_type": "code",
   "execution_count": 67,
   "metadata": {},
   "outputs": [],
   "source": [
    "df_test['label'] = df_test.apply(lambda x: binarize_readmitted(x['readmitted']), axis=1)"
   ]
  },
  {
   "cell_type": "code",
   "execution_count": 68,
   "metadata": {},
   "outputs": [
    {
     "data": {
      "text/plain": [
       "[('NO', 0.5380760538469097),\n",
       " ('>30', 0.34966100029478236),\n",
       " ('<30', 0.11226294585830796)]"
      ]
     },
     "execution_count": 68,
     "metadata": {},
     "output_type": "execute_result"
    }
   ],
   "source": [
    "[(key, val/len(df_test.readmitted)) for (key, val) in Counter(df_test.readmitted).most_common()]"
   ]
  },
  {
   "cell_type": "code",
   "execution_count": 69,
   "metadata": {},
   "outputs": [
    {
     "data": {
      "text/plain": [
       "[(0, 0.887737054141692), (1, 0.11226294585830796)]"
      ]
     },
     "execution_count": 69,
     "metadata": {},
     "output_type": "execute_result"
    }
   ],
   "source": [
    "[(key, val/len(df_test.readmitted)) for (key, val) in Counter(df_test['label']).most_common()]"
   ]
  },
  {
   "cell_type": "code",
   "execution_count": 70,
   "metadata": {},
   "outputs": [],
   "source": [
    "df_test['age_processed'] = df_test.apply(lambda x: map_age(x['age']), axis=1)\n",
    "df_test['admission_type_processed'] = df_test.apply(lambda x: map_admission(x['admission_type_id']), axis=1)\n",
    "df_test['discharged_processed'] = df_test.apply(lambda x: discharged_home(x['discharge_disposition_id']), axis=1)\n",
    "df_test['source_processed'] = df_test.apply(lambda x: map_source(x['admission_source_id']), axis=1)"
   ]
  },
  {
   "cell_type": "code",
   "execution_count": 71,
   "metadata": {},
   "outputs": [],
   "source": [
    "df_test['diag1_processed'] = df_test.apply(lambda x: map_diag(x['diag_1']), axis=1)\n",
    "df_test['diag2_processed'] = df_test.apply(lambda x: map_diag(x['diag_2']), axis=1)\n",
    "df_test['diag3_processed'] = df_test.apply(lambda x: map_diag(x['diag_3']), axis=1)\n",
    "df_test['change_processed'] = df_test.apply(lambda x: binarize_yn(x['change']), axis=1)\n",
    "df_test['diabetesMed_processed'] = df_test.apply(lambda x: binarize_yn(x['diabetesMed']), axis=1)"
   ]
  },
  {
   "cell_type": "code",
   "execution_count": 72,
   "metadata": {},
   "outputs": [
    {
     "name": "stdout",
     "output_type": "stream",
     "text": [
      "20353\n"
     ]
    }
   ],
   "source": [
    "df_test = df_test[df_test.gender != 'Unknown/Invalid']\n",
    "print(len(df_test))"
   ]
  },
  {
   "cell_type": "code",
   "execution_count": 73,
   "metadata": {},
   "outputs": [],
   "source": [
    "df_test_sub = df_test[ohe_cols]"
   ]
  },
  {
   "cell_type": "code",
   "execution_count": 74,
   "metadata": {},
   "outputs": [],
   "source": [
    "test_ohe = ohe.fit_transform(df_test_sub).toarray()"
   ]
  },
  {
   "cell_type": "code",
   "execution_count": 75,
   "metadata": {},
   "outputs": [],
   "source": [
    "# obtain column names for one hot encoded columns \n",
    "feature_labels = []\n",
    "feature_labels_ = ohe.categories_\n",
    "for col, values in zip(df_test_sub.columns, feature_labels_):\n",
    "    for val in values:\n",
    "        feature_labels.append(col+'_'+val)"
   ]
  },
  {
   "cell_type": "code",
   "execution_count": 76,
   "metadata": {},
   "outputs": [],
   "source": [
    "df_test_ohe = pd.DataFrame(test_ohe, columns = feature_labels)"
   ]
  },
  {
   "cell_type": "code",
   "execution_count": 77,
   "metadata": {},
   "outputs": [],
   "source": [
    "df_test_num = df_test[num_cols]"
   ]
  },
  {
   "cell_type": "code",
   "execution_count": 78,
   "metadata": {},
   "outputs": [],
   "source": [
    "df_test_num_scaled = scaler.fit_transform(df_test_num.astype(np.float64))"
   ]
  },
  {
   "cell_type": "code",
   "execution_count": 79,
   "metadata": {},
   "outputs": [],
   "source": [
    "df_test_num = pd.DataFrame(df_test_num_scaled, index=df_test_num.index, columns=df_test_num.columns)"
   ]
  },
  {
   "cell_type": "code",
   "execution_count": 81,
   "metadata": {},
   "outputs": [
    {
     "name": "stdout",
     "output_type": "stream",
     "text": [
      "(20353, 87) (20353, 12)\n"
     ]
    }
   ],
   "source": [
    "print(df_test_ohe.shape, df_test_num.shape)"
   ]
  },
  {
   "cell_type": "code",
   "execution_count": 84,
   "metadata": {},
   "outputs": [
    {
     "name": "stdout",
     "output_type": "stream",
     "text": [
      "(81410, 88) (81410, 12)\n"
     ]
    }
   ],
   "source": [
    "print(df_train_ohe.shape, df_train_num.shape)"
   ]
  },
  {
   "cell_type": "code",
   "execution_count": 82,
   "metadata": {},
   "outputs": [
    {
     "data": {
      "text/plain": [
       "(20353, 41)"
      ]
     },
     "execution_count": 82,
     "metadata": {},
     "output_type": "execute_result"
    }
   ],
   "source": [
    "df_test.shape"
   ]
  },
  {
   "cell_type": "code",
   "execution_count": 83,
   "metadata": {},
   "outputs": [
    {
     "data": {
      "text/plain": [
       "(81410, 41)"
      ]
     },
     "execution_count": 83,
     "metadata": {},
     "output_type": "execute_result"
    }
   ],
   "source": [
    "df_train.shape"
   ]
  },
  {
   "cell_type": "code",
   "execution_count": null,
   "metadata": {},
   "outputs": [],
   "source": []
  }
 ],
 "metadata": {
  "kernelspec": {
   "display_name": "Python 3",
   "language": "python",
   "name": "python3"
  },
  "language_info": {
   "codemirror_mode": {
    "name": "ipython",
    "version": 3
   },
   "file_extension": ".py",
   "mimetype": "text/x-python",
   "name": "python",
   "nbconvert_exporter": "python",
   "pygments_lexer": "ipython3",
   "version": "3.7.6"
  }
 },
 "nbformat": 4,
 "nbformat_minor": 4
}
