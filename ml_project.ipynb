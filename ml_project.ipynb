{
  "nbformat": 4,
  "nbformat_minor": 0,
  "metadata": {
    "colab": {
      "name": "ml_project.ipynb",
      "provenance": []
    },
    "kernelspec": {
      "name": "python3",
      "display_name": "Python 3"
    }
  },
  "cells": [
    {
      "cell_type": "code",
      "metadata": {
        "id": "fzXl13Xp1MS9"
      },
      "source": [
        "import numpy as np\n",
        "import os\n",
        "import pandas as pd\n",
        "import matplotlib.pyplot as plt\n",
        "from sklearn.metrics import accuracy_score, roc_auc_score\n",
        "from sklearn.preprocessing import OneHotEncoder\n",
        "\n",
        "from collections import Counter"
      ],
      "execution_count": 1,
      "outputs": []
    },
    {
      "cell_type": "code",
      "metadata": {
        "id": "tqs9Y-5B1f9L"
      },
      "source": [
        "pd.set_option('display.max_columns', None)\n",
        "pd.set_option('display.max_rows', None)"
      ],
      "execution_count": 2,
      "outputs": []
    },
    {
      "cell_type": "code",
      "metadata": {
        "id": "IYfEVl5T2B1f"
      },
      "source": [
        "random_state = 42"
      ],
      "execution_count": 3,
      "outputs": []
    },
    {
      "cell_type": "code",
      "metadata": {
        "id": "wPxYhVHF2ENc"
      },
      "source": [
        "directory = os.path.join(os.getcwd(), 'dataset_diabetes')\n",
        "training_set = pd.read_csv(os.path.join(directory, 'diabetic_data_train.csv'))\n",
        "df = training_set.copy()"
      ],
      "execution_count": 4,
      "outputs": []
    },
    {
      "cell_type": "code",
      "metadata": {
        "colab": {
          "base_uri": "https://localhost:8080/"
        },
        "id": "BD8kJrvU2GYr",
        "outputId": "13487ac8-e1ee-4e6f-e4df-35d1845b6823"
      },
      "source": [
        "df.columns"
      ],
      "execution_count": 5,
      "outputs": [
        {
          "output_type": "execute_result",
          "data": {
            "text/plain": [
              "Index(['encounter_id', 'patient_nbr', 'race', 'gender', 'age', 'weight',\n",
              "       'admission_type_id', 'discharge_disposition_id', 'admission_source_id',\n",
              "       'time_in_hospital', 'payer_code', 'medical_specialty',\n",
              "       'num_lab_procedures', 'num_procedures', 'num_medications',\n",
              "       'number_outpatient', 'number_emergency', 'number_inpatient', 'diag_1',\n",
              "       'diag_2', 'diag_3', 'number_diagnoses', 'max_glu_serum', 'A1Cresult',\n",
              "       'metformin', 'repaglinide', 'nateglinide', 'chlorpropamide',\n",
              "       'glimepiride', 'acetohexamide', 'glipizide', 'glyburide', 'tolbutamide',\n",
              "       'pioglitazone', 'rosiglitazone', 'acarbose', 'miglitol', 'troglitazone',\n",
              "       'tolazamide', 'examide', 'citoglipton', 'insulin',\n",
              "       'glyburide-metformin', 'glipizide-metformin',\n",
              "       'glimepiride-pioglitazone', 'metformin-rosiglitazone',\n",
              "       'metformin-pioglitazone', 'change', 'diabetesMed', 'readmitted'],\n",
              "      dtype='object')"
            ]
          },
          "metadata": {
            "tags": []
          },
          "execution_count": 5
        }
      ]
    },
    {
      "cell_type": "code",
      "metadata": {
        "colab": {
          "base_uri": "https://localhost:8080/",
          "height": 326
        },
        "id": "f8_BHCCZ2nyo",
        "outputId": "6b48a9aa-7df1-4fed-8400-394623ecf6e5"
      },
      "source": [
        "df.head()"
      ],
      "execution_count": 6,
      "outputs": [
        {
          "output_type": "execute_result",
          "data": {
            "text/html": [
              "<div>\n",
              "<style scoped>\n",
              "    .dataframe tbody tr th:only-of-type {\n",
              "        vertical-align: middle;\n",
              "    }\n",
              "\n",
              "    .dataframe tbody tr th {\n",
              "        vertical-align: top;\n",
              "    }\n",
              "\n",
              "    .dataframe thead th {\n",
              "        text-align: right;\n",
              "    }\n",
              "</style>\n",
              "<table border=\"1\" class=\"dataframe\">\n",
              "  <thead>\n",
              "    <tr style=\"text-align: right;\">\n",
              "      <th></th>\n",
              "      <th>encounter_id</th>\n",
              "      <th>patient_nbr</th>\n",
              "      <th>race</th>\n",
              "      <th>gender</th>\n",
              "      <th>age</th>\n",
              "      <th>weight</th>\n",
              "      <th>admission_type_id</th>\n",
              "      <th>discharge_disposition_id</th>\n",
              "      <th>admission_source_id</th>\n",
              "      <th>time_in_hospital</th>\n",
              "      <th>payer_code</th>\n",
              "      <th>medical_specialty</th>\n",
              "      <th>num_lab_procedures</th>\n",
              "      <th>num_procedures</th>\n",
              "      <th>num_medications</th>\n",
              "      <th>number_outpatient</th>\n",
              "      <th>number_emergency</th>\n",
              "      <th>number_inpatient</th>\n",
              "      <th>diag_1</th>\n",
              "      <th>diag_2</th>\n",
              "      <th>diag_3</th>\n",
              "      <th>number_diagnoses</th>\n",
              "      <th>max_glu_serum</th>\n",
              "      <th>A1Cresult</th>\n",
              "      <th>metformin</th>\n",
              "      <th>repaglinide</th>\n",
              "      <th>nateglinide</th>\n",
              "      <th>chlorpropamide</th>\n",
              "      <th>glimepiride</th>\n",
              "      <th>acetohexamide</th>\n",
              "      <th>glipizide</th>\n",
              "      <th>glyburide</th>\n",
              "      <th>tolbutamide</th>\n",
              "      <th>pioglitazone</th>\n",
              "      <th>rosiglitazone</th>\n",
              "      <th>acarbose</th>\n",
              "      <th>miglitol</th>\n",
              "      <th>troglitazone</th>\n",
              "      <th>tolazamide</th>\n",
              "      <th>examide</th>\n",
              "      <th>citoglipton</th>\n",
              "      <th>insulin</th>\n",
              "      <th>glyburide-metformin</th>\n",
              "      <th>glipizide-metformin</th>\n",
              "      <th>glimepiride-pioglitazone</th>\n",
              "      <th>metformin-rosiglitazone</th>\n",
              "      <th>metformin-pioglitazone</th>\n",
              "      <th>change</th>\n",
              "      <th>diabetesMed</th>\n",
              "      <th>readmitted</th>\n",
              "    </tr>\n",
              "  </thead>\n",
              "  <tbody>\n",
              "    <tr>\n",
              "      <th>0</th>\n",
              "      <td>81844290</td>\n",
              "      <td>94788</td>\n",
              "      <td>Caucasian</td>\n",
              "      <td>Female</td>\n",
              "      <td>[70-80)</td>\n",
              "      <td>?</td>\n",
              "      <td>1</td>\n",
              "      <td>1</td>\n",
              "      <td>7</td>\n",
              "      <td>4</td>\n",
              "      <td>?</td>\n",
              "      <td>InternalMedicine</td>\n",
              "      <td>48</td>\n",
              "      <td>0</td>\n",
              "      <td>11</td>\n",
              "      <td>0</td>\n",
              "      <td>0</td>\n",
              "      <td>0</td>\n",
              "      <td>276</td>\n",
              "      <td>402</td>\n",
              "      <td>428</td>\n",
              "      <td>9</td>\n",
              "      <td>None</td>\n",
              "      <td>Norm</td>\n",
              "      <td>No</td>\n",
              "      <td>No</td>\n",
              "      <td>No</td>\n",
              "      <td>No</td>\n",
              "      <td>No</td>\n",
              "      <td>No</td>\n",
              "      <td>No</td>\n",
              "      <td>No</td>\n",
              "      <td>No</td>\n",
              "      <td>No</td>\n",
              "      <td>No</td>\n",
              "      <td>No</td>\n",
              "      <td>No</td>\n",
              "      <td>No</td>\n",
              "      <td>No</td>\n",
              "      <td>No</td>\n",
              "      <td>No</td>\n",
              "      <td>No</td>\n",
              "      <td>No</td>\n",
              "      <td>No</td>\n",
              "      <td>No</td>\n",
              "      <td>No</td>\n",
              "      <td>No</td>\n",
              "      <td>No</td>\n",
              "      <td>No</td>\n",
              "      <td>NO</td>\n",
              "    </tr>\n",
              "    <tr>\n",
              "      <th>1</th>\n",
              "      <td>396159158</td>\n",
              "      <td>135023315</td>\n",
              "      <td>Caucasian</td>\n",
              "      <td>Male</td>\n",
              "      <td>[50-60)</td>\n",
              "      <td>?</td>\n",
              "      <td>1</td>\n",
              "      <td>1</td>\n",
              "      <td>7</td>\n",
              "      <td>1</td>\n",
              "      <td>BC</td>\n",
              "      <td>?</td>\n",
              "      <td>42</td>\n",
              "      <td>0</td>\n",
              "      <td>5</td>\n",
              "      <td>0</td>\n",
              "      <td>0</td>\n",
              "      <td>0</td>\n",
              "      <td>427</td>\n",
              "      <td>250</td>\n",
              "      <td>278</td>\n",
              "      <td>6</td>\n",
              "      <td>None</td>\n",
              "      <td>None</td>\n",
              "      <td>No</td>\n",
              "      <td>No</td>\n",
              "      <td>No</td>\n",
              "      <td>No</td>\n",
              "      <td>No</td>\n",
              "      <td>No</td>\n",
              "      <td>No</td>\n",
              "      <td>No</td>\n",
              "      <td>No</td>\n",
              "      <td>No</td>\n",
              "      <td>No</td>\n",
              "      <td>No</td>\n",
              "      <td>No</td>\n",
              "      <td>No</td>\n",
              "      <td>No</td>\n",
              "      <td>No</td>\n",
              "      <td>No</td>\n",
              "      <td>No</td>\n",
              "      <td>No</td>\n",
              "      <td>No</td>\n",
              "      <td>No</td>\n",
              "      <td>No</td>\n",
              "      <td>No</td>\n",
              "      <td>No</td>\n",
              "      <td>No</td>\n",
              "      <td>&gt;30</td>\n",
              "    </tr>\n",
              "    <tr>\n",
              "      <th>2</th>\n",
              "      <td>31258956</td>\n",
              "      <td>18397782</td>\n",
              "      <td>Caucasian</td>\n",
              "      <td>Male</td>\n",
              "      <td>[80-90)</td>\n",
              "      <td>?</td>\n",
              "      <td>1</td>\n",
              "      <td>1</td>\n",
              "      <td>7</td>\n",
              "      <td>4</td>\n",
              "      <td>?</td>\n",
              "      <td>?</td>\n",
              "      <td>44</td>\n",
              "      <td>0</td>\n",
              "      <td>10</td>\n",
              "      <td>0</td>\n",
              "      <td>0</td>\n",
              "      <td>0</td>\n",
              "      <td>599</td>\n",
              "      <td>788</td>\n",
              "      <td>599</td>\n",
              "      <td>7</td>\n",
              "      <td>None</td>\n",
              "      <td>None</td>\n",
              "      <td>No</td>\n",
              "      <td>No</td>\n",
              "      <td>No</td>\n",
              "      <td>No</td>\n",
              "      <td>No</td>\n",
              "      <td>No</td>\n",
              "      <td>No</td>\n",
              "      <td>Steady</td>\n",
              "      <td>No</td>\n",
              "      <td>No</td>\n",
              "      <td>No</td>\n",
              "      <td>No</td>\n",
              "      <td>No</td>\n",
              "      <td>No</td>\n",
              "      <td>No</td>\n",
              "      <td>No</td>\n",
              "      <td>No</td>\n",
              "      <td>No</td>\n",
              "      <td>No</td>\n",
              "      <td>No</td>\n",
              "      <td>No</td>\n",
              "      <td>No</td>\n",
              "      <td>No</td>\n",
              "      <td>No</td>\n",
              "      <td>Yes</td>\n",
              "      <td>NO</td>\n",
              "    </tr>\n",
              "    <tr>\n",
              "      <th>3</th>\n",
              "      <td>210691074</td>\n",
              "      <td>67509558</td>\n",
              "      <td>Caucasian</td>\n",
              "      <td>Male</td>\n",
              "      <td>[80-90)</td>\n",
              "      <td>?</td>\n",
              "      <td>1</td>\n",
              "      <td>3</td>\n",
              "      <td>7</td>\n",
              "      <td>3</td>\n",
              "      <td>MC</td>\n",
              "      <td>?</td>\n",
              "      <td>54</td>\n",
              "      <td>0</td>\n",
              "      <td>8</td>\n",
              "      <td>0</td>\n",
              "      <td>0</td>\n",
              "      <td>0</td>\n",
              "      <td>331</td>\n",
              "      <td>309</td>\n",
              "      <td>331</td>\n",
              "      <td>8</td>\n",
              "      <td>None</td>\n",
              "      <td>None</td>\n",
              "      <td>No</td>\n",
              "      <td>No</td>\n",
              "      <td>No</td>\n",
              "      <td>No</td>\n",
              "      <td>No</td>\n",
              "      <td>No</td>\n",
              "      <td>No</td>\n",
              "      <td>Steady</td>\n",
              "      <td>No</td>\n",
              "      <td>No</td>\n",
              "      <td>No</td>\n",
              "      <td>No</td>\n",
              "      <td>No</td>\n",
              "      <td>No</td>\n",
              "      <td>No</td>\n",
              "      <td>No</td>\n",
              "      <td>No</td>\n",
              "      <td>Steady</td>\n",
              "      <td>No</td>\n",
              "      <td>No</td>\n",
              "      <td>No</td>\n",
              "      <td>No</td>\n",
              "      <td>No</td>\n",
              "      <td>Ch</td>\n",
              "      <td>Yes</td>\n",
              "      <td>NO</td>\n",
              "    </tr>\n",
              "    <tr>\n",
              "      <th>4</th>\n",
              "      <td>104902980</td>\n",
              "      <td>23272362</td>\n",
              "      <td>AfricanAmerican</td>\n",
              "      <td>Female</td>\n",
              "      <td>[70-80)</td>\n",
              "      <td>?</td>\n",
              "      <td>1</td>\n",
              "      <td>11</td>\n",
              "      <td>7</td>\n",
              "      <td>11</td>\n",
              "      <td>MC</td>\n",
              "      <td>Nephrology</td>\n",
              "      <td>35</td>\n",
              "      <td>3</td>\n",
              "      <td>23</td>\n",
              "      <td>0</td>\n",
              "      <td>0</td>\n",
              "      <td>1</td>\n",
              "      <td>38</td>\n",
              "      <td>486</td>\n",
              "      <td>403</td>\n",
              "      <td>8</td>\n",
              "      <td>None</td>\n",
              "      <td>None</td>\n",
              "      <td>No</td>\n",
              "      <td>No</td>\n",
              "      <td>No</td>\n",
              "      <td>No</td>\n",
              "      <td>No</td>\n",
              "      <td>No</td>\n",
              "      <td>No</td>\n",
              "      <td>No</td>\n",
              "      <td>No</td>\n",
              "      <td>No</td>\n",
              "      <td>No</td>\n",
              "      <td>No</td>\n",
              "      <td>No</td>\n",
              "      <td>No</td>\n",
              "      <td>No</td>\n",
              "      <td>No</td>\n",
              "      <td>No</td>\n",
              "      <td>No</td>\n",
              "      <td>No</td>\n",
              "      <td>No</td>\n",
              "      <td>No</td>\n",
              "      <td>No</td>\n",
              "      <td>No</td>\n",
              "      <td>No</td>\n",
              "      <td>No</td>\n",
              "      <td>NO</td>\n",
              "    </tr>\n",
              "  </tbody>\n",
              "</table>\n",
              "</div>"
            ],
            "text/plain": [
              "   encounter_id  patient_nbr             race  gender      age weight  \\\n",
              "0      81844290        94788        Caucasian  Female  [70-80)      ?   \n",
              "1     396159158    135023315        Caucasian    Male  [50-60)      ?   \n",
              "2      31258956     18397782        Caucasian    Male  [80-90)      ?   \n",
              "3     210691074     67509558        Caucasian    Male  [80-90)      ?   \n",
              "4     104902980     23272362  AfricanAmerican  Female  [70-80)      ?   \n",
              "\n",
              "   admission_type_id  discharge_disposition_id  admission_source_id  \\\n",
              "0                  1                         1                    7   \n",
              "1                  1                         1                    7   \n",
              "2                  1                         1                    7   \n",
              "3                  1                         3                    7   \n",
              "4                  1                        11                    7   \n",
              "\n",
              "   time_in_hospital payer_code medical_specialty  num_lab_procedures  \\\n",
              "0                 4          ?  InternalMedicine                  48   \n",
              "1                 1         BC                 ?                  42   \n",
              "2                 4          ?                 ?                  44   \n",
              "3                 3         MC                 ?                  54   \n",
              "4                11         MC        Nephrology                  35   \n",
              "\n",
              "   num_procedures  num_medications  number_outpatient  number_emergency  \\\n",
              "0               0               11                  0                 0   \n",
              "1               0                5                  0                 0   \n",
              "2               0               10                  0                 0   \n",
              "3               0                8                  0                 0   \n",
              "4               3               23                  0                 0   \n",
              "\n",
              "   number_inpatient diag_1 diag_2 diag_3  number_diagnoses max_glu_serum  \\\n",
              "0                 0    276    402    428                 9          None   \n",
              "1                 0    427    250    278                 6          None   \n",
              "2                 0    599    788    599                 7          None   \n",
              "3                 0    331    309    331                 8          None   \n",
              "4                 1     38    486    403                 8          None   \n",
              "\n",
              "  A1Cresult metformin repaglinide nateglinide chlorpropamide glimepiride  \\\n",
              "0      Norm        No          No          No             No          No   \n",
              "1      None        No          No          No             No          No   \n",
              "2      None        No          No          No             No          No   \n",
              "3      None        No          No          No             No          No   \n",
              "4      None        No          No          No             No          No   \n",
              "\n",
              "  acetohexamide glipizide glyburide tolbutamide pioglitazone rosiglitazone  \\\n",
              "0            No        No        No          No           No            No   \n",
              "1            No        No        No          No           No            No   \n",
              "2            No        No    Steady          No           No            No   \n",
              "3            No        No    Steady          No           No            No   \n",
              "4            No        No        No          No           No            No   \n",
              "\n",
              "  acarbose miglitol troglitazone tolazamide examide citoglipton insulin  \\\n",
              "0       No       No           No         No      No          No      No   \n",
              "1       No       No           No         No      No          No      No   \n",
              "2       No       No           No         No      No          No      No   \n",
              "3       No       No           No         No      No          No  Steady   \n",
              "4       No       No           No         No      No          No      No   \n",
              "\n",
              "  glyburide-metformin glipizide-metformin glimepiride-pioglitazone  \\\n",
              "0                  No                  No                       No   \n",
              "1                  No                  No                       No   \n",
              "2                  No                  No                       No   \n",
              "3                  No                  No                       No   \n",
              "4                  No                  No                       No   \n",
              "\n",
              "  metformin-rosiglitazone metformin-pioglitazone change diabetesMed readmitted  \n",
              "0                      No                     No     No          No         NO  \n",
              "1                      No                     No     No          No        >30  \n",
              "2                      No                     No     No         Yes         NO  \n",
              "3                      No                     No     Ch         Yes         NO  \n",
              "4                      No                     No     No          No         NO  "
            ]
          },
          "metadata": {
            "tags": []
          },
          "execution_count": 6
        }
      ]
    },
    {
      "cell_type": "code",
      "metadata": {
        "id": "RpNAj1S8283l"
      },
      "source": [
        "df.drop(['encounter_id', 'patient_nbr', 'payer_code', 'weight'], axis=1, inplace=True)"
      ],
      "execution_count": 7,
      "outputs": []
    },
    {
      "cell_type": "code",
      "metadata": {
        "colab": {
          "base_uri": "https://localhost:8080/"
        },
        "id": "VlDxSZJH5DTw",
        "outputId": "b86e42e5-d91e-4c33-eb43-d52b1a7d1715"
      },
      "source": [
        "for col in df.columns:\n",
        "  print(df.groupby(col)[col].value_counts())"
      ],
      "execution_count": 8,
      "outputs": [
        {
          "output_type": "stream",
          "text": [
            "race             race           \n",
            "?                ?                   1824\n",
            "AfricanAmerican  AfricanAmerican    15325\n",
            "Asian            Asian                517\n",
            "Caucasian        Caucasian          60871\n",
            "Hispanic         Hispanic            1650\n",
            "Other            Other               1225\n",
            "Name: race, dtype: int64\n",
            "gender           gender         \n",
            "Female           Female             43740\n",
            "Male             Male               37670\n",
            "Unknown/Invalid  Unknown/Invalid        2\n",
            "Name: gender, dtype: int64\n",
            "age       age     \n",
            "[0-10)    [0-10)        131\n",
            "[10-20)   [10-20)       551\n",
            "[20-30)   [20-30)      1335\n",
            "[30-40)   [30-40)      3030\n",
            "[40-50)   [40-50)      7810\n",
            "[50-60)   [50-60)     13741\n",
            "[60-70)   [60-70)     17959\n",
            "[70-80)   [70-80)     20879\n",
            "[80-90)   [80-90)     13737\n",
            "[90-100)  [90-100)     2239\n",
            "Name: age, dtype: int64\n",
            "admission_type_id  admission_type_id\n",
            "1                  1                    43218\n",
            "2                  2                    14845\n",
            "3                  3                    15052\n",
            "4                  4                       10\n",
            "5                  5                     3845\n",
            "6                  6                     4177\n",
            "7                  7                       13\n",
            "8                  8                      252\n",
            "Name: admission_type_id, dtype: int64\n",
            "discharge_disposition_id  discharge_disposition_id\n",
            "1                         1                           48288\n",
            "2                         2                            1696\n",
            "3                         3                           11069\n",
            "4                         4                             654\n",
            "5                         5                             958\n",
            "6                         6                           10295\n",
            "7                         7                             491\n",
            "8                         8                              90\n",
            "9                         9                              19\n",
            "10                        10                              4\n",
            "11                        11                           1303\n",
            "12                        12                              3\n",
            "13                        13                            315\n",
            "14                        14                            302\n",
            "15                        15                             47\n",
            "16                        16                             10\n",
            "17                        17                             11\n",
            "18                        18                           2971\n",
            "19                        19                              6\n",
            "20                        20                              1\n",
            "22                        22                           1586\n",
            "23                        23                            339\n",
            "24                        24                             34\n",
            "25                        25                            803\n",
            "27                        27                              2\n",
            "28                        28                            115\n",
            "Name: discharge_disposition_id, dtype: int64\n",
            "admission_source_id  admission_source_id\n",
            "1                    1                      23644\n",
            "2                    2                        881\n",
            "3                    3                        143\n",
            "4                    4                       2578\n",
            "5                    5                        674\n",
            "6                    6                       1823\n",
            "7                    7                      45990\n",
            "8                    8                         14\n",
            "9                    9                        106\n",
            "10                   10                         4\n",
            "11                   11                         2\n",
            "13                   13                         1\n",
            "14                   14                         2\n",
            "17                   17                      5404\n",
            "20                   20                       133\n",
            "22                   22                        11\n",
            "25                   25                         2\n",
            "Name: admission_source_id, dtype: int64\n",
            "time_in_hospital  time_in_hospital\n",
            "1                 1                   11376\n",
            "2                 2                   13819\n",
            "3                 3                   14169\n",
            "4                 4                   11087\n",
            "5                 5                    7926\n",
            "6                 6                    6033\n",
            "7                 7                    4704\n",
            "8                 8                    3505\n",
            "9                 9                    2425\n",
            "10                10                   1890\n",
            "11                11                   1476\n",
            "12                12                   1157\n",
            "13                13                   1004\n",
            "14                14                    841\n",
            "Name: time_in_hospital, dtype: int64\n",
            "medical_specialty                     medical_specialty                   \n",
            "?                                     ?                                       39969\n",
            "AllergyandImmunology                  AllergyandImmunology                        4\n",
            "Anesthesiology                        Anesthesiology                              6\n",
            "Anesthesiology-Pediatric              Anesthesiology-Pediatric                   13\n",
            "Cardiology                            Cardiology                               4283\n",
            "Cardiology-Pediatric                  Cardiology-Pediatric                        5\n",
            "DCPTEAM                               DCPTEAM                                     4\n",
            "Dentistry                             Dentistry                                   4\n",
            "Dermatology                           Dermatology                                 1\n",
            "Emergency/Trauma                      Emergency/Trauma                         6043\n",
            "Endocrinology                         Endocrinology                              97\n",
            "Endocrinology-Metabolism              Endocrinology-Metabolism                    7\n",
            "Family/GeneralPractice                Family/GeneralPractice                   5912\n",
            "Gastroenterology                      Gastroenterology                          449\n",
            "Gynecology                            Gynecology                                 46\n",
            "Hematology                            Hematology                                 67\n",
            "Hematology/Oncology                   Hematology/Oncology                       165\n",
            "Hospitalist                           Hospitalist                                43\n",
            "InfectiousDiseases                    InfectiousDiseases                         32\n",
            "InternalMedicine                      InternalMedicine                        11737\n",
            "Nephrology                            Nephrology                               1290\n",
            "Neurology                             Neurology                                 170\n",
            "Neurophysiology                       Neurophysiology                             1\n",
            "Obsterics&Gynecology-GynecologicOnco  Obsterics&Gynecology-GynecologicOnco       22\n",
            "Obstetrics                            Obstetrics                                 17\n",
            "ObstetricsandGynecology               ObstetricsandGynecology                   528\n",
            "Oncology                              Oncology                                  270\n",
            "Ophthalmology                         Ophthalmology                              31\n",
            "Orthopedics                           Orthopedics                              1118\n",
            "Orthopedics-Reconstructive            Orthopedics-Reconstructive                972\n",
            "Osteopath                             Osteopath                                  34\n",
            "Otolaryngology                        Otolaryngology                             99\n",
            "OutreachServices                      OutreachServices                           10\n",
            "Pathology                             Pathology                                  15\n",
            "Pediatrics                            Pediatrics                                191\n",
            "Pediatrics-AllergyandImmunology       Pediatrics-AllergyandImmunology             2\n",
            "Pediatrics-CriticalCare               Pediatrics-CriticalCare                    68\n",
            "Pediatrics-EmergencyMedicine          Pediatrics-EmergencyMedicine                3\n",
            "Pediatrics-Endocrinology              Pediatrics-Endocrinology                  131\n",
            "Pediatrics-Hematology-Oncology        Pediatrics-Hematology-Oncology              4\n",
            "Pediatrics-InfectiousDiseases         Pediatrics-InfectiousDiseases               1\n",
            "Pediatrics-Neurology                  Pediatrics-Neurology                        9\n",
            "Pediatrics-Pulmonology                Pediatrics-Pulmonology                     21\n",
            "PhysicalMedicineandRehabilitation     PhysicalMedicineandRehabilitation         325\n",
            "PhysicianNotFound                     PhysicianNotFound                           9\n",
            "Podiatry                              Podiatry                                   71\n",
            "Proctology                            Proctology                                  1\n",
            "Psychiatry                            Psychiatry                                677\n",
            "Psychiatry-Addictive                  Psychiatry-Addictive                        1\n",
            "Psychiatry-Child/Adolescent           Psychiatry-Child/Adolescent                 6\n",
            "Psychology                            Psychology                                 82\n",
            "Pulmonology                           Pulmonology                               708\n",
            "Radiologist                           Radiologist                               933\n",
            "Radiology                             Radiology                                  38\n",
            "Resident                              Resident                                    2\n",
            "Rheumatology                          Rheumatology                               15\n",
            "Speech                                Speech                                      1\n",
            "SportsMedicine                        SportsMedicine                              1\n",
            "Surgeon                               Surgeon                                    29\n",
            "Surgery-Cardiovascular                Surgery-Cardiovascular                     79\n",
            "Surgery-Cardiovascular/Thoracic       Surgery-Cardiovascular/Thoracic           528\n",
            "Surgery-Colon&Rectal                  Surgery-Colon&Rectal                       10\n",
            "Surgery-General                       Surgery-General                          2483\n",
            "Surgery-Maxillofacial                 Surgery-Maxillofacial                       9\n",
            "Surgery-Neuro                         Surgery-Neuro                             373\n",
            "Surgery-Pediatric                     Surgery-Pediatric                           5\n",
            "Surgery-Plastic                       Surgery-Plastic                            34\n",
            "Surgery-PlasticwithinHeadandNeck      Surgery-PlasticwithinHeadandNeck            1\n",
            "Surgery-Thoracic                      Surgery-Thoracic                           79\n",
            "Surgery-Vascular                      Surgery-Vascular                          434\n",
            "SurgicalSpecialty                     SurgicalSpecialty                          23\n",
            "Urology                               Urology                                   561\n",
            "Name: medical_specialty, dtype: int64\n",
            "num_lab_procedures  num_lab_procedures\n",
            "1                   1                     2598\n",
            "2                   2                      901\n",
            "3                   3                      533\n",
            "4                   4                      315\n",
            "5                   5                      233\n",
            "6                   6                      218\n",
            "7                   7                      266\n",
            "8                   8                      283\n",
            "9                   9                      754\n",
            "10                  10                     675\n",
            "11                  11                     543\n",
            "12                  12                     407\n",
            "13                  13                     343\n",
            "14                  14                     266\n",
            "15                  15                     363\n",
            "16                  16                     433\n",
            "17                  17                     605\n",
            "18                  18                     572\n",
            "19                  19                     769\n",
            "20                  20                     605\n",
            "21                  21                     537\n",
            "22                  22                     582\n",
            "23                  23                     657\n",
            "24                  24                     602\n",
            "25                  25                     848\n",
            "26                  26                     875\n",
            "27                  27                     680\n",
            "28                  28                     824\n",
            "29                  29                    1060\n",
            "30                  30                    1077\n",
            "31                  31                    1047\n",
            "32                  32                    1045\n",
            "33                  33                    1024\n",
            "34                  34                    1368\n",
            "35                  35                    1541\n",
            "36                  36                    1587\n",
            "37                  37                    1695\n",
            "38                  38                    1786\n",
            "39                  39                    1647\n",
            "40                  40                    1775\n",
            "41                  41                    1685\n",
            "42                  42                    1661\n",
            "43                  43                    2208\n",
            "44                  44                    1984\n",
            "45                  45                    1905\n",
            "46                  46                    1725\n",
            "47                  47                    1674\n",
            "48                  48                    1647\n",
            "49                  49                    1630\n",
            "50                  50                    1538\n",
            "51                  51                    1528\n",
            "52                  52                    1506\n",
            "53                  53                    1439\n",
            "54                  54                    1509\n",
            "55                  55                    1460\n",
            "56                  56                    1463\n",
            "57                  57                    1400\n",
            "58                  58                    1370\n",
            "59                  59                    1279\n",
            "60                  60                    1286\n",
            "61                  61                    1318\n",
            "62                  62                    1130\n",
            "63                  63                    1136\n",
            "64                  64                    1091\n",
            "65                  65                     972\n",
            "66                  66                     984\n",
            "67                  67                     872\n",
            "68                  68                     841\n",
            "69                  69                     794\n",
            "70                  70                     666\n",
            "71                  71                     614\n",
            "72                  72                     604\n",
            "73                  73                     520\n",
            "74                  74                     503\n",
            "75                  75                     431\n",
            "76                  76                     377\n",
            "77                  77                     338\n",
            "78                  78                     293\n",
            "79                  79                     260\n",
            "80                  80                     252\n",
            "81                  81                     225\n",
            "82                  82                     185\n",
            "83                  83                     191\n",
            "84                  84                     127\n",
            "85                  85                     126\n",
            "86                  86                     106\n",
            "87                  87                      74\n",
            "88                  88                      82\n",
            "89                  89                      62\n",
            "90                  90                      51\n",
            "91                  91                      50\n",
            "92                  92                      41\n",
            "93                  93                      47\n",
            "94                  94                      39\n",
            "95                  95                      38\n",
            "96                  96                      19\n",
            "97                  97                      27\n",
            "98                  98                      20\n",
            "99                  99                       8\n",
            "100                 100                      9\n",
            "101                 101                     11\n",
            "102                 102                      7\n",
            "103                 103                      5\n",
            "104                 104                      3\n",
            "105                 105                      4\n",
            "106                 106                      5\n",
            "107                 107                      1\n",
            "108                 108                      4\n",
            "109                 109                      4\n",
            "111                 111                      1\n",
            "113                 113                      1\n",
            "114                 114                      2\n",
            "118                 118                      1\n",
            "120                 120                      1\n",
            "121                 121                      1\n",
            "129                 129                      1\n",
            "132                 132                      1\n",
            "Name: num_lab_procedures, dtype: int64\n",
            "num_procedures  num_procedures\n",
            "0               0                 37349\n",
            "1               1                 16625\n",
            "2               2                 10132\n",
            "3               3                  7534\n",
            "4               4                  3341\n",
            "5               5                  2503\n",
            "6               6                  3928\n",
            "Name: num_procedures, dtype: int64\n",
            "num_medications  num_medications\n",
            "1                1                   219\n",
            "2                2                   363\n",
            "3                3                   716\n",
            "4                4                  1136\n",
            "5                5                  1618\n",
            "6                6                  2197\n",
            "7                7                  2753\n",
            "8                8                  3511\n",
            "9                9                  3903\n",
            "10               10                 4259\n",
            "11               11                 4669\n",
            "12               12                 4816\n",
            "13               13                 4879\n",
            "14               14                 4593\n",
            "15               15                 4611\n",
            "16               16                 4351\n",
            "17               17                 3945\n",
            "18               18                 3626\n",
            "19               19                 3289\n",
            "20               20                 2976\n",
            "21               21                 2548\n",
            "22               22                 2282\n",
            "23               23                 1906\n",
            "24               24                 1698\n",
            "25               25                 1504\n",
            "26               26                 1290\n",
            "27               27                 1132\n",
            "28               28                  966\n",
            "29               29                  780\n",
            "30               30                  685\n",
            "31               31                  570\n",
            "32               32                  503\n",
            "33               33                  386\n",
            "34               34                  355\n",
            "35               35                  317\n",
            "36               36                  238\n",
            "37               37                  234\n",
            "38               38                  196\n",
            "39               39                  165\n",
            "40               40                  150\n",
            "41               41                  109\n",
            "42               42                   97\n",
            "43               43                  108\n",
            "44               44                   72\n",
            "45               45                   74\n",
            "46               46                   76\n",
            "47               47                   61\n",
            "48               48                   50\n",
            "49               49                   50\n",
            "50               50                   45\n",
            "51               51                   33\n",
            "52               52                   44\n",
            "53               53                   29\n",
            "54               54                   27\n",
            "55               55                   25\n",
            "56               56                   29\n",
            "57               57                   23\n",
            "58               58                   20\n",
            "59               59                   15\n",
            "60               60                   13\n",
            "61               61                   13\n",
            "62               62                   10\n",
            "63               63                   12\n",
            "64               64                    4\n",
            "65               65                    9\n",
            "66               66                    5\n",
            "67               67                    5\n",
            "68               68                    6\n",
            "69               69                    3\n",
            "70               70                    2\n",
            "72               72                    3\n",
            "74               74                    1\n",
            "75               75                    2\n",
            "79               79                    1\n",
            "81               81                    1\n",
            "Name: num_medications, dtype: int64\n",
            "number_outpatient  number_outpatient\n",
            "0                  0                    68020\n",
            "1                  1                     6865\n",
            "2                  2                     2872\n",
            "3                  3                     1620\n",
            "4                  4                      888\n",
            "5                  5                      423\n",
            "6                  6                      228\n",
            "7                  7                      130\n",
            "8                  8                       72\n",
            "9                  9                       71\n",
            "10                 10                      41\n",
            "11                 11                      35\n",
            "12                 12                      23\n",
            "13                 13                      24\n",
            "14                 14                      22\n",
            "15                 15                      15\n",
            "16                 16                      13\n",
            "17                 17                       5\n",
            "18                 18                       5\n",
            "19                 19                       3\n",
            "20                 20                       5\n",
            "21                 21                       5\n",
            "22                 22                       5\n",
            "23                 23                       2\n",
            "24                 24                       2\n",
            "25                 25                       1\n",
            "26                 26                       2\n",
            "27                 27                       3\n",
            "28                 28                       1\n",
            "29                 29                       1\n",
            "33                 33                       2\n",
            "34                 34                       1\n",
            "35                 35                       2\n",
            "36                 36                       1\n",
            "37                 37                       1\n",
            "38                 38                       1\n",
            "39                 39                       1\n",
            "40                 40                       1\n",
            "Name: number_outpatient, dtype: int64\n",
            "number_emergency  number_emergency\n",
            "0                 0                   72266\n",
            "1                 1                    6158\n",
            "2                 2                    1657\n",
            "3                 3                     582\n",
            "4                 4                     300\n",
            "5                 5                     147\n",
            "6                 6                      72\n",
            "7                 7                      61\n",
            "8                 8                      40\n",
            "9                 9                      27\n",
            "10                10                     28\n",
            "11                11                     19\n",
            "12                12                      8\n",
            "13                13                     10\n",
            "14                14                      3\n",
            "15                15                      3\n",
            "16                16                      3\n",
            "18                18                      4\n",
            "19                19                      4\n",
            "20                20                      3\n",
            "21                21                      2\n",
            "22                22                      5\n",
            "24                24                      1\n",
            "25                25                      2\n",
            "28                28                      1\n",
            "29                29                      1\n",
            "37                37                      1\n",
            "42                42                      1\n",
            "54                54                      1\n",
            "64                64                      1\n",
            "76                76                      1\n",
            "Name: number_emergency, dtype: int64\n",
            "number_inpatient  number_inpatient\n",
            "0                 0                   54102\n",
            "1                 1                   15646\n",
            "2                 2                    6047\n",
            "3                 3                    2691\n",
            "4                 4                    1285\n",
            "5                 5                     661\n",
            "6                 6                     388\n",
            "7                 7                     220\n",
            "8                 8                     119\n",
            "9                 9                      94\n",
            "10                10                     50\n",
            "11                11                     40\n",
            "12                12                     29\n",
            "13                13                     16\n",
            "14                14                      9\n",
            "15                15                      7\n",
            "16                16                      4\n",
            "17                17                      1\n",
            "18                18                      1\n",
            "19                19                      2\n",
            "Name: number_inpatient, dtype: int64\n",
            "diag_1  diag_1\n",
            "11      11           7\n",
            "110     110          1\n",
            "112     112         61\n",
            "115     115          2\n",
            "117     117          8\n",
            "131     131          2\n",
            "133     133          1\n",
            "135     135         19\n",
            "136     136          4\n",
            "141     141          6\n",
            "142     142          4\n",
            "143     143          1\n",
            "146     146          3\n",
            "147     147          1\n",
            "149     149          2\n",
            "150     150         19\n",
            "151     151         48\n",
            "152     152         11\n",
            "153     153        247\n",
            "154     154         75\n",
            "155     155         42\n",
            "156     156         16\n",
            "157     157         89\n",
            "158     158          9\n",
            "161     161          9\n",
            "162     162        333\n",
            "163     163          6\n",
            "164     164          2\n",
            "170     170          2\n",
            "171     171         10\n",
            "172     172          3\n",
            "173     173          3\n",
            "174     174        126\n",
            "175     175          4\n",
            "179     179          3\n",
            "180     180          3\n",
            "182     182         86\n",
            "183     183         26\n",
            "184     184          8\n",
            "185     185        145\n",
            "187     187          2\n",
            "188     188         83\n",
            "189     189         99\n",
            "191     191         30\n",
            "192     192          3\n",
            "193     193         23\n",
            "194     194          2\n",
            "195     195          6\n",
            "196     196         21\n",
            "197     197        262\n",
            "198     198        196\n",
            "199     199         11\n",
            "200     200         14\n",
            "201     201          7\n",
            "202     202         86\n",
            "203     203         27\n",
            "204     204         20\n",
            "205     205         22\n",
            "207     207          1\n",
            "208     208          4\n",
            "210     210          6\n",
            "211     211         76\n",
            "212     212          7\n",
            "214     214          4\n",
            "215     215          5\n",
            "216     216          1\n",
            "217     217          1\n",
            "218     218        103\n",
            "219     219          1\n",
            "220     220         36\n",
            "223     223          6\n",
            "225     225         40\n",
            "226     226         15\n",
            "227     227         32\n",
            "228     228          5\n",
            "229     229          2\n",
            "23      23           2\n",
            "230     230          7\n",
            "233     233         24\n",
            "235     235         23\n",
            "236     236          3\n",
            "237     237          4\n",
            "238     238         52\n",
            "239     239         25\n",
            "240     240          2\n",
            "241     241         46\n",
            "242     242         15\n",
            "244     244          9\n",
            "245     245          4\n",
            "246     246          2\n",
            "250     250        191\n",
            "250.01  250.01      53\n",
            "250.02  250.02     542\n",
            "250.03  250.03     159\n",
            "250.1   250.1      250\n",
            "250.11  250.11     509\n",
            "250.12  250.12     342\n",
            "250.13  250.13     670\n",
            "250.2   250.2       97\n",
            "250.21  250.21      11\n",
            "250.22  250.22     126\n",
            "250.23  250.23      25\n",
            "250.3   250.3       15\n",
            "250.31  250.31      13\n",
            "250.32  250.32      14\n",
            "250.33  250.33      15\n",
            "250.4   250.4      204\n",
            "250.41  250.41      75\n",
            "250.42  250.42      67\n",
            "250.43  250.43      22\n",
            "250.5   250.5        4\n",
            "250.51  250.51       1\n",
            "250.52  250.52       3\n",
            "250.53  250.53       4\n",
            "250.6   250.6      946\n",
            "250.7   250.7      685\n",
            "250.8   250.8     1321\n",
            "250.81  250.81     157\n",
            "250.82  250.82     328\n",
            "250.83  250.83      74\n",
            "250.9   250.9        6\n",
            "250.91  250.91       3\n",
            "250.92  250.92      43\n",
            "250.93  250.93      12\n",
            "251     251         14\n",
            "252     252         19\n",
            "253     253         38\n",
            "255     255         20\n",
            "261     261          3\n",
            "262     262          2\n",
            "263     263         11\n",
            "266     266          3\n",
            "27      27           1\n",
            "271     271          2\n",
            "272     272          6\n",
            "273     273          3\n",
            "274     274         79\n",
            "275     275         41\n",
            "276     276       1533\n",
            "277     277         30\n",
            "278     278        310\n",
            "279     279          2\n",
            "280     280        256\n",
            "281     281         14\n",
            "282     282         47\n",
            "283     283         24\n",
            "284     284         47\n",
            "285     285        302\n",
            "286     286         30\n",
            "287     287         68\n",
            "288     288         75\n",
            "289     289         12\n",
            "290     290         67\n",
            "291     291         75\n",
            "292     292         86\n",
            "293     293         42\n",
            "294     294         93\n",
            "295     295        350\n",
            "296     296        729\n",
            "297     297         11\n",
            "298     298         55\n",
            "299     299          1\n",
            "3       3           10\n",
            "300     300         72\n",
            "301     301          4\n",
            "303     303         53\n",
            "304     304         28\n",
            "305     305         18\n",
            "306     306          9\n",
            "307     307         17\n",
            "308     308          3\n",
            "309     309         32\n",
            "31      31           3\n",
            "310     310         10\n",
            "311     311         45\n",
            "312     312         14\n",
            "314     314          1\n",
            "320     320          4\n",
            "323     323          9\n",
            "324     324          5\n",
            "325     325          1\n",
            "327     327         20\n",
            "331     331        155\n",
            "332     332         41\n",
            "333     333         29\n",
            "334     334          2\n",
            "335     335          7\n",
            "336     336          2\n",
            "337     337          6\n",
            "338     338         17\n",
            "34      34           6\n",
            "340     340         37\n",
            "341     341          7\n",
            "342     342          4\n",
            "344     344          6\n",
            "345     345         96\n",
            "346     346         68\n",
            "347     347          1\n",
            "348     348        122\n",
            "349     349         28\n",
            "35      35           8\n",
            "350     350          9\n",
            "351     351         25\n",
            "352     352          1\n",
            "353     353          3\n",
            "354     354          8\n",
            "355     355         14\n",
            "356     356          4\n",
            "357     357         18\n",
            "358     358         10\n",
            "359     359          6\n",
            "36      36           2\n",
            "360     360          2\n",
            "361     361          4\n",
            "362     362          5\n",
            "363     363          1\n",
            "366     366          1\n",
            "368     368         10\n",
            "369     369          2\n",
            "370     370          3\n",
            "372     372          1\n",
            "373     373          1\n",
            "374     374          3\n",
            "375     375          1\n",
            "376     376          8\n",
            "377     377          3\n",
            "378     378         13\n",
            "379     379          3\n",
            "38      38        1361\n",
            "380     380         13\n",
            "381     381          1\n",
            "382     382          4\n",
            "383     383          7\n",
            "384     384          1\n",
            "385     385          2\n",
            "386     386        122\n",
            "388     388          3\n",
            "389     389          1\n",
            "39      39           1\n",
            "391     391          1\n",
            "394     394          8\n",
            "395     395          5\n",
            "396     396         23\n",
            "397     397          5\n",
            "398     398        108\n",
            "401     401        290\n",
            "402     402        368\n",
            "403     403        410\n",
            "404     404        216\n",
            "405     405          3\n",
            "41      41           6\n",
            "410     410       2854\n",
            "411     411        203\n",
            "412     412          1\n",
            "413     413         97\n",
            "414     414       5258\n",
            "415     415        362\n",
            "416     416         54\n",
            "42      42          35\n",
            "420     420         52\n",
            "421     421         32\n",
            "422     422          2\n",
            "423     423         59\n",
            "424     424        154\n",
            "425     425         72\n",
            "426     426        234\n",
            "427     427       2222\n",
            "428     428       5551\n",
            "429     429         33\n",
            "430     430         26\n",
            "431     431        134\n",
            "432     432         71\n",
            "433     433        624\n",
            "434     434       1628\n",
            "435     435        820\n",
            "436     436        134\n",
            "437     437         75\n",
            "438     438         65\n",
            "440     440        671\n",
            "441     441        101\n",
            "442     442         29\n",
            "443     443         89\n",
            "444     444        126\n",
            "445     445          6\n",
            "446     446         19\n",
            "447     447         46\n",
            "448     448          2\n",
            "451     451         34\n",
            "452     452          4\n",
            "453     453        432\n",
            "454     454          6\n",
            "455     455         78\n",
            "456     456         17\n",
            "457     457         12\n",
            "458     458        350\n",
            "459     459         81\n",
            "461     461         14\n",
            "462     462         10\n",
            "463     463          4\n",
            "464     464          8\n",
            "465     465         36\n",
            "466     466        193\n",
            "47      47          24\n",
            "470     470          4\n",
            "473     473         18\n",
            "474     474          4\n",
            "475     475         10\n",
            "477     477          1\n",
            "478     478         28\n",
            "48      48           2\n",
            "480     480         17\n",
            "481     481         55\n",
            "482     482        275\n",
            "483     483          3\n",
            "485     485         39\n",
            "486     486       2847\n",
            "487     487         82\n",
            "49      49           2\n",
            "490     490         65\n",
            "491     491       1816\n",
            "492     492         23\n",
            "493     493        830\n",
            "494     494         18\n",
            "495     495          4\n",
            "496     496         70\n",
            "5       5            8\n",
            "500     500          2\n",
            "501     501          3\n",
            "506     506          2\n",
            "507     507        485\n",
            "508     508          5\n",
            "510     510         25\n",
            "511     511        213\n",
            "512     512         36\n",
            "513     513         14\n",
            "514     514         36\n",
            "515     515        102\n",
            "516     516         27\n",
            "518     518        899\n",
            "519     519         38\n",
            "52      52           2\n",
            "521     521          9\n",
            "522     522         19\n",
            "523     523          1\n",
            "524     524          3\n",
            "526     526          4\n",
            "527     527         22\n",
            "528     528         15\n",
            "529     529          2\n",
            "53      53          43\n",
            "530     530        434\n",
            "531     531        214\n",
            "532     532        172\n",
            "533     533         20\n",
            "534     534         16\n",
            "535     535        359\n",
            "536     536        107\n",
            "537     537         91\n",
            "54      54          11\n",
            "540     540        168\n",
            "541     541          5\n",
            "542     542          2\n",
            "543     543          1\n",
            "550     550         42\n",
            "551     551          7\n",
            "552     552        178\n",
            "553     553        114\n",
            "555     555         44\n",
            "556     556         34\n",
            "557     557        157\n",
            "558     558        271\n",
            "560     560        707\n",
            "562     562        774\n",
            "564     564        127\n",
            "565     565         11\n",
            "566     566         70\n",
            "567     567         41\n",
            "568     568         29\n",
            "569     569        241\n",
            "57      57           1\n",
            "570     570          5\n",
            "571     571        216\n",
            "572     572        199\n",
            "573     573         34\n",
            "574     574        761\n",
            "575     575        169\n",
            "576     576         76\n",
            "577     577        846\n",
            "578     578        518\n",
            "579     579          4\n",
            "58      58           2\n",
            "580     580          2\n",
            "581     581         19\n",
            "583     583          5\n",
            "584     584       1237\n",
            "585     585         60\n",
            "586     586         19\n",
            "588     588          8\n",
            "590     590        274\n",
            "591     591         17\n",
            "592     592        281\n",
            "593     593         84\n",
            "594     594         11\n",
            "595     595         77\n",
            "596     596         44\n",
            "598     598          5\n",
            "599     599       1266\n",
            "600     600        166\n",
            "601     601         11\n",
            "602     602          3\n",
            "603     603          3\n",
            "604     604         26\n",
            "607     607         20\n",
            "608     608         54\n",
            "61      61           1\n",
            "610     610          2\n",
            "611     611         26\n",
            "614     614         18\n",
            "615     615          1\n",
            "616     616         21\n",
            "617     617         15\n",
            "618     618        121\n",
            "619     619          4\n",
            "620     620         32\n",
            "621     621         19\n",
            "622     622          4\n",
            "623     623          3\n",
            "625     625         48\n",
            "626     626         67\n",
            "627     627         16\n",
            "632     632          2\n",
            "633     633          4\n",
            "634     634          2\n",
            "637     637          1\n",
            "641     641          8\n",
            "642     642         52\n",
            "643     643          5\n",
            "644     644         19\n",
            "645     645          2\n",
            "646     646          6\n",
            "647     647          4\n",
            "648     648        219\n",
            "649     649          1\n",
            "652     652         12\n",
            "653     653          2\n",
            "654     654         73\n",
            "655     655          4\n",
            "656     656         17\n",
            "657     657          2\n",
            "658     658         23\n",
            "659     659         28\n",
            "66      66           4\n",
            "660     660         10\n",
            "661     661         21\n",
            "663     663          5\n",
            "664     664         16\n",
            "665     665          1\n",
            "669     669          3\n",
            "674     674          3\n",
            "680     680         14\n",
            "681     681         85\n",
            "682     682       1636\n",
            "683     683          1\n",
            "684     684          1\n",
            "685     685          6\n",
            "686     686          6\n",
            "690     690          1\n",
            "691     691          1\n",
            "692     692          4\n",
            "693     693         20\n",
            "694     694          4\n",
            "695     695         12\n",
            "696     696          5\n",
            "698     698          1\n",
            "7       7            2\n",
            "70      70          39\n",
            "700     700          1\n",
            "704     704          1\n",
            "705     705          8\n",
            "706     706          2\n",
            "707     707        206\n",
            "708     708          8\n",
            "709     709          6\n",
            "710     710         22\n",
            "711     711         56\n",
            "714     714         34\n",
            "715     715       1710\n",
            "716     716         42\n",
            "717     717          7\n",
            "718     718         13\n",
            "719     719         40\n",
            "720     720          3\n",
            "721     721        145\n",
            "722     722        595\n",
            "723     723         61\n",
            "724     724        354\n",
            "725     725          9\n",
            "726     726         76\n",
            "727     727         40\n",
            "728     728         93\n",
            "729     729         85\n",
            "730     730        184\n",
            "731     731          4\n",
            "732     732          2\n",
            "733     733        284\n",
            "734     734          3\n",
            "735     735          2\n",
            "736     736         11\n",
            "737     737          8\n",
            "738     738         46\n",
            "745     745          5\n",
            "746     746          7\n",
            "747     747          6\n",
            "75      75           2\n",
            "751     751          3\n",
            "753     753          5\n",
            "756     756         13\n",
            "759     759          5\n",
            "78      78           8\n",
            "780     780       1598\n",
            "781     781         89\n",
            "782     782         68\n",
            "783     783         22\n",
            "784     784        124\n",
            "785     785         72\n",
            "786     786       3169\n",
            "787     787        210\n",
            "788     788         33\n",
            "789     789        461\n",
            "79      79          66\n",
            "790     790        119\n",
            "792     792          5\n",
            "793     793          4\n",
            "794     794         24\n",
            "795     795          2\n",
            "796     796          6\n",
            "797     797          2\n",
            "799     799         56\n",
            "8       8          400\n",
            "800     800          4\n",
            "801     801         23\n",
            "802     802         23\n",
            "803     803          3\n",
            "804     804          1\n",
            "805     805        140\n",
            "806     806          3\n",
            "807     807         69\n",
            "808     808        116\n",
            "810     810          7\n",
            "812     812        186\n",
            "813     813         64\n",
            "814     814          4\n",
            "815     815          7\n",
            "816     816          6\n",
            "817     817          1\n",
            "82      82           7\n",
            "820     820        851\n",
            "821     821        116\n",
            "822     822         38\n",
            "823     823         94\n",
            "824     824        249\n",
            "825     825         19\n",
            "826     826          3\n",
            "831     831          8\n",
            "832     832          1\n",
            "833     833          1\n",
            "834     834          1\n",
            "835     835          3\n",
            "836     836          4\n",
            "837     837          1\n",
            "838     838          1\n",
            "839     839          1\n",
            "84      84           1\n",
            "840     840         11\n",
            "843     843         10\n",
            "844     844         23\n",
            "845     845          5\n",
            "846     846          2\n",
            "847     847         12\n",
            "848     848          2\n",
            "850     850         46\n",
            "851     851         28\n",
            "852     852         89\n",
            "853     853         10\n",
            "854     854          4\n",
            "860     860         27\n",
            "861     861         10\n",
            "862     862          3\n",
            "863     863          2\n",
            "864     864          6\n",
            "865     865          7\n",
            "866     866          6\n",
            "867     867         12\n",
            "868     868          1\n",
            "870     870          1\n",
            "871     871          2\n",
            "873     873         15\n",
            "875     875          1\n",
            "878     878          1\n",
            "879     879          3\n",
            "88      88           9\n",
            "880     880          2\n",
            "881     881          2\n",
            "882     882          7\n",
            "883     883          5\n",
            "885     885          1\n",
            "886     886          4\n",
            "890     890          6\n",
            "891     891          6\n",
            "892     892         10\n",
            "893     893          2\n",
            "895     895          1\n",
            "897     897          2\n",
            "9       9           38\n",
            "903     903          1\n",
            "904     904          2\n",
            "906     906          1\n",
            "911     911          1\n",
            "913     913          2\n",
            "914     914          2\n",
            "916     916          4\n",
            "917     917          2\n",
            "920     920         17\n",
            "921     921          3\n",
            "922     922         34\n",
            "923     923          3\n",
            "924     924         47\n",
            "928     928          3\n",
            "933     933         12\n",
            "934     934          3\n",
            "935     935          9\n",
            "936     936          2\n",
            "939     939          1\n",
            "94      94           6\n",
            "941     941          2\n",
            "942     942          4\n",
            "945     945          5\n",
            "952     952          8\n",
            "955     955          1\n",
            "958     958         14\n",
            "959     959         33\n",
            "962     962         42\n",
            "963     963          3\n",
            "964     964          6\n",
            "965     965         36\n",
            "966     966          8\n",
            "967     967         12\n",
            "968     968          6\n",
            "969     969         49\n",
            "97      97           1\n",
            "970     970          8\n",
            "971     971          3\n",
            "972     972         14\n",
            "973     973          2\n",
            "974     974          1\n",
            "975     975          2\n",
            "977     977         11\n",
            "98      98           1\n",
            "980     980          2\n",
            "982     982          1\n",
            "983     983          1\n",
            "986     986          1\n",
            "987     987          3\n",
            "989     989          9\n",
            "990     990          1\n",
            "991     991          4\n",
            "992     992          9\n",
            "994     994          1\n",
            "995     995         60\n",
            "996     996       1555\n",
            "997     997        343\n",
            "998     998        622\n",
            "999     999         25\n",
            "?       ?           17\n",
            "E909    E909         1\n",
            "V07     V07          1\n",
            "V25     V25          1\n",
            "V26     V26          2\n",
            "V43     V43          1\n",
            "V45     V45          5\n",
            "V53     V53         37\n",
            "V54     V54         30\n",
            "V55     V55         59\n",
            "V56     V56         14\n",
            "V57     V57        986\n",
            "V58     V58        185\n",
            "V60     V60          1\n",
            "V63     V63          6\n",
            "V66     V66          2\n",
            "V67     V67          1\n",
            "V70     V70          1\n",
            "V71     V71          4\n",
            "Name: diag_1, dtype: int64\n",
            "diag_2  diag_2\n",
            "11      11           3\n",
            "110     110          7\n",
            "111     111          1\n",
            "112     112        159\n",
            "114     114          1\n",
            "115     115          1\n",
            "117     117          6\n",
            "123     123          1\n",
            "130     130          1\n",
            "131     131          2\n",
            "135     135         95\n",
            "136     136          4\n",
            "137     137          1\n",
            "138     138         16\n",
            "141     141          2\n",
            "145     145          1\n",
            "150     150         29\n",
            "151     151         15\n",
            "152     152         10\n",
            "153     153         76\n",
            "154     154         35\n",
            "155     155         25\n",
            "156     156         12\n",
            "157     157         74\n",
            "162     162        316\n",
            "163     163          1\n",
            "172     172          8\n",
            "173     173          1\n",
            "174     174         25\n",
            "179     179          2\n",
            "182     182          1\n",
            "183     183         12\n",
            "185     185         22\n",
            "188     188         10\n",
            "189     189         38\n",
            "191     191         10\n",
            "192     192          1\n",
            "193     193          4\n",
            "195     195          1\n",
            "196     196        172\n",
            "197     197        317\n",
            "198     198        264\n",
            "199     199         10\n",
            "200     200         16\n",
            "201     201         16\n",
            "202     202        150\n",
            "203     203         72\n",
            "204     204        101\n",
            "205     205         47\n",
            "208     208          4\n",
            "211     211         43\n",
            "212     212          1\n",
            "214     214          7\n",
            "215     215          1\n",
            "217     217          3\n",
            "218     218         34\n",
            "220     220          7\n",
            "223     223          1\n",
            "225     225          4\n",
            "226     226          2\n",
            "227     227          6\n",
            "228     228          1\n",
            "232     232          1\n",
            "233     233         11\n",
            "235     235          1\n",
            "238     238         14\n",
            "239     239          2\n",
            "240     240          2\n",
            "241     241          9\n",
            "242     242         72\n",
            "244     244        125\n",
            "245     245          5\n",
            "246     246          4\n",
            "250     250       4840\n",
            "250.01  250.01    1228\n",
            "250.02  250.02    1646\n",
            "250.03  250.03     187\n",
            "250.1   250.1       15\n",
            "250.11  250.11      63\n",
            "250.12  250.12      76\n",
            "250.13  250.13      88\n",
            "250.2   250.2        9\n",
            "250.21  250.21       3\n",
            "250.22  250.22      28\n",
            "250.23  250.23       2\n",
            "250.3   250.3        2\n",
            "250.31  250.31       1\n",
            "250.32  250.32       3\n",
            "250.33  250.33       4\n",
            "250.4   250.4      145\n",
            "250.41  250.41     181\n",
            "250.42  250.42      83\n",
            "250.43  250.43      29\n",
            "250.5   250.5       54\n",
            "250.51  250.51      55\n",
            "250.52  250.52      46\n",
            "250.53  250.53      20\n",
            "250.6   250.6      711\n",
            "250.7   250.7      110\n",
            "250.8   250.8      167\n",
            "250.81  250.81      75\n",
            "250.82  250.82     138\n",
            "250.83  250.83      29\n",
            "250.9   250.9        5\n",
            "250.91  250.91       5\n",
            "250.92  250.92     157\n",
            "250.93  250.93      12\n",
            "251     251          7\n",
            "252     252         14\n",
            "253     253         32\n",
            "255     255         55\n",
            "256     256          1\n",
            "258     258          1\n",
            "259     259          3\n",
            "260     260          9\n",
            "261     261         10\n",
            "262     262         10\n",
            "263     263        138\n",
            "266     266          5\n",
            "268     268          1\n",
            "269     269          2\n",
            "27      27           1\n",
            "270     270          1\n",
            "272     272        340\n",
            "273     273          5\n",
            "274     274         23\n",
            "275     275         27\n",
            "276     276       5497\n",
            "277     277         51\n",
            "278     278        219\n",
            "279     279         10\n",
            "280     280        478\n",
            "281     281         14\n",
            "282     282         42\n",
            "283     283         13\n",
            "284     284        128\n",
            "285     285       1222\n",
            "286     286         92\n",
            "287     287        245\n",
            "288     288         61\n",
            "289     289         30\n",
            "290     290         41\n",
            "291     291         58\n",
            "292     292         77\n",
            "293     293         62\n",
            "294     294        127\n",
            "295     295        318\n",
            "296     296        129\n",
            "297     297          6\n",
            "298     298         16\n",
            "299     299          6\n",
            "300     300        124\n",
            "301     301         51\n",
            "303     303        237\n",
            "304     304        142\n",
            "305     305        569\n",
            "306     306          2\n",
            "307     307         10\n",
            "308     308          3\n",
            "309     309         39\n",
            "31      31           3\n",
            "310     310          5\n",
            "311     311         64\n",
            "312     312         18\n",
            "314     314         11\n",
            "316     316          1\n",
            "317     317          7\n",
            "318     318          1\n",
            "319     319         15\n",
            "320     320          4\n",
            "322     322          5\n",
            "323     323          5\n",
            "324     324          7\n",
            "327     327         32\n",
            "331     331         83\n",
            "332     332         35\n",
            "333     333         11\n",
            "335     335          8\n",
            "336     336          5\n",
            "337     337         40\n",
            "338     338         13\n",
            "34      34           9\n",
            "340     340         98\n",
            "341     341          2\n",
            "342     342        176\n",
            "343     343          5\n",
            "344     344         58\n",
            "345     345         39\n",
            "346     346         18\n",
            "348     348        106\n",
            "349     349         29\n",
            "351     351          2\n",
            "352     352          1\n",
            "353     353          1\n",
            "354     354          9\n",
            "355     355          4\n",
            "356     356         11\n",
            "357     357         62\n",
            "358     358         21\n",
            "359     359         12\n",
            "360     360          3\n",
            "362     362         18\n",
            "364     364          1\n",
            "365     365          8\n",
            "366     366          2\n",
            "368     368         19\n",
            "369     369          6\n",
            "372     372          5\n",
            "373     373          2\n",
            "376     376          3\n",
            "377     377          3\n",
            "378     378         11\n",
            "379     379          2\n",
            "38      38         366\n",
            "380     380          6\n",
            "381     381          2\n",
            "382     382         12\n",
            "383     383          3\n",
            "386     386         18\n",
            "389     389          5\n",
            "394     394         18\n",
            "395     395          2\n",
            "396     396        149\n",
            "397     397         45\n",
            "398     398         27\n",
            "40      40           9\n",
            "401     401       2980\n",
            "402     402        265\n",
            "403     403       2249\n",
            "404     404        155\n",
            "405     405          3\n",
            "41      41         306\n",
            "410     410        436\n",
            "411     411       2065\n",
            "412     412         82\n",
            "413     413        814\n",
            "414     414       2129\n",
            "415     415         87\n",
            "416     416         78\n",
            "42      42          68\n",
            "420     420         18\n",
            "421     421         19\n",
            "422     422          4\n",
            "423     423         13\n",
            "424     424        880\n",
            "425     425       1202\n",
            "426     426        234\n",
            "427     427       3984\n",
            "428     428       5313\n",
            "429     429         28\n",
            "430     430          5\n",
            "431     431         11\n",
            "432     432         17\n",
            "433     433        121\n",
            "434     434        152\n",
            "435     435         69\n",
            "436     436         21\n",
            "437     437         56\n",
            "438     438        215\n",
            "440     440        321\n",
            "441     441         34\n",
            "442     442         11\n",
            "443     443         63\n",
            "444     444         73\n",
            "446     446         22\n",
            "447     447         21\n",
            "448     448          3\n",
            "451     451         27\n",
            "452     452          6\n",
            "453     453        274\n",
            "454     454          5\n",
            "455     455         28\n",
            "456     456         58\n",
            "457     457          4\n",
            "458     458        117\n",
            "459     459         46\n",
            "46      46           1\n",
            "460     460          1\n",
            "461     461          6\n",
            "462     462         14\n",
            "463     463          3\n",
            "464     464          2\n",
            "465     465         45\n",
            "466     466         89\n",
            "470     470          3\n",
            "472     472          2\n",
            "473     473         25\n",
            "474     474          2\n",
            "477     477          2\n",
            "478     478         25\n",
            "480     480          5\n",
            "481     481         28\n",
            "482     482         90\n",
            "483     483          2\n",
            "484     484          3\n",
            "485     485          8\n",
            "486     486       1102\n",
            "487     487         16\n",
            "490     490         43\n",
            "491     491       1242\n",
            "492     492        179\n",
            "493     493        699\n",
            "494     494         11\n",
            "495     495          4\n",
            "496     496       2613\n",
            "5       5            1\n",
            "500     500          4\n",
            "501     501          3\n",
            "506     506          1\n",
            "507     507        152\n",
            "508     508          4\n",
            "510     510         11\n",
            "511     511        399\n",
            "512     512         39\n",
            "513     513          4\n",
            "514     514         12\n",
            "515     515        128\n",
            "516     516         24\n",
            "517     517          8\n",
            "518     518       1088\n",
            "519     519         21\n",
            "521     521          4\n",
            "522     522          3\n",
            "524     524          7\n",
            "527     527          3\n",
            "528     528          6\n",
            "529     529          1\n",
            "53      53          29\n",
            "530     530        232\n",
            "531     531         35\n",
            "532     532         20\n",
            "533     533          8\n",
            "534     534          2\n",
            "535     535        156\n",
            "536     536        160\n",
            "537     537         25\n",
            "54      54           5\n",
            "540     540         10\n",
            "542     542          2\n",
            "543     543          2\n",
            "550     550         12\n",
            "552     552         39\n",
            "553     553         62\n",
            "555     555         22\n",
            "556     556         14\n",
            "557     557         22\n",
            "558     558         86\n",
            "560     560        321\n",
            "562     562        114\n",
            "564     564         64\n",
            "565     565          6\n",
            "566     566         14\n",
            "567     567         68\n",
            "568     568         55\n",
            "569     569        130\n",
            "570     570         13\n",
            "571     571        339\n",
            "572     572         70\n",
            "573     573         38\n",
            "574     574        275\n",
            "575     575         48\n",
            "576     576         71\n",
            "577     577        310\n",
            "578     578        284\n",
            "579     579          7\n",
            "580     580          1\n",
            "581     581         62\n",
            "583     583         17\n",
            "584     584       1324\n",
            "585     585       1507\n",
            "586     586          7\n",
            "588     588          5\n",
            "590     590        110\n",
            "591     591        184\n",
            "592     592         64\n",
            "593     593        100\n",
            "594     594          7\n",
            "595     595         57\n",
            "596     596         47\n",
            "598     598          4\n",
            "599     599       2624\n",
            "600     600         29\n",
            "601     601         18\n",
            "602     602          1\n",
            "603     603          2\n",
            "604     604          5\n",
            "605     605          1\n",
            "607     607         11\n",
            "608     608          7\n",
            "610     610          2\n",
            "611     611         20\n",
            "614     614         16\n",
            "615     615          1\n",
            "616     616         21\n",
            "617     617         19\n",
            "618     618         28\n",
            "619     619          6\n",
            "620     620         22\n",
            "621     621          7\n",
            "622     622          2\n",
            "623     623          4\n",
            "625     625         36\n",
            "626     626         23\n",
            "627     627         10\n",
            "634     634          2\n",
            "642     642         21\n",
            "644     644          4\n",
            "645     645          3\n",
            "646     646          6\n",
            "647     647          4\n",
            "648     648        277\n",
            "649     649          1\n",
            "652     652          2\n",
            "654     654          1\n",
            "656     656          3\n",
            "658     658          1\n",
            "659     659          2\n",
            "66      66           1\n",
            "661     661          2\n",
            "663     663          1\n",
            "664     664          4\n",
            "665     665          1\n",
            "670     670          1\n",
            "674     674          1\n",
            "680     680         21\n",
            "681     681         32\n",
            "682     682       1169\n",
            "683     683          1\n",
            "684     684          5\n",
            "685     685          6\n",
            "686     686          5\n",
            "691     691          3\n",
            "692     692          4\n",
            "693     693          9\n",
            "694     694          6\n",
            "695     695          1\n",
            "696     696         11\n",
            "698     698          5\n",
            "7       7            1\n",
            "70      70         205\n",
            "701     701          6\n",
            "702     702          1\n",
            "703     703          1\n",
            "704     704          1\n",
            "705     705          8\n",
            "706     706          9\n",
            "707     707       1601\n",
            "709     709          9\n",
            "710     710        123\n",
            "711     711         33\n",
            "712     712          6\n",
            "713     713          6\n",
            "714     714         25\n",
            "715     715        100\n",
            "716     716         18\n",
            "717     717          8\n",
            "718     718         12\n",
            "719     719         70\n",
            "721     721         50\n",
            "722     722        111\n",
            "723     723         50\n",
            "724     724        109\n",
            "725     725          4\n",
            "726     726         16\n",
            "727     727         23\n",
            "728     728        113\n",
            "729     729         71\n",
            "730     730        197\n",
            "731     731         66\n",
            "733     733        146\n",
            "736     736         13\n",
            "737     737          9\n",
            "738     738         19\n",
            "741     741          8\n",
            "742     742          1\n",
            "745     745         12\n",
            "746     746         14\n",
            "747     747          5\n",
            "748     748          1\n",
            "75      75           2\n",
            "750     750          5\n",
            "751     751          1\n",
            "752     752          1\n",
            "753     753         17\n",
            "754     754          1\n",
            "755     755          2\n",
            "756     756         11\n",
            "758     758          7\n",
            "759     759          4\n",
            "78      78           2\n",
            "780     780       1192\n",
            "781     781         94\n",
            "782     782         64\n",
            "783     783         23\n",
            "784     784        150\n",
            "785     785        397\n",
            "786     786        517\n",
            "787     787        158\n",
            "788     788        306\n",
            "789     789        266\n",
            "79      79          20\n",
            "790     790        189\n",
            "791     791          6\n",
            "792     792         11\n",
            "793     793          3\n",
            "794     794         48\n",
            "795     795          1\n",
            "796     796          7\n",
            "797     797          2\n",
            "799     799        250\n",
            "8       8          171\n",
            "800     800          1\n",
            "801     801          3\n",
            "802     802         20\n",
            "805     805         64\n",
            "806     806          4\n",
            "807     807         38\n",
            "808     808         40\n",
            "810     810          2\n",
            "811     811          1\n",
            "812     812         29\n",
            "813     813         19\n",
            "815     815          2\n",
            "816     816         12\n",
            "820     820         49\n",
            "821     821         16\n",
            "822     822          2\n",
            "823     823         11\n",
            "824     824         14\n",
            "825     825          7\n",
            "826     826          3\n",
            "831     831          3\n",
            "832     832          1\n",
            "833     833          1\n",
            "836     836          8\n",
            "837     837          3\n",
            "840     840         13\n",
            "842     842          3\n",
            "843     843          1\n",
            "844     844          3\n",
            "845     845          6\n",
            "846     846          1\n",
            "847     847          3\n",
            "850     850         24\n",
            "851     851          5\n",
            "852     852         11\n",
            "853     853          1\n",
            "860     860         16\n",
            "861     861          7\n",
            "862     862          2\n",
            "864     864          5\n",
            "865     865          5\n",
            "866     866          2\n",
            "867     867          8\n",
            "868     868          5\n",
            "869     869          1\n",
            "870     870          3\n",
            "871     871          1\n",
            "872     872          2\n",
            "873     873         35\n",
            "879     879          1\n",
            "88      88           1\n",
            "881     881         10\n",
            "882     882          7\n",
            "883     883          6\n",
            "884     884          1\n",
            "891     891          6\n",
            "892     892          6\n",
            "893     893          1\n",
            "9       9            6\n",
            "905     905         11\n",
            "906     906          1\n",
            "907     907          4\n",
            "908     908          1\n",
            "909     909          5\n",
            "910     910          4\n",
            "911     911          2\n",
            "912     912          1\n",
            "913     913          2\n",
            "915     915          1\n",
            "916     916          2\n",
            "918     918          2\n",
            "919     919          2\n",
            "920     920         20\n",
            "921     921          4\n",
            "922     922          5\n",
            "923     923          7\n",
            "924     924         20\n",
            "933     933          3\n",
            "934     934          4\n",
            "94      94          22\n",
            "942     942          1\n",
            "944     944          1\n",
            "945     945          2\n",
            "952     952          2\n",
            "953     953          1\n",
            "955     955          1\n",
            "958     958         12\n",
            "959     959         10\n",
            "962     962          1\n",
            "963     963          1\n",
            "968     968          1\n",
            "969     969          6\n",
            "972     972          2\n",
            "974     974          1\n",
            "975     975          1\n",
            "977     977          1\n",
            "980     980          1\n",
            "987     987          1\n",
            "989     989          4\n",
            "99      99           1\n",
            "990     990          1\n",
            "991     991          1\n",
            "992     992          2\n",
            "994     994          1\n",
            "995     995         90\n",
            "996     996        363\n",
            "997     997        304\n",
            "998     998        475\n",
            "999     999         29\n",
            "?       ?          271\n",
            "E812    E812         6\n",
            "E813    E813         1\n",
            "E814    E814         1\n",
            "E816    E816         2\n",
            "E817    E817         1\n",
            "E818    E818         1\n",
            "E819    E819         1\n",
            "E826    E826         1\n",
            "E829    E829         1\n",
            "E849    E849        39\n",
            "E850    E850         1\n",
            "E853    E853         2\n",
            "E854    E854         1\n",
            "E858    E858         3\n",
            "E870    E870         2\n",
            "E878    E878        91\n",
            "E879    E879        14\n",
            "E880    E880        16\n",
            "E881    E881         2\n",
            "E882    E882         1\n",
            "E883    E883         1\n",
            "E884    E884        15\n",
            "E885    E885        89\n",
            "E887    E887         2\n",
            "E888    E888        90\n",
            "E890    E890         1\n",
            "E900    E900         1\n",
            "E905    E905         3\n",
            "E906    E906         2\n",
            "E915    E915         1\n",
            "E916    E916         2\n",
            "E917    E917         5\n",
            "E918    E918         1\n",
            "E919    E919         1\n",
            "E924    E924         2\n",
            "E927    E927         5\n",
            "E928    E928         8\n",
            "E929    E929         1\n",
            "E930    E930         5\n",
            "E931    E931         3\n",
            "E932    E932        31\n",
            "E933    E933         3\n",
            "E934    E934         5\n",
            "E935    E935        20\n",
            "E936    E936         5\n",
            "E937    E937         3\n",
            "E938    E938         1\n",
            "E939    E939        12\n",
            "E941    E941         2\n",
            "E942    E942        23\n",
            "E944    E944         8\n",
            "E945    E945         1\n",
            "E947    E947        15\n",
            "E950    E950         8\n",
            "E965    E965         1\n",
            "E968    E968         1\n",
            "V02     V02          4\n",
            "V03     V03          1\n",
            "V08     V08          5\n",
            "V09     V09          8\n",
            "V10     V10         77\n",
            "V11     V11          2\n",
            "V12     V12         48\n",
            "V13     V13          1\n",
            "V14     V14          2\n",
            "V15     V15        107\n",
            "V16     V16          2\n",
            "V17     V17          8\n",
            "V18     V18          6\n",
            "V23     V23          2\n",
            "V25     V25          1\n",
            "V42     V42        211\n",
            "V43     V43        105\n",
            "V44     V44          8\n",
            "V45     V45        326\n",
            "V46     V46          9\n",
            "V49     V49         33\n",
            "V50     V50          1\n",
            "V53     V53          1\n",
            "V54     V54         55\n",
            "V55     V55          2\n",
            "V57     V57          9\n",
            "V58     V58        127\n",
            "V60     V60          1\n",
            "V61     V61          2\n",
            "V62     V62         49\n",
            "V63     V63         22\n",
            "V64     V64         22\n",
            "V65     V65         19\n",
            "V66     V66          5\n",
            "V70     V70          7\n",
            "V72     V72         10\n",
            "V85     V85        134\n",
            "V86     V86          2\n",
            "Name: diag_2, dtype: int64\n",
            "diag_3  diag_3\n",
            "11      11           2\n",
            "110     110         16\n",
            "111     111          1\n",
            "112     112        172\n",
            "115     115          1\n",
            "117     117          4\n",
            "122     122          1\n",
            "123     123          1\n",
            "131     131          3\n",
            "132     132          1\n",
            "135     135         49\n",
            "136     136          1\n",
            "138     138         13\n",
            "139     139          2\n",
            "141     141          3\n",
            "148     148          1\n",
            "150     150         13\n",
            "151     151          9\n",
            "152     152          2\n",
            "153     153         46\n",
            "154     154         11\n",
            "155     155          8\n",
            "156     156          3\n",
            "157     157         32\n",
            "161     161          2\n",
            "162     162        150\n",
            "163     163          3\n",
            "164     164          1\n",
            "17      17           1\n",
            "170     170          4\n",
            "171     171          4\n",
            "172     172          5\n",
            "173     173          2\n",
            "174     174         34\n",
            "175     175          1\n",
            "179     179          6\n",
            "180     180          4\n",
            "182     182          4\n",
            "183     183          9\n",
            "185     185         43\n",
            "186     186          1\n",
            "188     188         10\n",
            "189     189         23\n",
            "191     191          5\n",
            "192     192          2\n",
            "193     193          1\n",
            "195     195          1\n",
            "196     196         78\n",
            "197     197        308\n",
            "198     198        197\n",
            "199     199         34\n",
            "200     200          9\n",
            "201     201         11\n",
            "202     202        100\n",
            "203     203         55\n",
            "204     204         49\n",
            "205     205         15\n",
            "208     208          8\n",
            "211     211         79\n",
            "214     214          3\n",
            "216     216          1\n",
            "217     217          1\n",
            "218     218         40\n",
            "220     220          5\n",
            "223     223          2\n",
            "225     225          6\n",
            "226     226          1\n",
            "227     227          6\n",
            "228     228          5\n",
            "230     230          1\n",
            "233     233          3\n",
            "235     235          2\n",
            "236     236          1\n",
            "238     238         26\n",
            "239     239          4\n",
            "240     240          3\n",
            "241     241          8\n",
            "242     242         64\n",
            "243     243          1\n",
            "244     244        438\n",
            "245     245          3\n",
            "246     246          5\n",
            "250     250       9272\n",
            "250.01  250.01     726\n",
            "250.02  250.02    1100\n",
            "250.03  250.03     108\n",
            "250.1   250.1       17\n",
            "250.11  250.11      15\n",
            "250.12  250.12      34\n",
            "250.13  250.13       7\n",
            "250.2   250.2        7\n",
            "250.21  250.21       3\n",
            "250.22  250.22      12\n",
            "250.23  250.23       1\n",
            "250.3   250.3        1\n",
            "250.31  250.31       1\n",
            "250.4   250.4      326\n",
            "250.41  250.41     163\n",
            "250.42  250.42     107\n",
            "250.43  250.43      49\n",
            "250.5   250.5       90\n",
            "250.51  250.51      97\n",
            "250.52  250.52      64\n",
            "250.53  250.53      28\n",
            "250.6   250.6      860\n",
            "250.7   250.7      120\n",
            "250.8   250.8      254\n",
            "250.81  250.81      42\n",
            "250.82  250.82      89\n",
            "250.83  250.83      17\n",
            "250.9   250.9        6\n",
            "250.91  250.91       3\n",
            "250.92  250.92     132\n",
            "250.93  250.93       8\n",
            "251     251          4\n",
            "252     252         21\n",
            "253     253         39\n",
            "255     255         51\n",
            "256     256          4\n",
            "258     258          1\n",
            "259     259          4\n",
            "260     260          8\n",
            "261     261         12\n",
            "262     262          6\n",
            "263     263        190\n",
            "265     265          1\n",
            "266     266         13\n",
            "268     268          2\n",
            "27      27           1\n",
            "270     270          4\n",
            "271     271          2\n",
            "272     272       1577\n",
            "273     273          8\n",
            "274     274         54\n",
            "275     275         62\n",
            "276     276       4145\n",
            "277     277         32\n",
            "278     278        527\n",
            "279     279         10\n",
            "280     280        311\n",
            "281     281         31\n",
            "282     282         33\n",
            "283     283          9\n",
            "284     284        113\n",
            "285     285        960\n",
            "286     286        106\n",
            "287     287        313\n",
            "288     288         87\n",
            "289     289         31\n",
            "290     290         68\n",
            "291     291         33\n",
            "292     292         48\n",
            "293     293         67\n",
            "294     294        267\n",
            "295     295        251\n",
            "296     296        175\n",
            "297     297          6\n",
            "298     298         30\n",
            "299     299          3\n",
            "3       3            2\n",
            "300     300        194\n",
            "301     301         70\n",
            "303     303        165\n",
            "304     304        131\n",
            "305     305        708\n",
            "306     306          4\n",
            "307     307         13\n",
            "308     308          1\n",
            "309     309         34\n",
            "310     310         12\n",
            "311     311        176\n",
            "312     312         12\n",
            "313     313          3\n",
            "314     314          3\n",
            "315     315          1\n",
            "317     317          9\n",
            "318     318          8\n",
            "319     319         24\n",
            "323     323          1\n",
            "327     327         65\n",
            "331     331        141\n",
            "332     332         71\n",
            "333     333         26\n",
            "334     334          5\n",
            "335     335          2\n",
            "336     336          3\n",
            "337     337         76\n",
            "338     338         28\n",
            "34      34           5\n",
            "340     340         43\n",
            "341     341          2\n",
            "342     342        132\n",
            "343     343         16\n",
            "344     344         45\n",
            "345     345         32\n",
            "346     346         29\n",
            "347     347          3\n",
            "348     348         72\n",
            "349     349          8\n",
            "35      35           4\n",
            "350     350          1\n",
            "351     351          9\n",
            "353     353          3\n",
            "354     354          7\n",
            "355     355         18\n",
            "356     356         20\n",
            "357     357        319\n",
            "358     358         14\n",
            "359     359          4\n",
            "360     360          2\n",
            "361     361          1\n",
            "362     362         53\n",
            "365     365         14\n",
            "365.44  365.44       1\n",
            "366     366          4\n",
            "368     368         23\n",
            "369     369         19\n",
            "370     370          1\n",
            "372     372          8\n",
            "373     373          3\n",
            "374     374          2\n",
            "376     376          2\n",
            "377     377          2\n",
            "378     378         10\n",
            "379     379          6\n",
            "38      38         134\n",
            "380     380          8\n",
            "381     381          1\n",
            "382     382         14\n",
            "383     383          5\n",
            "384     384          2\n",
            "385     385          1\n",
            "386     386         17\n",
            "387     387          1\n",
            "388     388          4\n",
            "389     389         11\n",
            "391     391          1\n",
            "394     394         14\n",
            "396     396        185\n",
            "397     397        125\n",
            "398     398         21\n",
            "401     401       6590\n",
            "402     402        305\n",
            "403     403       1852\n",
            "404     404         95\n",
            "405     405          7\n",
            "41      41         594\n",
            "410     410        180\n",
            "411     411        318\n",
            "412     412        278\n",
            "413     413        263\n",
            "414     414       2941\n",
            "415     415         24\n",
            "416     416        131\n",
            "417     417          3\n",
            "42      42          19\n",
            "420     420          9\n",
            "421     421          4\n",
            "423     423         17\n",
            "424     424        849\n",
            "425     425        913\n",
            "426     426        215\n",
            "427     427       3185\n",
            "428     428       3608\n",
            "429     429         54\n",
            "430     430          1\n",
            "431     431          7\n",
            "432     432          9\n",
            "433     433        111\n",
            "434     434         47\n",
            "435     435         42\n",
            "436     436          7\n",
            "437     437         67\n",
            "438     438        265\n",
            "440     440        167\n",
            "441     441         45\n",
            "442     442         16\n",
            "443     443        164\n",
            "444     444         31\n",
            "445     445          3\n",
            "446     446         18\n",
            "447     447         33\n",
            "448     448          1\n",
            "451     451          7\n",
            "452     452          3\n",
            "453     453        168\n",
            "454     454         12\n",
            "455     455         67\n",
            "456     456         30\n",
            "457     457         22\n",
            "458     458        233\n",
            "459     459         85\n",
            "460     460          1\n",
            "461     461         17\n",
            "462     462         12\n",
            "463     463          1\n",
            "464     464          5\n",
            "465     465         58\n",
            "466     466        102\n",
            "47      47           1\n",
            "470     470          2\n",
            "472     472          4\n",
            "473     473         44\n",
            "475     475          1\n",
            "477     477         11\n",
            "478     478         26\n",
            "480     480          2\n",
            "481     481          5\n",
            "482     482         46\n",
            "483     483          1\n",
            "484     484          1\n",
            "486     486        455\n",
            "487     487         16\n",
            "49      49           1\n",
            "490     490         46\n",
            "491     491        456\n",
            "492     492        129\n",
            "493     493        554\n",
            "494     494         10\n",
            "495     495          1\n",
            "496     496       2097\n",
            "5       5            3\n",
            "500     500          4\n",
            "501     501         11\n",
            "506     506          5\n",
            "507     507         69\n",
            "508     508          4\n",
            "510     510          5\n",
            "511     511        293\n",
            "512     512         28\n",
            "514     514         11\n",
            "515     515        122\n",
            "516     516         12\n",
            "517     517         31\n",
            "518     518        677\n",
            "519     519         28\n",
            "521     521          8\n",
            "522     522          7\n",
            "523     523          2\n",
            "524     524          1\n",
            "525     525          2\n",
            "527     527          6\n",
            "528     528          3\n",
            "529     529          3\n",
            "53      53          18\n",
            "530     530        502\n",
            "531     531         37\n",
            "532     532         18\n",
            "533     533         17\n",
            "534     534          3\n",
            "535     535        233\n",
            "536     536        214\n",
            "537     537         24\n",
            "538     538          1\n",
            "54      54          11\n",
            "540     540          1\n",
            "543     543          4\n",
            "550     550          4\n",
            "552     552         11\n",
            "553     553        106\n",
            "555     555         23\n",
            "556     556         12\n",
            "557     557         11\n",
            "558     558         91\n",
            "560     560        262\n",
            "562     562        147\n",
            "564     564        105\n",
            "565     565          4\n",
            "566     566          5\n",
            "567     567         21\n",
            "568     568         47\n",
            "569     569         83\n",
            "570     570         10\n",
            "571     571        251\n",
            "572     572         45\n",
            "573     573         43\n",
            "574     574        107\n",
            "575     575         36\n",
            "576     576         36\n",
            "577     577        111\n",
            "578     578        192\n",
            "579     579          7\n",
            "580     580          8\n",
            "581     581         78\n",
            "582     582         10\n",
            "583     583         78\n",
            "584     584        775\n",
            "585     585       1601\n",
            "586     586          9\n",
            "588     588         22\n",
            "590     590         37\n",
            "591     591        114\n",
            "592     592         52\n",
            "593     593        264\n",
            "594     594          7\n",
            "595     595         33\n",
            "596     596         71\n",
            "597     597          2\n",
            "598     598         11\n",
            "599     599       1563\n",
            "600     600         64\n",
            "601     601         19\n",
            "602     602          1\n",
            "603     603          1\n",
            "604     604          3\n",
            "605     605          5\n",
            "607     607          7\n",
            "608     608         11\n",
            "610     610          8\n",
            "611     611         13\n",
            "614     614         26\n",
            "616     616         25\n",
            "617     617         21\n",
            "618     618         23\n",
            "619     619          4\n",
            "620     620         25\n",
            "621     621          8\n",
            "622     622          1\n",
            "623     623          3\n",
            "624     624          1\n",
            "625     625         38\n",
            "626     626         23\n",
            "627     627         13\n",
            "641     641          2\n",
            "642     642         26\n",
            "643     643          2\n",
            "644     644          4\n",
            "646     646         12\n",
            "647     647          7\n",
            "648     648         83\n",
            "649     649          7\n",
            "652     652          7\n",
            "653     653          3\n",
            "654     654          9\n",
            "655     655          3\n",
            "656     656          7\n",
            "657     657          1\n",
            "658     658          6\n",
            "659     659         21\n",
            "66      66           1\n",
            "660     660          5\n",
            "661     661          3\n",
            "663     663         11\n",
            "664     664         12\n",
            "665     665          5\n",
            "669     669          1\n",
            "671     671          1\n",
            "674     674          1\n",
            "680     680          8\n",
            "681     681         61\n",
            "682     682        727\n",
            "685     685          3\n",
            "686     686          9\n",
            "690     690          2\n",
            "692     692         12\n",
            "693     693         11\n",
            "694     694         11\n",
            "695     695          8\n",
            "696     696         19\n",
            "697     697          1\n",
            "698     698          7\n",
            "7       7            1\n",
            "70      70         227\n",
            "701     701          6\n",
            "702     702          1\n",
            "703     703          3\n",
            "704     704          7\n",
            "705     705          5\n",
            "706     706          2\n",
            "707     707       1088\n",
            "708     708          5\n",
            "709     709         14\n",
            "710     710         87\n",
            "711     711         20\n",
            "712     712          5\n",
            "713     713         11\n",
            "714     714         68\n",
            "715     715        163\n",
            "716     716         62\n",
            "717     717          5\n",
            "718     718          8\n",
            "719     719         76\n",
            "720     720          2\n",
            "721     721         38\n",
            "722     722         92\n",
            "723     723         27\n",
            "724     724        109\n",
            "725     725         12\n",
            "726     726         24\n",
            "727     727         23\n",
            "728     728         87\n",
            "729     729        126\n",
            "730     730        151\n",
            "731     731        102\n",
            "732     732          1\n",
            "733     733        161\n",
            "734     734          2\n",
            "735     735          2\n",
            "736     736         17\n",
            "737     737         17\n",
            "738     738         19\n",
            "741     741          7\n",
            "742     742          5\n",
            "744     744          1\n",
            "745     745         18\n",
            "746     746          8\n",
            "747     747          8\n",
            "75      75           1\n",
            "750     750          1\n",
            "751     751          4\n",
            "752     752          5\n",
            "753     753         14\n",
            "754     754          1\n",
            "755     755          1\n",
            "756     756          5\n",
            "757     757          1\n",
            "758     758          4\n",
            "759     759          3\n",
            "78      78           3\n",
            "780     780       1086\n",
            "781     781        106\n",
            "782     782        102\n",
            "783     783         47\n",
            "784     784        196\n",
            "785     785        311\n",
            "786     786        462\n",
            "787     787        273\n",
            "788     788        276\n",
            "789     789        242\n",
            "79      79          40\n",
            "790     790        151\n",
            "791     791          9\n",
            "792     792         15\n",
            "793     793          5\n",
            "794     794         90\n",
            "795     795          2\n",
            "796     796          8\n",
            "797     797          2\n",
            "799     799        247\n",
            "8       8          156\n",
            "800     800          2\n",
            "801     801          3\n",
            "802     802         15\n",
            "805     805         22\n",
            "807     807         28\n",
            "808     808         18\n",
            "810     810          4\n",
            "811     811          1\n",
            "812     812         27\n",
            "813     813         15\n",
            "814     814          2\n",
            "815     815          5\n",
            "816     816          3\n",
            "820     820         14\n",
            "821     821          3\n",
            "823     823          9\n",
            "824     824         16\n",
            "825     825          4\n",
            "826     826          4\n",
            "831     831          4\n",
            "834     834          1\n",
            "836     836          7\n",
            "837     837          1\n",
            "838     838          1\n",
            "840     840         10\n",
            "841     841          1\n",
            "842     842          2\n",
            "844     844          3\n",
            "845     845          8\n",
            "847     847          3\n",
            "848     848          2\n",
            "850     850          4\n",
            "851     851          2\n",
            "852     852          2\n",
            "853     853          1\n",
            "854     854          2\n",
            "860     860          4\n",
            "861     861          6\n",
            "862     862          3\n",
            "864     864          1\n",
            "865     865          4\n",
            "866     866          2\n",
            "867     867         10\n",
            "868     868          2\n",
            "871     871          1\n",
            "872     872          1\n",
            "873     873         33\n",
            "875     875          1\n",
            "877     877          1\n",
            "879     879          1\n",
            "880     880          1\n",
            "881     881          5\n",
            "882     882          5\n",
            "883     883          8\n",
            "884     884          1\n",
            "890     890          1\n",
            "891     891          4\n",
            "892     892          8\n",
            "9       9            5\n",
            "905     905         11\n",
            "906     906          3\n",
            "907     907          8\n",
            "908     908          4\n",
            "909     909          6\n",
            "910     910          2\n",
            "911     911          2\n",
            "912     912          2\n",
            "913     913          5\n",
            "915     915          3\n",
            "916     916          8\n",
            "917     917          4\n",
            "918     918          2\n",
            "919     919          3\n",
            "920     920         19\n",
            "921     921          4\n",
            "922     922         15\n",
            "923     923         13\n",
            "924     924         32\n",
            "928     928          2\n",
            "930     930          1\n",
            "933     933          3\n",
            "934     934          5\n",
            "935     935          1\n",
            "94      94          19\n",
            "942     942          1\n",
            "943     943          2\n",
            "944     944          1\n",
            "945     945          6\n",
            "948     948          1\n",
            "951     951          1\n",
            "952     952          1\n",
            "953     953          2\n",
            "955     955          1\n",
            "956     956          2\n",
            "958     958          7\n",
            "959     959         19\n",
            "962     962          7\n",
            "965     965          6\n",
            "966     966          3\n",
            "967     967          2\n",
            "969     969          9\n",
            "970     970          1\n",
            "971     971          1\n",
            "972     972          1\n",
            "987     987          1\n",
            "989     989          2\n",
            "991     991          6\n",
            "995     995        230\n",
            "996     996        222\n",
            "997     997        242\n",
            "998     998        251\n",
            "999     999         22\n",
            "?       ?         1131\n",
            "E812    E812        18\n",
            "E813    E813         2\n",
            "E816    E816         9\n",
            "E817    E817         2\n",
            "E818    E818         4\n",
            "E819    E819         7\n",
            "E822    E822         1\n",
            "E826    E826         1\n",
            "E828    E828         1\n",
            "E849    E849       172\n",
            "E850    E850         4\n",
            "E852    E852         2\n",
            "E853    E853         1\n",
            "E854    E854         1\n",
            "E855    E855         2\n",
            "E858    E858         4\n",
            "E870    E870         6\n",
            "E876    E876         1\n",
            "E878    E878       134\n",
            "E879    E879        48\n",
            "E880    E880        22\n",
            "E881    E881         6\n",
            "E882    E882         1\n",
            "E883    E883         1\n",
            "E884    E884        18\n",
            "E885    E885        92\n",
            "E886    E886         1\n",
            "E887    E887         6\n",
            "E888    E888       107\n",
            "E892    E892         1\n",
            "E900    E900         1\n",
            "E901    E901         1\n",
            "E904    E904         1\n",
            "E905    E905         3\n",
            "E906    E906         3\n",
            "E912    E912         1\n",
            "E916    E916         2\n",
            "E917    E917         3\n",
            "E919    E919         2\n",
            "E920    E920         3\n",
            "E922    E922         1\n",
            "E924    E924         2\n",
            "E927    E927         5\n",
            "E928    E928         9\n",
            "E929    E929         7\n",
            "E930    E930        12\n",
            "E931    E931        10\n",
            "E932    E932        63\n",
            "E933    E933        11\n",
            "E934    E934        21\n",
            "E935    E935        19\n",
            "E936    E936         6\n",
            "E937    E937         4\n",
            "E938    E938         5\n",
            "E939    E939        12\n",
            "E941    E941         3\n",
            "E942    E942        40\n",
            "E943    E943         2\n",
            "E944    E944        14\n",
            "E945    E945         1\n",
            "E946    E946         2\n",
            "E947    E947        33\n",
            "E949    E949         1\n",
            "E950    E950        14\n",
            "E956    E956         3\n",
            "E966    E966         1\n",
            "E980    E980         2\n",
            "V01     V01          1\n",
            "V02     V02          2\n",
            "V03     V03          4\n",
            "V06     V06          2\n",
            "V07     V07          1\n",
            "V08     V08         14\n",
            "V09     V09         71\n",
            "V10     V10        189\n",
            "V11     V11          2\n",
            "V12     V12        159\n",
            "V13     V13          4\n",
            "V14     V14         11\n",
            "V15     V15        269\n",
            "V16     V16          7\n",
            "V17     V17         15\n",
            "V18     V18         13\n",
            "V22     V22          1\n",
            "V23     V23          4\n",
            "V25     V25          1\n",
            "V27     V27         33\n",
            "V42     V42        198\n",
            "V43     V43        176\n",
            "V44     V44         21\n",
            "V45     V45       1109\n",
            "V46     V46         50\n",
            "V49     V49         37\n",
            "V53     V53          7\n",
            "V54     V54         50\n",
            "V55     V55          8\n",
            "V57     V57          7\n",
            "V58     V58        410\n",
            "V60     V60          3\n",
            "V61     V61          3\n",
            "V62     V62         24\n",
            "V63     V63         11\n",
            "V64     V64         39\n",
            "V65     V65         19\n",
            "V66     V66         13\n",
            "V70     V70          2\n",
            "V72     V72          5\n",
            "V85     V85         75\n",
            "V86     V86          1\n",
            "Name: diag_3, dtype: int64\n",
            "number_diagnoses  number_diagnoses\n",
            "1                 1                     168\n",
            "2                 2                     818\n",
            "3                 3                    2280\n",
            "4                 4                    4446\n",
            "5                 5                    9120\n",
            "6                 6                    8121\n",
            "7                 7                    8301\n",
            "8                 8                    8494\n",
            "9                 9                   39571\n",
            "10                10                     14\n",
            "11                11                      8\n",
            "12                12                      8\n",
            "13                13                     13\n",
            "14                14                      7\n",
            "15                15                      6\n",
            "16                16                     37\n",
            "Name: number_diagnoses, dtype: int64\n",
            "max_glu_serum  max_glu_serum\n",
            ">200           >200              1201\n",
            ">300           >300              1013\n",
            "None           None             77130\n",
            "Norm           Norm              2068\n",
            "Name: max_glu_serum, dtype: int64\n",
            "A1Cresult  A1Cresult\n",
            ">7         >7            2991\n",
            ">8         >8            6600\n",
            "None       None         67778\n",
            "Norm       Norm          4043\n",
            "Name: A1Cresult, dtype: int64\n",
            "metformin  metformin\n",
            "Down       Down           455\n",
            "No         No           65384\n",
            "Steady     Steady       14704\n",
            "Up         Up             869\n",
            "Name: metformin, dtype: int64\n",
            "repaglinide  repaglinide\n",
            "Down         Down              35\n",
            "No           No             80162\n",
            "Steady       Steady          1126\n",
            "Up           Up                89\n",
            "Name: repaglinide, dtype: int64\n",
            "nateglinide  nateglinide\n",
            "Down         Down               8\n",
            "No           No             80845\n",
            "Steady       Steady           539\n",
            "Up           Up                20\n",
            "Name: nateglinide, dtype: int64\n",
            "chlorpropamide  chlorpropamide\n",
            "Down            Down                  1\n",
            "No              No                81344\n",
            "Steady          Steady               62\n",
            "Up              Up                    5\n",
            "Name: chlorpropamide, dtype: int64\n",
            "glimepiride  glimepiride\n",
            "Down         Down             153\n",
            "No           No             77255\n",
            "Steady       Steady          3738\n",
            "Up           Up               266\n",
            "Name: glimepiride, dtype: int64\n",
            "acetohexamide  acetohexamide\n",
            "No             No               81411\n",
            "Steady         Steady               1\n",
            "Name: acetohexamide, dtype: int64\n",
            "glipizide  glipizide\n",
            "Down       Down           459\n",
            "No         No           71346\n",
            "Steady     Steady        8984\n",
            "Up         Up             623\n",
            "Name: glipizide, dtype: int64\n",
            "glyburide  glyburide\n",
            "Down       Down           456\n",
            "No         No           72905\n",
            "Steady     Steady        7406\n",
            "Up         Up             645\n",
            "Name: glyburide, dtype: int64\n",
            "tolbutamide  tolbutamide\n",
            "No           No             81392\n",
            "Steady       Steady            20\n",
            "Name: tolbutamide, dtype: int64\n",
            "pioglitazone  pioglitazone\n",
            "Down          Down               89\n",
            "No            No              75594\n",
            "Steady        Steady           5549\n",
            "Up            Up                180\n",
            "Name: pioglitazone, dtype: int64\n",
            "rosiglitazone  rosiglitazone\n",
            "Down           Down                68\n",
            "No             No               76324\n",
            "Steady         Steady            4876\n",
            "Up             Up                 144\n",
            "Name: rosiglitazone, dtype: int64\n",
            "acarbose  acarbose\n",
            "Down      Down            2\n",
            "No        No          81171\n",
            "Steady    Steady        232\n",
            "Up        Up              7\n",
            "Name: acarbose, dtype: int64\n",
            "miglitol  miglitol\n",
            "Down      Down            4\n",
            "No        No          81382\n",
            "Steady    Steady         25\n",
            "Up        Up              1\n",
            "Name: miglitol, dtype: int64\n",
            "troglitazone  troglitazone\n",
            "No            No              81409\n",
            "Steady        Steady              3\n",
            "Name: troglitazone, dtype: int64\n",
            "tolazamide  tolazamide\n",
            "No          No            81380\n",
            "Steady      Steady           31\n",
            "Up          Up                1\n",
            "Name: tolazamide, dtype: int64\n",
            "examide  examide\n",
            "No       No         81412\n",
            "Name: examide, dtype: int64\n",
            "citoglipton  citoglipton\n",
            "No           No             81412\n",
            "Name: citoglipton, dtype: int64\n",
            "insulin  insulin\n",
            "Down     Down        9793\n",
            "No       No         37931\n",
            "Steady   Steady     24592\n",
            "Up       Up          9096\n",
            "Name: insulin, dtype: int64\n",
            "glyburide-metformin  glyburide-metformin\n",
            "Down                 Down                       5\n",
            "No                   No                     80831\n",
            "Steady               Steady                   568\n",
            "Up                   Up                         8\n",
            "Name: glyburide-metformin, dtype: int64\n",
            "glipizide-metformin  glipizide-metformin\n",
            "No                   No                     81400\n",
            "Steady               Steady                    12\n",
            "Name: glipizide-metformin, dtype: int64\n",
            "glimepiride-pioglitazone  glimepiride-pioglitazone\n",
            "No                        No                          81411\n",
            "Steady                    Steady                          1\n",
            "Name: glimepiride-pioglitazone, dtype: int64\n",
            "metformin-rosiglitazone  metformin-rosiglitazone\n",
            "No                       No                         81410\n",
            "Steady                   Steady                         2\n",
            "Name: metformin-rosiglitazone, dtype: int64\n",
            "metformin-pioglitazone  metformin-pioglitazone\n",
            "No                      No                        81411\n",
            "Steady                  Steady                        1\n",
            "Name: metformin-pioglitazone, dtype: int64\n",
            "change  change\n",
            "Ch      Ch        37657\n",
            "No      No        43755\n",
            "Name: change, dtype: int64\n",
            "diabetesMed  diabetesMed\n",
            "No           No             18795\n",
            "Yes          Yes            62617\n",
            "Name: diabetesMed, dtype: int64\n",
            "readmitted  readmitted\n",
            "<30         <30            9072\n",
            ">30         >30           28428\n",
            "NO          NO            43912\n",
            "Name: readmitted, dtype: int64\n"
          ],
          "name": "stdout"
        }
      ]
    },
    {
      "cell_type": "code",
      "metadata": {
        "id": "sYPQgDQH5KfG"
      },
      "source": [
        "df.drop(['examide', 'citoglipton'], axis=1, inplace=True)"
      ],
      "execution_count": 9,
      "outputs": []
    },
    {
      "cell_type": "code",
      "metadata": {
        "id": "KG-zSSrb7az1"
      },
      "source": [
        "def binarize_readmitted(x):\n",
        "    if x == '<30': # readmitted in less than 30 days is positive class\n",
        "        return 1 \n",
        "    else:\n",
        "        return 0 "
      ],
      "execution_count": 10,
      "outputs": []
    },
    {
      "cell_type": "code",
      "metadata": {
        "id": "SH2pg9lg7c-p"
      },
      "source": [
        "y = df.apply(lambda x: binarize_readmitted(x['readmitted']), axis=1).values"
      ],
      "execution_count": 11,
      "outputs": []
    },
    {
      "cell_type": "code",
      "metadata": {
        "id": "qxIKESg-7mbq"
      },
      "source": [
        "def map_age(x):\n",
        "    if x == '[0-10)':\n",
        "        return 5\n",
        "    elif x == '[10-20)':\n",
        "        return 15\n",
        "    elif x == '[20-30)':\n",
        "        return 25\n",
        "    elif x == '[30-40)':\n",
        "        return 35\n",
        "    elif x == '[40-50)':\n",
        "        return 45\n",
        "    elif x == '[50-60)':\n",
        "        return 55\n",
        "    elif x == '[60-70)':\n",
        "        return 65\n",
        "    elif x == '[70-80)':\n",
        "        return 75\n",
        "    elif x == '[80-90)':\n",
        "        return 85\n",
        "    else:\n",
        "        return 95"
      ],
      "execution_count": 12,
      "outputs": []
    },
    {
      "cell_type": "code",
      "metadata": {
        "id": "_k28gJla7rBl"
      },
      "source": [
        "df['age_processed'] = df.apply(lambda x: map_age(x['age']), axis=1)"
      ],
      "execution_count": 13,
      "outputs": []
    },
    {
      "cell_type": "code",
      "metadata": {
        "id": "GEciRorU7sfC"
      },
      "source": [
        "admission_dict = {1: 'Emergency', 2: 'Urgent', 3: 'Elective', 4: 'Newborn', 7: 'Trauma Center'}\n",
        "def map_admission(x):\n",
        "    if x in [5,6,8]:\n",
        "        return 'Not Available'\n",
        "    else:\n",
        "        return admission_dict[x]"
      ],
      "execution_count": 14,
      "outputs": []
    },
    {
      "cell_type": "code",
      "metadata": {
        "id": "VGWdwh2N7wZY"
      },
      "source": [
        "df['admission_type_processed'] = df.apply(lambda x: map_admission(x['admission_type_id']), axis=1)"
      ],
      "execution_count": 15,
      "outputs": []
    },
    {
      "cell_type": "code",
      "metadata": {
        "id": "5X0roJok7x7u"
      },
      "source": [
        "def discharged_home(x):\n",
        "    if x == 1:\n",
        "        return 1 # Discharged home\n",
        "    else:\n",
        "        return 0 # Other "
      ],
      "execution_count": 16,
      "outputs": []
    },
    {
      "cell_type": "code",
      "metadata": {
        "id": "R7bkVTkT71hz"
      },
      "source": [
        "df['discharged_processed'] = df.apply(lambda x: discharged_home(x['discharge_disposition_id']), axis=1)"
      ],
      "execution_count": 17,
      "outputs": []
    },
    {
      "cell_type": "code",
      "metadata": {
        "id": "A5sZ8dqI73P9"
      },
      "source": [
        "def map_source(x):\n",
        "    if x in [1,2,3]:\n",
        "        return 'Referral' \n",
        "    elif x == 7:\n",
        "        return 'Emergency Room'\n",
        "    else:\n",
        "        return 'Other'"
      ],
      "execution_count": 18,
      "outputs": []
    },
    {
      "cell_type": "code",
      "metadata": {
        "id": "Om4mNATL76YP"
      },
      "source": [
        "df['source_processed'] = df.apply(lambda x: map_source(x['admission_source_id']), axis=1)"
      ],
      "execution_count": 19,
      "outputs": []
    },
    {
      "cell_type": "code",
      "metadata": {
        "id": "nM6a9pEi77lw"
      },
      "source": [
        "def map_diag(x):\n",
        "    if x[0].isdigit() == False:\n",
        "        return 'other'\n",
        "    \n",
        "    float_x = float(x)\n",
        "    if (float_x >= 390 and float_x <= 459) or float_x == 785: # 390–459, 785\n",
        "        return 'circulatory'\n",
        "    elif (float_x >= 460 and float_x <= 519) or float_x == 786: # 460–519, 786\n",
        "        return 'respiratory'\n",
        "    elif (float_x >= 520 and float_x <= 579) or float_x == 787: # 520–579, 787\n",
        "        return 'digestive'\n",
        "    elif float_x >= 250 and float_x < 251: # 250.xx\n",
        "        return 'diabetes'\n",
        "    elif float_x >= 800 and float_x <= 999: # 800–999\n",
        "        return 'injury'\n",
        "    elif float_x >= 710 and float_x <= 739: # 710–739\n",
        "        return 'musculoskeletal'\n",
        "    elif (float_x >= 580 and float_x <= 629) or float_x == 788: # 580–629, 788\n",
        "        return 'genitourinary'\n",
        "    elif float_x >= 140 and float_x <= 239: # 140–239\n",
        "        return 'neoplasms'\n",
        "    else:\n",
        "        return 'other'"
      ],
      "execution_count": 20,
      "outputs": []
    },
    {
      "cell_type": "code",
      "metadata": {
        "id": "GAQOjb5-796r"
      },
      "source": [
        "df['diag1_processed'] = df.apply(lambda x: map_diag(x['diag_1']), axis=1)\n",
        "df['diag2_processed'] = df.apply(lambda x: map_diag(x['diag_2']), axis=1)\n",
        "df['diag3_processed'] = df.apply(lambda x: map_diag(x['diag_3']), axis=1)"
      ],
      "execution_count": 21,
      "outputs": []
    },
    {
      "cell_type": "code",
      "metadata": {
        "colab": {
          "base_uri": "https://localhost:8080/"
        },
        "id": "A0k9b0bA8BBs",
        "outputId": "ffb3a196-4254-485b-cb8b-560d8463ee40"
      },
      "source": [
        "df.groupby('medical_specialty')['medical_specialty'].value_counts()"
      ],
      "execution_count": 22,
      "outputs": [
        {
          "output_type": "execute_result",
          "data": {
            "text/plain": [
              "medical_specialty                     medical_specialty                   \n",
              "?                                     ?                                       39969\n",
              "AllergyandImmunology                  AllergyandImmunology                        4\n",
              "Anesthesiology                        Anesthesiology                              6\n",
              "Anesthesiology-Pediatric              Anesthesiology-Pediatric                   13\n",
              "Cardiology                            Cardiology                               4283\n",
              "Cardiology-Pediatric                  Cardiology-Pediatric                        5\n",
              "DCPTEAM                               DCPTEAM                                     4\n",
              "Dentistry                             Dentistry                                   4\n",
              "Dermatology                           Dermatology                                 1\n",
              "Emergency/Trauma                      Emergency/Trauma                         6043\n",
              "Endocrinology                         Endocrinology                              97\n",
              "Endocrinology-Metabolism              Endocrinology-Metabolism                    7\n",
              "Family/GeneralPractice                Family/GeneralPractice                   5912\n",
              "Gastroenterology                      Gastroenterology                          449\n",
              "Gynecology                            Gynecology                                 46\n",
              "Hematology                            Hematology                                 67\n",
              "Hematology/Oncology                   Hematology/Oncology                       165\n",
              "Hospitalist                           Hospitalist                                43\n",
              "InfectiousDiseases                    InfectiousDiseases                         32\n",
              "InternalMedicine                      InternalMedicine                        11737\n",
              "Nephrology                            Nephrology                               1290\n",
              "Neurology                             Neurology                                 170\n",
              "Neurophysiology                       Neurophysiology                             1\n",
              "Obsterics&Gynecology-GynecologicOnco  Obsterics&Gynecology-GynecologicOnco       22\n",
              "Obstetrics                            Obstetrics                                 17\n",
              "ObstetricsandGynecology               ObstetricsandGynecology                   528\n",
              "Oncology                              Oncology                                  270\n",
              "Ophthalmology                         Ophthalmology                              31\n",
              "Orthopedics                           Orthopedics                              1118\n",
              "Orthopedics-Reconstructive            Orthopedics-Reconstructive                972\n",
              "Osteopath                             Osteopath                                  34\n",
              "Otolaryngology                        Otolaryngology                             99\n",
              "OutreachServices                      OutreachServices                           10\n",
              "Pathology                             Pathology                                  15\n",
              "Pediatrics                            Pediatrics                                191\n",
              "Pediatrics-AllergyandImmunology       Pediatrics-AllergyandImmunology             2\n",
              "Pediatrics-CriticalCare               Pediatrics-CriticalCare                    68\n",
              "Pediatrics-EmergencyMedicine          Pediatrics-EmergencyMedicine                3\n",
              "Pediatrics-Endocrinology              Pediatrics-Endocrinology                  131\n",
              "Pediatrics-Hematology-Oncology        Pediatrics-Hematology-Oncology              4\n",
              "Pediatrics-InfectiousDiseases         Pediatrics-InfectiousDiseases               1\n",
              "Pediatrics-Neurology                  Pediatrics-Neurology                        9\n",
              "Pediatrics-Pulmonology                Pediatrics-Pulmonology                     21\n",
              "PhysicalMedicineandRehabilitation     PhysicalMedicineandRehabilitation         325\n",
              "PhysicianNotFound                     PhysicianNotFound                           9\n",
              "Podiatry                              Podiatry                                   71\n",
              "Proctology                            Proctology                                  1\n",
              "Psychiatry                            Psychiatry                                677\n",
              "Psychiatry-Addictive                  Psychiatry-Addictive                        1\n",
              "Psychiatry-Child/Adolescent           Psychiatry-Child/Adolescent                 6\n",
              "Psychology                            Psychology                                 82\n",
              "Pulmonology                           Pulmonology                               708\n",
              "Radiologist                           Radiologist                               933\n",
              "Radiology                             Radiology                                  38\n",
              "Resident                              Resident                                    2\n",
              "Rheumatology                          Rheumatology                               15\n",
              "Speech                                Speech                                      1\n",
              "SportsMedicine                        SportsMedicine                              1\n",
              "Surgeon                               Surgeon                                    29\n",
              "Surgery-Cardiovascular                Surgery-Cardiovascular                     79\n",
              "Surgery-Cardiovascular/Thoracic       Surgery-Cardiovascular/Thoracic           528\n",
              "Surgery-Colon&Rectal                  Surgery-Colon&Rectal                       10\n",
              "Surgery-General                       Surgery-General                          2483\n",
              "Surgery-Maxillofacial                 Surgery-Maxillofacial                       9\n",
              "Surgery-Neuro                         Surgery-Neuro                             373\n",
              "Surgery-Pediatric                     Surgery-Pediatric                           5\n",
              "Surgery-Plastic                       Surgery-Plastic                            34\n",
              "Surgery-PlasticwithinHeadandNeck      Surgery-PlasticwithinHeadandNeck            1\n",
              "Surgery-Thoracic                      Surgery-Thoracic                           79\n",
              "Surgery-Vascular                      Surgery-Vascular                          434\n",
              "SurgicalSpecialty                     SurgicalSpecialty                          23\n",
              "Urology                               Urology                                   561\n",
              "Name: medical_specialty, dtype: int64"
            ]
          },
          "metadata": {
            "tags": []
          },
          "execution_count": 22
        }
      ]
    },
    {
      "cell_type": "code",
      "metadata": {
        "id": "VniENQ_b8mIq"
      },
      "source": [
        "def map_medical_specialty(x):\n",
        "  if 'Anesthesiology' in x:\n",
        "    return 'Anesthesiology'\n",
        "  elif 'Cardiology' in x:\n",
        "    return 'Cardiology'\n",
        "  elif 'Endocrinology' in x:\n",
        "    return 'Endocrinology'\n",
        "  elif 'Hematology' in x:\n",
        "    return 'Hematology'\n",
        "  elif 'Obstetrics' in x:\n",
        "    return 'Obstetrics'\n",
        "  elif 'Orthopedics' in x:\n",
        "    return 'Orthopedics'\n",
        "  elif 'Pediatrics' in x:\n",
        "    return 'Pediatrics'\n",
        "  elif 'Psychiatry' in x:\n",
        "    return 'Psychiatry'\n",
        "  elif 'Radiolog' in x:\n",
        "    return 'Radiology'\n",
        "  elif 'Surg' in x:\n",
        "    return 'Surgery'\n",
        "  else:\n",
        "    return x"
      ],
      "execution_count": 23,
      "outputs": []
    },
    {
      "cell_type": "code",
      "metadata": {
        "id": "9vRgi5nV9tNu"
      },
      "source": [
        "df['medical_specialty_processed'] = df.apply(lambda x: map_medical_specialty(x['medical_specialty']), axis=1)"
      ],
      "execution_count": 24,
      "outputs": []
    },
    {
      "cell_type": "code",
      "metadata": {
        "id": "3wqUkFpf-KT6"
      },
      "source": [
        "def binarize_yn(x):\n",
        "    if x in ['Yes', 'Ch']: \n",
        "        return 1 \n",
        "    else:\n",
        "        return 0 "
      ],
      "execution_count": 25,
      "outputs": []
    },
    {
      "cell_type": "code",
      "metadata": {
        "id": "aI4ks1dJ_H9Q"
      },
      "source": [
        "df['change_processed'] = df.apply(lambda x: binarize_yn(x['change']), axis=1)"
      ],
      "execution_count": 26,
      "outputs": []
    },
    {
      "cell_type": "code",
      "metadata": {
        "id": "IIPev6wk_JZ8"
      },
      "source": [
        "df['diabetesMed_processed'] = df.apply(lambda x: binarize_yn(x['diabetesMed']), axis=1)"
      ],
      "execution_count": 27,
      "outputs": []
    },
    {
      "cell_type": "code",
      "metadata": {
        "id": "lqgszNd2_LT5"
      },
      "source": [
        "ohe = OneHotEncoder(categories='auto')"
      ],
      "execution_count": 28,
      "outputs": []
    },
    {
      "cell_type": "code",
      "metadata": {
        "id": "kyMNAEl3CYW5"
      },
      "source": [
        "df_cat = df[['admission_type_processed', 'source_processed', 'medical_specialty_processed',\n",
        "            'diag1_processed', 'diag2_processed', 'diag3_processed', 'race', 'gender', \n",
        "            'max_glu_serum', 'A1Cresult', 'metformin', 'repaglinide', 'nateglinide', \n",
        "            'chlorpropamide', 'glimepiride', 'acetohexamide', 'glipizide', 'glyburide', \n",
        "            'tolbutamide', 'pioglitazone', 'rosiglitazone', 'acarbose', 'miglitol', 'troglitazone', \n",
        "            'tolazamide', 'insulin', 'glyburide-metformin', 'glipizide-metformin', \n",
        "            'glimepiride-pioglitazone', 'metformin-rosiglitazone','metformin-pioglitazone']]"
      ],
      "execution_count": 29,
      "outputs": []
    },
    {
      "cell_type": "code",
      "metadata": {
        "id": "1a8U-0joCshm"
      },
      "source": [
        "ohe_arr = ohe.fit_transform(df_cat).toarray()"
      ],
      "execution_count": 30,
      "outputs": []
    },
    {
      "cell_type": "code",
      "metadata": {
        "id": "28eyMSRDCy98"
      },
      "source": [
        "ohe_labels = ohe.categories_"
      ],
      "execution_count": 31,
      "outputs": []
    },
    {
      "cell_type": "code",
      "metadata": {
        "id": "WqJ9zDXRC2SN"
      },
      "source": [
        "feature_labels = []\n",
        "for col, values in zip(df_cat.columns, ohe_labels):\n",
        "    for val in values:\n",
        "        feature_labels.append(col+'_'+val)"
      ],
      "execution_count": 32,
      "outputs": []
    },
    {
      "cell_type": "code",
      "metadata": {
        "id": "ZK_cuwksDCjj"
      },
      "source": [
        "df_ohe = pd.DataFrame(ohe_arr, columns = feature_labels)"
      ],
      "execution_count": 33,
      "outputs": []
    },
    {
      "cell_type": "code",
      "metadata": {
        "id": "G2qGaDcKDV3v"
      },
      "source": [
        "df_num = df[['age_processed', 'discharged_processed', 'change_processed', 'diabetesMed_processed', 'time_in_hospital', 'num_lab_procedures', 'num_procedures', 'num_medications', 'number_outpatient', 'number_emergency', 'number_inpatient', 'number_diagnoses']]"
      ],
      "execution_count": 34,
      "outputs": []
    },
    {
      "cell_type": "code",
      "metadata": {
        "id": "edF3n40cDbXX"
      },
      "source": [
        "from sklearn.preprocessing import StandardScaler\n",
        "scaler = StandardScaler()\n",
        "df_num_scaled = scaler.fit_transform(df_num.astype(np.float64))"
      ],
      "execution_count": 35,
      "outputs": []
    },
    {
      "cell_type": "code",
      "metadata": {
        "id": "EmTG4GjrDluH"
      },
      "source": [
        "df_num_scaled = pd.DataFrame(df_num_scaled, index=df_num.index, columns=df_num.columns)"
      ],
      "execution_count": 36,
      "outputs": []
    },
    {
      "cell_type": "code",
      "metadata": {
        "id": "mE-gFlzJDeAH"
      },
      "source": [
        "X = pd.concat([df_ohe, df_num_scaled], axis=1)"
      ],
      "execution_count": 37,
      "outputs": []
    },
    {
      "cell_type": "code",
      "metadata": {
        "colab": {
          "base_uri": "https://localhost:8080/"
        },
        "id": "T3OPtC7ADiBR",
        "outputId": "daf038ae-ec49-4fa6-de91-8f7192bad116"
      },
      "source": [
        "X.shape, y.shape"
      ],
      "execution_count": 38,
      "outputs": [
        {
          "output_type": "execute_result",
          "data": {
            "text/plain": [
              "((81412, 177), (81412,))"
            ]
          },
          "metadata": {
            "tags": []
          },
          "execution_count": 38
        }
      ]
    },
    {
      "cell_type": "code",
      "metadata": {
        "id": "km10m_KxDptn"
      },
      "source": [
        "from sklearn.model_selection import cross_val_predict, cross_val_score\n",
        "from sklearn.metrics import precision_score, recall_score\n",
        "from sklearn.metrics import f1_score\n",
        "from sklearn.linear_model import SGDClassifier"
      ],
      "execution_count": 39,
      "outputs": []
    },
    {
      "cell_type": "code",
      "metadata": {
        "colab": {
          "base_uri": "https://localhost:8080/"
        },
        "id": "MUiqk_MbELca",
        "outputId": "6aea557c-288a-43da-9626-5dc3dda1e54c"
      },
      "source": [
        "from imblearn.over_sampling import SMOTE\n",
        "from imblearn.under_sampling import RandomUnderSampler\n",
        "from imblearn.pipeline import Pipeline"
      ],
      "execution_count": 40,
      "outputs": [
        {
          "output_type": "stream",
          "text": [
            "/usr/local/lib/python3.6/dist-packages/sklearn/externals/six.py:31: FutureWarning: The module is deprecated in version 0.21 and will be removed in version 0.23 since we've dropped support for Python 2.7. Please rely on the official version of six (https://pypi.org/project/six/).\n",
            "  \"(https://pypi.org/project/six/).\", FutureWarning)\n",
            "/usr/local/lib/python3.6/dist-packages/sklearn/utils/deprecation.py:144: FutureWarning: The sklearn.neighbors.base module is  deprecated in version 0.22 and will be removed in version 0.24. The corresponding classes / functions should instead be imported from sklearn.neighbors. Anything that cannot be imported from sklearn.neighbors is now part of the private API.\n",
            "  warnings.warn(message, FutureWarning)\n"
          ],
          "name": "stderr"
        }
      ]
    },
    {
      "cell_type": "code",
      "metadata": {
        "id": "KkD-GPJtHztS"
      },
      "source": [
        "over = SMOTE(sampling_strategy=0.5)\n",
        "under = RandomUnderSampler(sampling_strategy=0.5)"
      ],
      "execution_count": 41,
      "outputs": []
    },
    {
      "cell_type": "code",
      "metadata": {
        "colab": {
          "base_uri": "https://localhost:8080/"
        },
        "id": "JuCCcKfGIzFC",
        "outputId": "fe1cebaa-afc5-4c13-d34f-b88d43e0b1cc"
      },
      "source": [
        "Counter(y)"
      ],
      "execution_count": 42,
      "outputs": [
        {
          "output_type": "execute_result",
          "data": {
            "text/plain": [
              "Counter({0: 72340, 1: 9072})"
            ]
          },
          "metadata": {
            "tags": []
          },
          "execution_count": 42
        }
      ]
    },
    {
      "cell_type": "code",
      "metadata": {
        "id": "i2mY_UbuJbka",
        "outputId": "d3582109-97fb-4068-d5cb-3c76f1cfdc20",
        "colab": {
          "base_uri": "https://localhost:8080/"
        }
      },
      "source": [
        "X_, y_ = over.fit_resample(X, y)"
      ],
      "execution_count": 43,
      "outputs": [
        {
          "output_type": "stream",
          "text": [
            "/usr/local/lib/python3.6/dist-packages/sklearn/utils/deprecation.py:87: FutureWarning: Function safe_indexing is deprecated; safe_indexing is deprecated in version 0.22 and will be removed in version 0.24.\n",
            "  warnings.warn(msg, category=FutureWarning)\n"
          ],
          "name": "stderr"
        }
      ]
    },
    {
      "cell_type": "code",
      "metadata": {
        "id": "l6pZWI4BKGPP",
        "outputId": "1e342ed9-d018-4755-95eb-6fcdadb72691",
        "colab": {
          "base_uri": "https://localhost:8080/"
        }
      },
      "source": [
        "Counter(y_)"
      ],
      "execution_count": 44,
      "outputs": [
        {
          "output_type": "execute_result",
          "data": {
            "text/plain": [
              "Counter({0: 72340, 1: 36170})"
            ]
          },
          "metadata": {
            "tags": []
          },
          "execution_count": 44
        }
      ]
    },
    {
      "cell_type": "code",
      "metadata": {
        "id": "7qNANL-XKc5t"
      },
      "source": [
        "under = RandomUnderSampler(sampling_strategy=0.6)"
      ],
      "execution_count": 45,
      "outputs": []
    },
    {
      "cell_type": "code",
      "metadata": {
        "id": "21ZD7popKr1G",
        "outputId": "525af3f0-01f4-4b3a-fcb8-0e961aaf9821",
        "colab": {
          "base_uri": "https://localhost:8080/"
        }
      },
      "source": [
        "_X, _y = under.fit_resample(X_, y_)"
      ],
      "execution_count": 46,
      "outputs": [
        {
          "output_type": "stream",
          "text": [
            "/usr/local/lib/python3.6/dist-packages/sklearn/utils/deprecation.py:87: FutureWarning: Function safe_indexing is deprecated; safe_indexing is deprecated in version 0.22 and will be removed in version 0.24.\n",
            "  warnings.warn(msg, category=FutureWarning)\n"
          ],
          "name": "stderr"
        }
      ]
    },
    {
      "cell_type": "code",
      "metadata": {
        "id": "bQrMrAYnKtX6",
        "outputId": "ef49aeb6-66fa-4f12-baa9-ebb8463dda31",
        "colab": {
          "base_uri": "https://localhost:8080/"
        }
      },
      "source": [
        "Counter(_y)"
      ],
      "execution_count": 47,
      "outputs": [
        {
          "output_type": "execute_result",
          "data": {
            "text/plain": [
              "Counter({0: 60283, 1: 36170})"
            ]
          },
          "metadata": {
            "tags": []
          },
          "execution_count": 47
        }
      ]
    },
    {
      "cell_type": "code",
      "metadata": {
        "id": "vY3W-_xaK-wc"
      },
      "source": [
        "sgd_clf = SGDClassifier()"
      ],
      "execution_count": 48,
      "outputs": []
    },
    {
      "cell_type": "code",
      "metadata": {
        "id": "X-FOBJs0LHHk",
        "outputId": "98def07e-956f-49f8-e082-b3b6185adc09",
        "colab": {
          "base_uri": "https://localhost:8080/"
        }
      },
      "source": [
        "cross_val_score(sgd_clf, X, y, cv=3, scoring='accuracy') # original"
      ],
      "execution_count": 49,
      "outputs": [
        {
          "output_type": "execute_result",
          "data": {
            "text/plain": [
              "array([0.88856953, 0.88856543, 0.88856543])"
            ]
          },
          "metadata": {
            "tags": []
          },
          "execution_count": 49
        }
      ]
    },
    {
      "cell_type": "code",
      "metadata": {
        "id": "iCxrOA4nLJg0",
        "outputId": "195fba3f-3fd3-487d-d272-6dc014255664",
        "colab": {
          "base_uri": "https://localhost:8080/"
        }
      },
      "source": [
        "cross_val_score(sgd_clf, X_, y_, cv=3, scoring='accuracy') # oversampled minority class"
      ],
      "execution_count": 50,
      "outputs": [
        {
          "output_type": "execute_result",
          "data": {
            "text/plain": [
              "array([0.67777163, 0.67475809, 0.67846281])"
            ]
          },
          "metadata": {
            "tags": []
          },
          "execution_count": 50
        }
      ]
    },
    {
      "cell_type": "code",
      "metadata": {
        "id": "n7TBvh2vLM3f",
        "outputId": "35bbc604-0968-4431-e7f4-bc94ef82a587",
        "colab": {
          "base_uri": "https://localhost:8080/"
        }
      },
      "source": [
        "cross_val_score(sgd_clf, _X, _y, cv=3, scoring='accuracy') # undersampled majority + oversampled minority"
      ],
      "execution_count": 51,
      "outputs": [
        {
          "output_type": "execute_result",
          "data": {
            "text/plain": [
              "array([0.64837797, 0.64495661, 0.64365028])"
            ]
          },
          "metadata": {
            "tags": []
          },
          "execution_count": 51
        }
      ]
    },
    {
      "cell_type": "code",
      "metadata": {
        "id": "XZufzsZALYCk",
        "outputId": "b66837b4-3229-4ccb-fc5d-bbf4762d1f16",
        "colab": {
          "base_uri": "https://localhost:8080/"
        }
      },
      "source": [
        "cross_val_score(sgd_clf, X, y, cv=3, scoring='roc_auc') # original "
      ],
      "execution_count": 52,
      "outputs": [
        {
          "output_type": "execute_result",
          "data": {
            "text/plain": [
              "array([0.5486495 , 0.52585486, 0.56378633])"
            ]
          },
          "metadata": {
            "tags": []
          },
          "execution_count": 52
        }
      ]
    },
    {
      "cell_type": "code",
      "metadata": {
        "id": "Jcv1m13-Lgd9",
        "outputId": "98226185-074b-4e5d-a9ce-478c8026aa94",
        "colab": {
          "base_uri": "https://localhost:8080/"
        }
      },
      "source": [
        "cross_val_score(sgd_clf, X_, y_, cv=3, scoring='roc_auc') # oversampled minority class"
      ],
      "execution_count": 53,
      "outputs": [
        {
          "output_type": "execute_result",
          "data": {
            "text/plain": [
              "array([0.64379412, 0.65526393, 0.65267967])"
            ]
          },
          "metadata": {
            "tags": []
          },
          "execution_count": 53
        }
      ]
    },
    {
      "cell_type": "code",
      "metadata": {
        "id": "DTZAm1J_L6wF",
        "outputId": "f8e2da93-1b34-40a9-f025-3f5b548e49c6",
        "colab": {
          "base_uri": "https://localhost:8080/"
        }
      },
      "source": [
        "cross_val_score(sgd_clf, _X, _y, cv=3, scoring='roc_auc') # under major + over minor"
      ],
      "execution_count": 54,
      "outputs": [
        {
          "output_type": "execute_result",
          "data": {
            "text/plain": [
              "array([0.63947867, 0.63983607, 0.65534625])"
            ]
          },
          "metadata": {
            "tags": []
          },
          "execution_count": 54
        }
      ]
    },
    {
      "cell_type": "code",
      "metadata": {
        "id": "LsHyqrQfMCih",
        "outputId": "e0d516a6-6757-408c-91e7-d2d64bb7b7cd",
        "colab": {
          "base_uri": "https://localhost:8080/"
        }
      },
      "source": [
        "cross_val_score(sgd_clf, X, y, cv=3, scoring='recall') # original "
      ],
      "execution_count": 55,
      "outputs": [
        {
          "output_type": "execute_result",
          "data": {
            "text/plain": [
              "array([0.01455026, 0.        , 0.00033069])"
            ]
          },
          "metadata": {
            "tags": []
          },
          "execution_count": 55
        }
      ]
    },
    {
      "cell_type": "code",
      "metadata": {
        "id": "MdxQmd0wMQaN",
        "outputId": "6b49185f-cdf4-49aa-ed7c-f09b6bb37a99",
        "colab": {
          "base_uri": "https://localhost:8080/"
        }
      },
      "source": [
        "cross_val_score(sgd_clf, X_, y_, cv=3, scoring='recall') # over minor "
      ],
      "execution_count": 56,
      "outputs": [
        {
          "output_type": "execute_result",
          "data": {
            "text/plain": [
              "array([0.04346384, 0.05291532, 0.07398192])"
            ]
          },
          "metadata": {
            "tags": []
          },
          "execution_count": 56
        }
      ]
    },
    {
      "cell_type": "code",
      "metadata": {
        "id": "qZgmUZoNMUcW",
        "outputId": "70568e41-8e36-4712-d634-83ecc6c8c840",
        "colab": {
          "base_uri": "https://localhost:8080/"
        }
      },
      "source": [
        "cross_val_score(sgd_clf, _X, _y, cv=3, scoring='recall') # under major + over minor "
      ],
      "execution_count": 57,
      "outputs": [
        {
          "output_type": "execute_result",
          "data": {
            "text/plain": [
              "array([0.1117286 , 0.11246579, 0.13751348])"
            ]
          },
          "metadata": {
            "tags": []
          },
          "execution_count": 57
        }
      ]
    },
    {
      "cell_type": "code",
      "metadata": {
        "id": "W_LiHjxUMZ6G",
        "outputId": "4b7e2e9a-5e1a-45a6-e961-727978261d3a",
        "colab": {
          "base_uri": "https://localhost:8080/"
        }
      },
      "source": [
        "cross_val_score(sgd_clf, X, y, cv=3, scoring='f1_weighted') # original "
      ],
      "execution_count": 58,
      "outputs": [
        {
          "output_type": "execute_result",
          "data": {
            "text/plain": [
              "array([0.83610492, 0.83613573, 0.83613573])"
            ]
          },
          "metadata": {
            "tags": []
          },
          "execution_count": 58
        }
      ]
    },
    {
      "cell_type": "code",
      "metadata": {
        "id": "1tW8pbXRM39a",
        "outputId": "f9685521-29aa-4b87-8503-7eac99f036f4",
        "colab": {
          "base_uri": "https://localhost:8080/"
        }
      },
      "source": [
        "cross_val_score(sgd_clf, X_, y_, cv=3, scoring='f1_weighted') # over minor "
      ],
      "execution_count": 59,
      "outputs": [
        {
          "output_type": "execute_result",
          "data": {
            "text/plain": [
              "array([0.59118438, 0.57099142, 0.61106027])"
            ]
          },
          "metadata": {
            "tags": []
          },
          "execution_count": 59
        }
      ]
    },
    {
      "cell_type": "code",
      "metadata": {
        "id": "a0vg-ZRJM-Il",
        "outputId": "55e6738d-3682-480b-9709-43df24a4b479",
        "colab": {
          "base_uri": "https://localhost:8080/"
        }
      },
      "source": [
        "cross_val_score(sgd_clf, _X, _y, cv=3, scoring='f1_weighted') # under major + over minor "
      ],
      "execution_count": 60,
      "outputs": [
        {
          "output_type": "execute_result",
          "data": {
            "text/plain": [
              "array([0.56847199, 0.57253644, 0.56139416])"
            ]
          },
          "metadata": {
            "tags": []
          },
          "execution_count": 60
        }
      ]
    },
    {
      "cell_type": "code",
      "metadata": {
        "id": "BM3p5ZnHNGHA"
      },
      "source": [
        "over = SMOTE(sampling_strategy=0.75)"
      ],
      "execution_count": 61,
      "outputs": []
    },
    {
      "cell_type": "code",
      "metadata": {
        "id": "fx4-TaDENTXM",
        "outputId": "23480216-a6d3-49d3-9c33-408d44b8c961",
        "colab": {
          "base_uri": "https://localhost:8080/"
        }
      },
      "source": [
        "X__,  y__ = over.fit_resample(X, y)"
      ],
      "execution_count": 62,
      "outputs": [
        {
          "output_type": "stream",
          "text": [
            "/usr/local/lib/python3.6/dist-packages/sklearn/utils/deprecation.py:87: FutureWarning: Function safe_indexing is deprecated; safe_indexing is deprecated in version 0.22 and will be removed in version 0.24.\n",
            "  warnings.warn(msg, category=FutureWarning)\n"
          ],
          "name": "stderr"
        }
      ]
    },
    {
      "cell_type": "code",
      "metadata": {
        "id": "zU4KgT88Nb3x",
        "outputId": "380dc9c6-e49d-4536-b632-7d9394aa350c",
        "colab": {
          "base_uri": "https://localhost:8080/"
        }
      },
      "source": [
        "Counter(y__)"
      ],
      "execution_count": 63,
      "outputs": [
        {
          "output_type": "execute_result",
          "data": {
            "text/plain": [
              "Counter({0: 72340, 1: 54255})"
            ]
          },
          "metadata": {
            "tags": []
          },
          "execution_count": 63
        }
      ]
    },
    {
      "cell_type": "code",
      "metadata": {
        "id": "zMvuh5rSN7Ok",
        "outputId": "dfeab641-cf6d-4343-90a7-c67a35316469",
        "colab": {
          "base_uri": "https://localhost:8080/"
        }
      },
      "source": [
        "cross_val_score(sgd_clf, X__, y__, cv=3, scoring='roc_auc')"
      ],
      "execution_count": 64,
      "outputs": [
        {
          "output_type": "execute_result",
          "data": {
            "text/plain": [
              "array([0.64936189, 0.66974994, 0.66253392])"
            ]
          },
          "metadata": {
            "tags": []
          },
          "execution_count": 64
        }
      ]
    },
    {
      "cell_type": "code",
      "metadata": {
        "id": "E8I33ReSN_RO"
      },
      "source": [
        "over = SMOTE(sampling_strategy=0.9)"
      ],
      "execution_count": 65,
      "outputs": []
    },
    {
      "cell_type": "code",
      "metadata": {
        "id": "n63oQqeeOHum",
        "outputId": "bb1cb900-adfd-47f7-ec29-e948cb9a421c",
        "colab": {
          "base_uri": "https://localhost:8080/"
        }
      },
      "source": [
        "_X__,  _y__ = over.fit_resample(X, y)"
      ],
      "execution_count": 66,
      "outputs": [
        {
          "output_type": "stream",
          "text": [
            "/usr/local/lib/python3.6/dist-packages/sklearn/utils/deprecation.py:87: FutureWarning: Function safe_indexing is deprecated; safe_indexing is deprecated in version 0.22 and will be removed in version 0.24.\n",
            "  warnings.warn(msg, category=FutureWarning)\n"
          ],
          "name": "stderr"
        }
      ]
    },
    {
      "cell_type": "code",
      "metadata": {
        "id": "-0KLdFgBOK40",
        "outputId": "dfa6b121-ba6e-4a2f-a154-8573a87a3499",
        "colab": {
          "base_uri": "https://localhost:8080/"
        }
      },
      "source": [
        "cross_val_score(sgd_clf, _X__, _y__, cv=3, scoring='roc_auc')"
      ],
      "execution_count": 67,
      "outputs": [
        {
          "output_type": "execute_result",
          "data": {
            "text/plain": [
              "array([0.64693372, 0.66628139, 0.66517152])"
            ]
          },
          "metadata": {
            "tags": []
          },
          "execution_count": 67
        }
      ]
    },
    {
      "cell_type": "code",
      "metadata": {
        "id": "JpxiQBsuOUzH",
        "outputId": "0731d46c-97ae-476f-e626-b26b9f6d791c",
        "colab": {
          "base_uri": "https://localhost:8080/"
        }
      },
      "source": [
        "cross_val_score(sgd_clf, _X__, _y__, cv=3, scoring='recall')"
      ],
      "execution_count": 68,
      "outputs": [
        {
          "output_type": "execute_result",
          "data": {
            "text/plain": [
              "array([0.60459865, 0.44673302, 0.43272509])"
            ]
          },
          "metadata": {
            "tags": []
          },
          "execution_count": 68
        }
      ]
    },
    {
      "cell_type": "code",
      "metadata": {
        "id": "KiXJPBuOOf8w",
        "outputId": "a99c26e0-114a-408d-d71a-6295fbeccd1c",
        "colab": {
          "base_uri": "https://localhost:8080/"
        }
      },
      "source": [
        "cross_val_score(sgd_clf, _X__, _y__, cv=3, scoring='f1_weighted')"
      ],
      "execution_count": 69,
      "outputs": [
        {
          "output_type": "execute_result",
          "data": {
            "text/plain": [
              "array([0.60281533, 0.61608688, 0.60654061])"
            ]
          },
          "metadata": {
            "tags": []
          },
          "execution_count": 69
        }
      ]
    },
    {
      "cell_type": "code",
      "metadata": {
        "id": "5xQ7-_NsOh-W",
        "outputId": "a4af0d96-dbeb-4a66-a0e8-decc5967da9d",
        "colab": {
          "base_uri": "https://localhost:8080/"
        }
      },
      "source": [
        "cross_val_score(sgd_clf, X__, y__, cv=3, scoring='recall')"
      ],
      "execution_count": 70,
      "outputs": [
        {
          "output_type": "execute_result",
          "data": {
            "text/plain": [
              "array([0.43787669, 0.45247443, 0.34553497])"
            ]
          },
          "metadata": {
            "tags": []
          },
          "execution_count": 70
        }
      ]
    },
    {
      "cell_type": "code",
      "metadata": {
        "id": "VO5bY7W6OkOc",
        "outputId": "a5725721-363c-4f46-ff4a-a8b593a9c756",
        "colab": {
          "base_uri": "https://localhost:8080/"
        }
      },
      "source": [
        "cross_val_score(sgd_clf, X__, y__, cv=3, scoring='f1_weighted')"
      ],
      "execution_count": 71,
      "outputs": [
        {
          "output_type": "execute_result",
          "data": {
            "text/plain": [
              "array([0.60746427, 0.57114531, 0.61885063])"
            ]
          },
          "metadata": {
            "tags": []
          },
          "execution_count": 71
        }
      ]
    },
    {
      "cell_type": "code",
      "metadata": {
        "id": "x5ZxB9EfOobH"
      },
      "source": [
        "# How about dramatically oversampling the minority class? \n",
        "over = SMOTE(sampling_strategy=1)"
      ],
      "execution_count": 72,
      "outputs": []
    },
    {
      "cell_type": "code",
      "metadata": {
        "id": "Kv0B5Gc_O2Ld",
        "outputId": "1bd73e25-bba9-44f1-9fbb-1003724bb3fc",
        "colab": {
          "base_uri": "https://localhost:8080/"
        }
      },
      "source": [
        "dramatic_X, dramatic_y = over.fit_resample(X, y)"
      ],
      "execution_count": 73,
      "outputs": [
        {
          "output_type": "stream",
          "text": [
            "/usr/local/lib/python3.6/dist-packages/sklearn/utils/deprecation.py:87: FutureWarning: Function safe_indexing is deprecated; safe_indexing is deprecated in version 0.22 and will be removed in version 0.24.\n",
            "  warnings.warn(msg, category=FutureWarning)\n"
          ],
          "name": "stderr"
        }
      ]
    },
    {
      "cell_type": "code",
      "metadata": {
        "id": "JTDaQYBjO72U",
        "outputId": "37875753-80ee-42d7-ce87-a21f294536e2",
        "colab": {
          "base_uri": "https://localhost:8080/"
        }
      },
      "source": [
        "Counter(dramatic_y)"
      ],
      "execution_count": 74,
      "outputs": [
        {
          "output_type": "execute_result",
          "data": {
            "text/plain": [
              "Counter({0: 72340, 1: 72340})"
            ]
          },
          "metadata": {
            "tags": []
          },
          "execution_count": 74
        }
      ]
    },
    {
      "cell_type": "code",
      "metadata": {
        "id": "gPFHrrzZPKyt",
        "outputId": "81a22013-7e41-4ad5-9987-46a2ceecf5c5",
        "colab": {
          "base_uri": "https://localhost:8080/"
        }
      },
      "source": [
        "cross_val_score(sgd_clf, dramatic_X, dramatic_y, cv=3, scoring='roc_auc')"
      ],
      "execution_count": 75,
      "outputs": [
        {
          "output_type": "execute_result",
          "data": {
            "text/plain": [
              "array([0.6553182 , 0.66897189, 0.66408651])"
            ]
          },
          "metadata": {
            "tags": []
          },
          "execution_count": 75
        }
      ]
    },
    {
      "cell_type": "code",
      "metadata": {
        "id": "9-fjFrXCPR3z",
        "outputId": "906118fd-cf58-4197-d968-da1482ce907b",
        "colab": {
          "base_uri": "https://localhost:8080/"
        }
      },
      "source": [
        "cross_val_score(sgd_clf, X__, y__, cv=3, scoring='recall')"
      ],
      "execution_count": 76,
      "outputs": [
        {
          "output_type": "execute_result",
          "data": {
            "text/plain": [
              "array([0.38269284, 0.1532762 , 0.2656345 ])"
            ]
          },
          "metadata": {
            "tags": []
          },
          "execution_count": 76
        }
      ]
    },
    {
      "cell_type": "code",
      "metadata": {
        "id": "12L7pI12PUx_",
        "outputId": "dde10cbc-6372-44e2-d4bd-9c386f82f3ab",
        "colab": {
          "base_uri": "https://localhost:8080/"
        }
      },
      "source": [
        "cross_val_score(sgd_clf, X__, y__, cv=3, scoring='f1_weighted')"
      ],
      "execution_count": 77,
      "outputs": [
        {
          "output_type": "execute_result",
          "data": {
            "text/plain": [
              "array([0.58341832, 0.61048563, 0.54614078])"
            ]
          },
          "metadata": {
            "tags": []
          },
          "execution_count": 77
        }
      ]
    },
    {
      "cell_type": "code",
      "metadata": {
        "id": "LqyFg-cZPV0y"
      },
      "source": [
        "from sklearn.linear_model import LogisticRegression"
      ],
      "execution_count": 78,
      "outputs": []
    },
    {
      "cell_type": "code",
      "metadata": {
        "id": "U80FqNmkPzBA"
      },
      "source": [
        "lg_clf = LogisticRegression()"
      ],
      "execution_count": 79,
      "outputs": []
    },
    {
      "cell_type": "code",
      "metadata": {
        "id": "vzEcQHWXP1NS",
        "outputId": "ac7f6a45-d1bb-4725-d6a4-f36a195af29f",
        "colab": {
          "base_uri": "https://localhost:8080/"
        }
      },
      "source": [
        "cross_val_score(lg_clf, X, y, cv=3, scoring='accuracy')"
      ],
      "execution_count": 80,
      "outputs": [
        {
          "output_type": "stream",
          "text": [
            "/usr/local/lib/python3.6/dist-packages/sklearn/linear_model/_logistic.py:940: ConvergenceWarning: lbfgs failed to converge (status=1):\n",
            "STOP: TOTAL NO. of ITERATIONS REACHED LIMIT.\n",
            "\n",
            "Increase the number of iterations (max_iter) or scale the data as shown in:\n",
            "    https://scikit-learn.org/stable/modules/preprocessing.html\n",
            "Please also refer to the documentation for alternative solver options:\n",
            "    https://scikit-learn.org/stable/modules/linear_model.html#logistic-regression\n",
            "  extra_warning_msg=_LOGISTIC_SOLVER_CONVERGENCE_MSG)\n",
            "/usr/local/lib/python3.6/dist-packages/sklearn/linear_model/_logistic.py:940: ConvergenceWarning: lbfgs failed to converge (status=1):\n",
            "STOP: TOTAL NO. of ITERATIONS REACHED LIMIT.\n",
            "\n",
            "Increase the number of iterations (max_iter) or scale the data as shown in:\n",
            "    https://scikit-learn.org/stable/modules/preprocessing.html\n",
            "Please also refer to the documentation for alternative solver options:\n",
            "    https://scikit-learn.org/stable/modules/linear_model.html#logistic-regression\n",
            "  extra_warning_msg=_LOGISTIC_SOLVER_CONVERGENCE_MSG)\n",
            "/usr/local/lib/python3.6/dist-packages/sklearn/linear_model/_logistic.py:940: ConvergenceWarning: lbfgs failed to converge (status=1):\n",
            "STOP: TOTAL NO. of ITERATIONS REACHED LIMIT.\n",
            "\n",
            "Increase the number of iterations (max_iter) or scale the data as shown in:\n",
            "    https://scikit-learn.org/stable/modules/preprocessing.html\n",
            "Please also refer to the documentation for alternative solver options:\n",
            "    https://scikit-learn.org/stable/modules/linear_model.html#logistic-regression\n",
            "  extra_warning_msg=_LOGISTIC_SOLVER_CONVERGENCE_MSG)\n"
          ],
          "name": "stderr"
        },
        {
          "output_type": "execute_result",
          "data": {
            "text/plain": [
              "array([0.88868008, 0.88897078, 0.88782843])"
            ]
          },
          "metadata": {
            "tags": []
          },
          "execution_count": 80
        }
      ]
    },
    {
      "cell_type": "code",
      "metadata": {
        "id": "KxWYB__UP6lG",
        "outputId": "9163c5d0-f970-4b4c-83b5-571dd598d936",
        "colab": {
          "base_uri": "https://localhost:8080/"
        }
      },
      "source": [
        "cross_val_score(lg_clf, X_, y_, cv=3, scoring='accuracy')"
      ],
      "execution_count": 81,
      "outputs": [
        {
          "output_type": "stream",
          "text": [
            "/usr/local/lib/python3.6/dist-packages/sklearn/linear_model/_logistic.py:940: ConvergenceWarning: lbfgs failed to converge (status=1):\n",
            "STOP: TOTAL NO. of ITERATIONS REACHED LIMIT.\n",
            "\n",
            "Increase the number of iterations (max_iter) or scale the data as shown in:\n",
            "    https://scikit-learn.org/stable/modules/preprocessing.html\n",
            "Please also refer to the documentation for alternative solver options:\n",
            "    https://scikit-learn.org/stable/modules/linear_model.html#logistic-regression\n",
            "  extra_warning_msg=_LOGISTIC_SOLVER_CONVERGENCE_MSG)\n",
            "/usr/local/lib/python3.6/dist-packages/sklearn/linear_model/_logistic.py:940: ConvergenceWarning: lbfgs failed to converge (status=1):\n",
            "STOP: TOTAL NO. of ITERATIONS REACHED LIMIT.\n",
            "\n",
            "Increase the number of iterations (max_iter) or scale the data as shown in:\n",
            "    https://scikit-learn.org/stable/modules/preprocessing.html\n",
            "Please also refer to the documentation for alternative solver options:\n",
            "    https://scikit-learn.org/stable/modules/linear_model.html#logistic-regression\n",
            "  extra_warning_msg=_LOGISTIC_SOLVER_CONVERGENCE_MSG)\n",
            "/usr/local/lib/python3.6/dist-packages/sklearn/linear_model/_logistic.py:940: ConvergenceWarning: lbfgs failed to converge (status=1):\n",
            "STOP: TOTAL NO. of ITERATIONS REACHED LIMIT.\n",
            "\n",
            "Increase the number of iterations (max_iter) or scale the data as shown in:\n",
            "    https://scikit-learn.org/stable/modules/preprocessing.html\n",
            "Please also refer to the documentation for alternative solver options:\n",
            "    https://scikit-learn.org/stable/modules/linear_model.html#logistic-regression\n",
            "  extra_warning_msg=_LOGISTIC_SOLVER_CONVERGENCE_MSG)\n"
          ],
          "name": "stderr"
        },
        {
          "output_type": "execute_result",
          "data": {
            "text/plain": [
              "array([0.67846281, 0.67970694, 0.67696986])"
            ]
          },
          "metadata": {
            "tags": []
          },
          "execution_count": 81
        }
      ]
    },
    {
      "cell_type": "code",
      "metadata": {
        "id": "xjKxeNA4P_3D",
        "outputId": "803be7aa-a676-4934-d02c-43e455a57228",
        "colab": {
          "base_uri": "https://localhost:8080/"
        }
      },
      "source": [
        "cross_val_score(lg_clf, X, y, cv=3, scoring='roc_auc')"
      ],
      "execution_count": 82,
      "outputs": [
        {
          "output_type": "stream",
          "text": [
            "/usr/local/lib/python3.6/dist-packages/sklearn/linear_model/_logistic.py:940: ConvergenceWarning: lbfgs failed to converge (status=1):\n",
            "STOP: TOTAL NO. of ITERATIONS REACHED LIMIT.\n",
            "\n",
            "Increase the number of iterations (max_iter) or scale the data as shown in:\n",
            "    https://scikit-learn.org/stable/modules/preprocessing.html\n",
            "Please also refer to the documentation for alternative solver options:\n",
            "    https://scikit-learn.org/stable/modules/linear_model.html#logistic-regression\n",
            "  extra_warning_msg=_LOGISTIC_SOLVER_CONVERGENCE_MSG)\n",
            "/usr/local/lib/python3.6/dist-packages/sklearn/linear_model/_logistic.py:940: ConvergenceWarning: lbfgs failed to converge (status=1):\n",
            "STOP: TOTAL NO. of ITERATIONS REACHED LIMIT.\n",
            "\n",
            "Increase the number of iterations (max_iter) or scale the data as shown in:\n",
            "    https://scikit-learn.org/stable/modules/preprocessing.html\n",
            "Please also refer to the documentation for alternative solver options:\n",
            "    https://scikit-learn.org/stable/modules/linear_model.html#logistic-regression\n",
            "  extra_warning_msg=_LOGISTIC_SOLVER_CONVERGENCE_MSG)\n",
            "/usr/local/lib/python3.6/dist-packages/sklearn/linear_model/_logistic.py:940: ConvergenceWarning: lbfgs failed to converge (status=1):\n",
            "STOP: TOTAL NO. of ITERATIONS REACHED LIMIT.\n",
            "\n",
            "Increase the number of iterations (max_iter) or scale the data as shown in:\n",
            "    https://scikit-learn.org/stable/modules/preprocessing.html\n",
            "Please also refer to the documentation for alternative solver options:\n",
            "    https://scikit-learn.org/stable/modules/linear_model.html#logistic-regression\n",
            "  extra_warning_msg=_LOGISTIC_SOLVER_CONVERGENCE_MSG)\n"
          ],
          "name": "stderr"
        },
        {
          "output_type": "execute_result",
          "data": {
            "text/plain": [
              "array([0.64623063, 0.64420123, 0.63615024])"
            ]
          },
          "metadata": {
            "tags": []
          },
          "execution_count": 82
        }
      ]
    },
    {
      "cell_type": "code",
      "metadata": {
        "id": "U1YfD499QF9C",
        "outputId": "0accb21f-f54b-4e1b-d5e7-8694a4e532a7",
        "colab": {
          "base_uri": "https://localhost:8080/"
        }
      },
      "source": [
        "cross_val_score(lg_clf, X_, y_, cv=3, scoring='roc_auc')"
      ],
      "execution_count": 83,
      "outputs": [
        {
          "output_type": "stream",
          "text": [
            "/usr/local/lib/python3.6/dist-packages/sklearn/linear_model/_logistic.py:940: ConvergenceWarning: lbfgs failed to converge (status=1):\n",
            "STOP: TOTAL NO. of ITERATIONS REACHED LIMIT.\n",
            "\n",
            "Increase the number of iterations (max_iter) or scale the data as shown in:\n",
            "    https://scikit-learn.org/stable/modules/preprocessing.html\n",
            "Please also refer to the documentation for alternative solver options:\n",
            "    https://scikit-learn.org/stable/modules/linear_model.html#logistic-regression\n",
            "  extra_warning_msg=_LOGISTIC_SOLVER_CONVERGENCE_MSG)\n",
            "/usr/local/lib/python3.6/dist-packages/sklearn/linear_model/_logistic.py:940: ConvergenceWarning: lbfgs failed to converge (status=1):\n",
            "STOP: TOTAL NO. of ITERATIONS REACHED LIMIT.\n",
            "\n",
            "Increase the number of iterations (max_iter) or scale the data as shown in:\n",
            "    https://scikit-learn.org/stable/modules/preprocessing.html\n",
            "Please also refer to the documentation for alternative solver options:\n",
            "    https://scikit-learn.org/stable/modules/linear_model.html#logistic-regression\n",
            "  extra_warning_msg=_LOGISTIC_SOLVER_CONVERGENCE_MSG)\n",
            "/usr/local/lib/python3.6/dist-packages/sklearn/linear_model/_logistic.py:940: ConvergenceWarning: lbfgs failed to converge (status=1):\n",
            "STOP: TOTAL NO. of ITERATIONS REACHED LIMIT.\n",
            "\n",
            "Increase the number of iterations (max_iter) or scale the data as shown in:\n",
            "    https://scikit-learn.org/stable/modules/preprocessing.html\n",
            "Please also refer to the documentation for alternative solver options:\n",
            "    https://scikit-learn.org/stable/modules/linear_model.html#logistic-regression\n",
            "  extra_warning_msg=_LOGISTIC_SOLVER_CONVERGENCE_MSG)\n"
          ],
          "name": "stderr"
        },
        {
          "output_type": "execute_result",
          "data": {
            "text/plain": [
              "array([0.64259837, 0.67617849, 0.6680559 ])"
            ]
          },
          "metadata": {
            "tags": []
          },
          "execution_count": 83
        }
      ]
    },
    {
      "cell_type": "code",
      "metadata": {
        "id": "u_Goq_NRQW6l",
        "outputId": "02a3c63c-7acb-4b96-9f17-557046e1d2a6",
        "colab": {
          "base_uri": "https://localhost:8080/"
        }
      },
      "source": [
        "cross_val_score(lg_clf, _X, _y, cv=3, scoring='roc_auc')"
      ],
      "execution_count": 84,
      "outputs": [
        {
          "output_type": "stream",
          "text": [
            "/usr/local/lib/python3.6/dist-packages/sklearn/linear_model/_logistic.py:940: ConvergenceWarning: lbfgs failed to converge (status=1):\n",
            "STOP: TOTAL NO. of ITERATIONS REACHED LIMIT.\n",
            "\n",
            "Increase the number of iterations (max_iter) or scale the data as shown in:\n",
            "    https://scikit-learn.org/stable/modules/preprocessing.html\n",
            "Please also refer to the documentation for alternative solver options:\n",
            "    https://scikit-learn.org/stable/modules/linear_model.html#logistic-regression\n",
            "  extra_warning_msg=_LOGISTIC_SOLVER_CONVERGENCE_MSG)\n",
            "/usr/local/lib/python3.6/dist-packages/sklearn/linear_model/_logistic.py:940: ConvergenceWarning: lbfgs failed to converge (status=1):\n",
            "STOP: TOTAL NO. of ITERATIONS REACHED LIMIT.\n",
            "\n",
            "Increase the number of iterations (max_iter) or scale the data as shown in:\n",
            "    https://scikit-learn.org/stable/modules/preprocessing.html\n",
            "Please also refer to the documentation for alternative solver options:\n",
            "    https://scikit-learn.org/stable/modules/linear_model.html#logistic-regression\n",
            "  extra_warning_msg=_LOGISTIC_SOLVER_CONVERGENCE_MSG)\n",
            "/usr/local/lib/python3.6/dist-packages/sklearn/linear_model/_logistic.py:940: ConvergenceWarning: lbfgs failed to converge (status=1):\n",
            "STOP: TOTAL NO. of ITERATIONS REACHED LIMIT.\n",
            "\n",
            "Increase the number of iterations (max_iter) or scale the data as shown in:\n",
            "    https://scikit-learn.org/stable/modules/preprocessing.html\n",
            "Please also refer to the documentation for alternative solver options:\n",
            "    https://scikit-learn.org/stable/modules/linear_model.html#logistic-regression\n",
            "  extra_warning_msg=_LOGISTIC_SOLVER_CONVERGENCE_MSG)\n"
          ],
          "name": "stderr"
        },
        {
          "output_type": "execute_result",
          "data": {
            "text/plain": [
              "array([0.64185862, 0.67563223, 0.66936348])"
            ]
          },
          "metadata": {
            "tags": []
          },
          "execution_count": 84
        }
      ]
    },
    {
      "cell_type": "code",
      "metadata": {
        "id": "CcUAFFxlQbVz",
        "outputId": "16a37dc9-7366-4aac-f52e-7201c76b91aa",
        "colab": {
          "base_uri": "https://localhost:8080/"
        }
      },
      "source": [
        "cross_val_score(lg_clf, X, y, cv=3, scoring='recall')"
      ],
      "execution_count": 85,
      "outputs": [
        {
          "output_type": "stream",
          "text": [
            "/usr/local/lib/python3.6/dist-packages/sklearn/linear_model/_logistic.py:940: ConvergenceWarning: lbfgs failed to converge (status=1):\n",
            "STOP: TOTAL NO. of ITERATIONS REACHED LIMIT.\n",
            "\n",
            "Increase the number of iterations (max_iter) or scale the data as shown in:\n",
            "    https://scikit-learn.org/stable/modules/preprocessing.html\n",
            "Please also refer to the documentation for alternative solver options:\n",
            "    https://scikit-learn.org/stable/modules/linear_model.html#logistic-regression\n",
            "  extra_warning_msg=_LOGISTIC_SOLVER_CONVERGENCE_MSG)\n",
            "/usr/local/lib/python3.6/dist-packages/sklearn/linear_model/_logistic.py:940: ConvergenceWarning: lbfgs failed to converge (status=1):\n",
            "STOP: TOTAL NO. of ITERATIONS REACHED LIMIT.\n",
            "\n",
            "Increase the number of iterations (max_iter) or scale the data as shown in:\n",
            "    https://scikit-learn.org/stable/modules/preprocessing.html\n",
            "Please also refer to the documentation for alternative solver options:\n",
            "    https://scikit-learn.org/stable/modules/linear_model.html#logistic-regression\n",
            "  extra_warning_msg=_LOGISTIC_SOLVER_CONVERGENCE_MSG)\n",
            "/usr/local/lib/python3.6/dist-packages/sklearn/linear_model/_logistic.py:940: ConvergenceWarning: lbfgs failed to converge (status=1):\n",
            "STOP: TOTAL NO. of ITERATIONS REACHED LIMIT.\n",
            "\n",
            "Increase the number of iterations (max_iter) or scale the data as shown in:\n",
            "    https://scikit-learn.org/stable/modules/preprocessing.html\n",
            "Please also refer to the documentation for alternative solver options:\n",
            "    https://scikit-learn.org/stable/modules/linear_model.html#logistic-regression\n",
            "  extra_warning_msg=_LOGISTIC_SOLVER_CONVERGENCE_MSG)\n"
          ],
          "name": "stderr"
        },
        {
          "output_type": "execute_result",
          "data": {
            "text/plain": [
              "array([0.01851852, 0.01322751, 0.0135582 ])"
            ]
          },
          "metadata": {
            "tags": []
          },
          "execution_count": 85
        }
      ]
    },
    {
      "cell_type": "code",
      "metadata": {
        "id": "ixGT1Q4PQj7y",
        "outputId": "cbf72c27-6185-4aba-c393-73df8b1581b7",
        "colab": {
          "base_uri": "https://localhost:8080/"
        }
      },
      "source": [
        "cross_val_score(lg_clf, X_, y_, cv=3, scoring='recall')"
      ],
      "execution_count": 86,
      "outputs": [
        {
          "output_type": "stream",
          "text": [
            "/usr/local/lib/python3.6/dist-packages/sklearn/linear_model/_logistic.py:940: ConvergenceWarning: lbfgs failed to converge (status=1):\n",
            "STOP: TOTAL NO. of ITERATIONS REACHED LIMIT.\n",
            "\n",
            "Increase the number of iterations (max_iter) or scale the data as shown in:\n",
            "    https://scikit-learn.org/stable/modules/preprocessing.html\n",
            "Please also refer to the documentation for alternative solver options:\n",
            "    https://scikit-learn.org/stable/modules/linear_model.html#logistic-regression\n",
            "  extra_warning_msg=_LOGISTIC_SOLVER_CONVERGENCE_MSG)\n",
            "/usr/local/lib/python3.6/dist-packages/sklearn/linear_model/_logistic.py:940: ConvergenceWarning: lbfgs failed to converge (status=1):\n",
            "STOP: TOTAL NO. of ITERATIONS REACHED LIMIT.\n",
            "\n",
            "Increase the number of iterations (max_iter) or scale the data as shown in:\n",
            "    https://scikit-learn.org/stable/modules/preprocessing.html\n",
            "Please also refer to the documentation for alternative solver options:\n",
            "    https://scikit-learn.org/stable/modules/linear_model.html#logistic-regression\n",
            "  extra_warning_msg=_LOGISTIC_SOLVER_CONVERGENCE_MSG)\n",
            "/usr/local/lib/python3.6/dist-packages/sklearn/linear_model/_logistic.py:940: ConvergenceWarning: lbfgs failed to converge (status=1):\n",
            "STOP: TOTAL NO. of ITERATIONS REACHED LIMIT.\n",
            "\n",
            "Increase the number of iterations (max_iter) or scale the data as shown in:\n",
            "    https://scikit-learn.org/stable/modules/preprocessing.html\n",
            "Please also refer to the documentation for alternative solver options:\n",
            "    https://scikit-learn.org/stable/modules/linear_model.html#logistic-regression\n",
            "  extra_warning_msg=_LOGISTIC_SOLVER_CONVERGENCE_MSG)\n"
          ],
          "name": "stderr"
        },
        {
          "output_type": "execute_result",
          "data": {
            "text/plain": [
              "array([0.17626078, 0.15617484, 0.15965829])"
            ]
          },
          "metadata": {
            "tags": []
          },
          "execution_count": 86
        }
      ]
    },
    {
      "cell_type": "code",
      "metadata": {
        "id": "HjmIm4ALQn5q",
        "outputId": "bac3ee59-8a81-4395-a4c5-6e8581b83bcd",
        "colab": {
          "base_uri": "https://localhost:8080/"
        }
      },
      "source": [
        "cross_val_score(lg_clf, _X, _y, cv=3, scoring='recall')"
      ],
      "execution_count": 87,
      "outputs": [
        {
          "output_type": "stream",
          "text": [
            "/usr/local/lib/python3.6/dist-packages/sklearn/linear_model/_logistic.py:940: ConvergenceWarning: lbfgs failed to converge (status=1):\n",
            "STOP: TOTAL NO. of ITERATIONS REACHED LIMIT.\n",
            "\n",
            "Increase the number of iterations (max_iter) or scale the data as shown in:\n",
            "    https://scikit-learn.org/stable/modules/preprocessing.html\n",
            "Please also refer to the documentation for alternative solver options:\n",
            "    https://scikit-learn.org/stable/modules/linear_model.html#logistic-regression\n",
            "  extra_warning_msg=_LOGISTIC_SOLVER_CONVERGENCE_MSG)\n",
            "/usr/local/lib/python3.6/dist-packages/sklearn/linear_model/_logistic.py:940: ConvergenceWarning: lbfgs failed to converge (status=1):\n",
            "STOP: TOTAL NO. of ITERATIONS REACHED LIMIT.\n",
            "\n",
            "Increase the number of iterations (max_iter) or scale the data as shown in:\n",
            "    https://scikit-learn.org/stable/modules/preprocessing.html\n",
            "Please also refer to the documentation for alternative solver options:\n",
            "    https://scikit-learn.org/stable/modules/linear_model.html#logistic-regression\n",
            "  extra_warning_msg=_LOGISTIC_SOLVER_CONVERGENCE_MSG)\n",
            "/usr/local/lib/python3.6/dist-packages/sklearn/linear_model/_logistic.py:940: ConvergenceWarning: lbfgs failed to converge (status=1):\n",
            "STOP: TOTAL NO. of ITERATIONS REACHED LIMIT.\n",
            "\n",
            "Increase the number of iterations (max_iter) or scale the data as shown in:\n",
            "    https://scikit-learn.org/stable/modules/preprocessing.html\n",
            "Please also refer to the documentation for alternative solver options:\n",
            "    https://scikit-learn.org/stable/modules/linear_model.html#logistic-regression\n",
            "  extra_warning_msg=_LOGISTIC_SOLVER_CONVERGENCE_MSG)\n"
          ],
          "name": "stderr"
        },
        {
          "output_type": "execute_result",
          "data": {
            "text/plain": [
              "array([0.25705043, 0.2372066 , 0.23480136])"
            ]
          },
          "metadata": {
            "tags": []
          },
          "execution_count": 87
        }
      ]
    },
    {
      "cell_type": "code",
      "metadata": {
        "id": "Tmk_SG3xQpnh",
        "outputId": "fa6a8d75-9ac4-4e10-820a-8a380fcacde5",
        "colab": {
          "base_uri": "https://localhost:8080/"
        }
      },
      "source": [
        "cross_val_score(lg_clf, X, y, cv=3, scoring='f1_weighted')"
      ],
      "execution_count": 88,
      "outputs": [
        {
          "output_type": "stream",
          "text": [
            "/usr/local/lib/python3.6/dist-packages/sklearn/linear_model/_logistic.py:940: ConvergenceWarning: lbfgs failed to converge (status=1):\n",
            "STOP: TOTAL NO. of ITERATIONS REACHED LIMIT.\n",
            "\n",
            "Increase the number of iterations (max_iter) or scale the data as shown in:\n",
            "    https://scikit-learn.org/stable/modules/preprocessing.html\n",
            "Please also refer to the documentation for alternative solver options:\n",
            "    https://scikit-learn.org/stable/modules/linear_model.html#logistic-regression\n",
            "  extra_warning_msg=_LOGISTIC_SOLVER_CONVERGENCE_MSG)\n",
            "/usr/local/lib/python3.6/dist-packages/sklearn/linear_model/_logistic.py:940: ConvergenceWarning: lbfgs failed to converge (status=1):\n",
            "STOP: TOTAL NO. of ITERATIONS REACHED LIMIT.\n",
            "\n",
            "Increase the number of iterations (max_iter) or scale the data as shown in:\n",
            "    https://scikit-learn.org/stable/modules/preprocessing.html\n",
            "Please also refer to the documentation for alternative solver options:\n",
            "    https://scikit-learn.org/stable/modules/linear_model.html#logistic-regression\n",
            "  extra_warning_msg=_LOGISTIC_SOLVER_CONVERGENCE_MSG)\n",
            "/usr/local/lib/python3.6/dist-packages/sklearn/linear_model/_logistic.py:940: ConvergenceWarning: lbfgs failed to converge (status=1):\n",
            "STOP: TOTAL NO. of ITERATIONS REACHED LIMIT.\n",
            "\n",
            "Increase the number of iterations (max_iter) or scale the data as shown in:\n",
            "    https://scikit-learn.org/stable/modules/preprocessing.html\n",
            "Please also refer to the documentation for alternative solver options:\n",
            "    https://scikit-learn.org/stable/modules/linear_model.html#logistic-regression\n",
            "  extra_warning_msg=_LOGISTIC_SOLVER_CONVERGENCE_MSG)\n"
          ],
          "name": "stderr"
        },
        {
          "output_type": "execute_result",
          "data": {
            "text/plain": [
              "array([0.8400655 , 0.83913826, 0.83860684])"
            ]
          },
          "metadata": {
            "tags": []
          },
          "execution_count": 88
        }
      ]
    },
    {
      "cell_type": "code",
      "metadata": {
        "id": "oEa6qn8oQv-O",
        "outputId": "af373efc-947a-44a6-ccf4-f85580a7f801",
        "colab": {
          "base_uri": "https://localhost:8080/"
        }
      },
      "source": [
        "cross_val_score(lg_clf, X_, y_, cv=3, scoring='f1_weighted')"
      ],
      "execution_count": 89,
      "outputs": [
        {
          "output_type": "stream",
          "text": [
            "/usr/local/lib/python3.6/dist-packages/sklearn/linear_model/_logistic.py:940: ConvergenceWarning: lbfgs failed to converge (status=1):\n",
            "STOP: TOTAL NO. of ITERATIONS REACHED LIMIT.\n",
            "\n",
            "Increase the number of iterations (max_iter) or scale the data as shown in:\n",
            "    https://scikit-learn.org/stable/modules/preprocessing.html\n",
            "Please also refer to the documentation for alternative solver options:\n",
            "    https://scikit-learn.org/stable/modules/linear_model.html#logistic-regression\n",
            "  extra_warning_msg=_LOGISTIC_SOLVER_CONVERGENCE_MSG)\n",
            "/usr/local/lib/python3.6/dist-packages/sklearn/linear_model/_logistic.py:940: ConvergenceWarning: lbfgs failed to converge (status=1):\n",
            "STOP: TOTAL NO. of ITERATIONS REACHED LIMIT.\n",
            "\n",
            "Increase the number of iterations (max_iter) or scale the data as shown in:\n",
            "    https://scikit-learn.org/stable/modules/preprocessing.html\n",
            "Please also refer to the documentation for alternative solver options:\n",
            "    https://scikit-learn.org/stable/modules/linear_model.html#logistic-regression\n",
            "  extra_warning_msg=_LOGISTIC_SOLVER_CONVERGENCE_MSG)\n",
            "/usr/local/lib/python3.6/dist-packages/sklearn/linear_model/_logistic.py:940: ConvergenceWarning: lbfgs failed to converge (status=1):\n",
            "STOP: TOTAL NO. of ITERATIONS REACHED LIMIT.\n",
            "\n",
            "Increase the number of iterations (max_iter) or scale the data as shown in:\n",
            "    https://scikit-learn.org/stable/modules/preprocessing.html\n",
            "Please also refer to the documentation for alternative solver options:\n",
            "    https://scikit-learn.org/stable/modules/linear_model.html#logistic-regression\n",
            "  extra_warning_msg=_LOGISTIC_SOLVER_CONVERGENCE_MSG)\n"
          ],
          "name": "stderr"
        },
        {
          "output_type": "execute_result",
          "data": {
            "text/plain": [
              "array([0.61856276, 0.6129137 , 0.61215445])"
            ]
          },
          "metadata": {
            "tags": []
          },
          "execution_count": 89
        }
      ]
    },
    {
      "cell_type": "code",
      "metadata": {
        "id": "XULgTssKQ3lU",
        "outputId": "7573ccc6-0c72-4972-e53e-13821b1ef2be",
        "colab": {
          "base_uri": "https://localhost:8080/"
        }
      },
      "source": [
        "cross_val_score(lg_clf, _X, _y, cv=3, scoring='f1_weighted')"
      ],
      "execution_count": 90,
      "outputs": [
        {
          "output_type": "stream",
          "text": [
            "/usr/local/lib/python3.6/dist-packages/sklearn/linear_model/_logistic.py:940: ConvergenceWarning: lbfgs failed to converge (status=1):\n",
            "STOP: TOTAL NO. of ITERATIONS REACHED LIMIT.\n",
            "\n",
            "Increase the number of iterations (max_iter) or scale the data as shown in:\n",
            "    https://scikit-learn.org/stable/modules/preprocessing.html\n",
            "Please also refer to the documentation for alternative solver options:\n",
            "    https://scikit-learn.org/stable/modules/linear_model.html#logistic-regression\n",
            "  extra_warning_msg=_LOGISTIC_SOLVER_CONVERGENCE_MSG)\n",
            "/usr/local/lib/python3.6/dist-packages/sklearn/linear_model/_logistic.py:940: ConvergenceWarning: lbfgs failed to converge (status=1):\n",
            "STOP: TOTAL NO. of ITERATIONS REACHED LIMIT.\n",
            "\n",
            "Increase the number of iterations (max_iter) or scale the data as shown in:\n",
            "    https://scikit-learn.org/stable/modules/preprocessing.html\n",
            "Please also refer to the documentation for alternative solver options:\n",
            "    https://scikit-learn.org/stable/modules/linear_model.html#logistic-regression\n",
            "  extra_warning_msg=_LOGISTIC_SOLVER_CONVERGENCE_MSG)\n",
            "/usr/local/lib/python3.6/dist-packages/sklearn/linear_model/_logistic.py:940: ConvergenceWarning: lbfgs failed to converge (status=1):\n",
            "STOP: TOTAL NO. of ITERATIONS REACHED LIMIT.\n",
            "\n",
            "Increase the number of iterations (max_iter) or scale the data as shown in:\n",
            "    https://scikit-learn.org/stable/modules/preprocessing.html\n",
            "Please also refer to the documentation for alternative solver options:\n",
            "    https://scikit-learn.org/stable/modules/linear_model.html#logistic-regression\n",
            "  extra_warning_msg=_LOGISTIC_SOLVER_CONVERGENCE_MSG)\n"
          ],
          "name": "stderr"
        },
        {
          "output_type": "execute_result",
          "data": {
            "text/plain": [
              "array([0.6062896 , 0.60308077, 0.60043932])"
            ]
          },
          "metadata": {
            "tags": []
          },
          "execution_count": 90
        }
      ]
    },
    {
      "cell_type": "code",
      "metadata": {
        "id": "ZdxBLivARDNn",
        "outputId": "df3761f9-139f-408e-c07f-2d238e04e5d7",
        "colab": {
          "base_uri": "https://localhost:8080/"
        }
      },
      "source": [
        "cross_val_score(lg_clf, dramatic_X, dramatic_y, cv=3, scoring='accuracy')"
      ],
      "execution_count": 91,
      "outputs": [
        {
          "output_type": "stream",
          "text": [
            "/usr/local/lib/python3.6/dist-packages/sklearn/linear_model/_logistic.py:940: ConvergenceWarning: lbfgs failed to converge (status=1):\n",
            "STOP: TOTAL NO. of ITERATIONS REACHED LIMIT.\n",
            "\n",
            "Increase the number of iterations (max_iter) or scale the data as shown in:\n",
            "    https://scikit-learn.org/stable/modules/preprocessing.html\n",
            "Please also refer to the documentation for alternative solver options:\n",
            "    https://scikit-learn.org/stable/modules/linear_model.html#logistic-regression\n",
            "  extra_warning_msg=_LOGISTIC_SOLVER_CONVERGENCE_MSG)\n",
            "/usr/local/lib/python3.6/dist-packages/sklearn/linear_model/_logistic.py:940: ConvergenceWarning: lbfgs failed to converge (status=1):\n",
            "STOP: TOTAL NO. of ITERATIONS REACHED LIMIT.\n",
            "\n",
            "Increase the number of iterations (max_iter) or scale the data as shown in:\n",
            "    https://scikit-learn.org/stable/modules/preprocessing.html\n",
            "Please also refer to the documentation for alternative solver options:\n",
            "    https://scikit-learn.org/stable/modules/linear_model.html#logistic-regression\n",
            "  extra_warning_msg=_LOGISTIC_SOLVER_CONVERGENCE_MSG)\n",
            "/usr/local/lib/python3.6/dist-packages/sklearn/linear_model/_logistic.py:940: ConvergenceWarning: lbfgs failed to converge (status=1):\n",
            "STOP: TOTAL NO. of ITERATIONS REACHED LIMIT.\n",
            "\n",
            "Increase the number of iterations (max_iter) or scale the data as shown in:\n",
            "    https://scikit-learn.org/stable/modules/preprocessing.html\n",
            "Please also refer to the documentation for alternative solver options:\n",
            "    https://scikit-learn.org/stable/modules/linear_model.html#logistic-regression\n",
            "  extra_warning_msg=_LOGISTIC_SOLVER_CONVERGENCE_MSG)\n"
          ],
          "name": "stderr"
        },
        {
          "output_type": "execute_result",
          "data": {
            "text/plain": [
              "array([0.61202231, 0.61983951, 0.62026708])"
            ]
          },
          "metadata": {
            "tags": []
          },
          "execution_count": 91
        }
      ]
    },
    {
      "cell_type": "code",
      "metadata": {
        "id": "NmxA80hNRPRx",
        "outputId": "eef71737-1493-4a39-b84f-3c8a71787756",
        "colab": {
          "base_uri": "https://localhost:8080/"
        }
      },
      "source": [
        "cross_val_score(lg_clf, dramatic_X, dramatic_y, cv=3, scoring='roc_auc')"
      ],
      "execution_count": 92,
      "outputs": [
        {
          "output_type": "stream",
          "text": [
            "/usr/local/lib/python3.6/dist-packages/sklearn/linear_model/_logistic.py:940: ConvergenceWarning: lbfgs failed to converge (status=1):\n",
            "STOP: TOTAL NO. of ITERATIONS REACHED LIMIT.\n",
            "\n",
            "Increase the number of iterations (max_iter) or scale the data as shown in:\n",
            "    https://scikit-learn.org/stable/modules/preprocessing.html\n",
            "Please also refer to the documentation for alternative solver options:\n",
            "    https://scikit-learn.org/stable/modules/linear_model.html#logistic-regression\n",
            "  extra_warning_msg=_LOGISTIC_SOLVER_CONVERGENCE_MSG)\n",
            "/usr/local/lib/python3.6/dist-packages/sklearn/linear_model/_logistic.py:940: ConvergenceWarning: lbfgs failed to converge (status=1):\n",
            "STOP: TOTAL NO. of ITERATIONS REACHED LIMIT.\n",
            "\n",
            "Increase the number of iterations (max_iter) or scale the data as shown in:\n",
            "    https://scikit-learn.org/stable/modules/preprocessing.html\n",
            "Please also refer to the documentation for alternative solver options:\n",
            "    https://scikit-learn.org/stable/modules/linear_model.html#logistic-regression\n",
            "  extra_warning_msg=_LOGISTIC_SOLVER_CONVERGENCE_MSG)\n",
            "/usr/local/lib/python3.6/dist-packages/sklearn/linear_model/_logistic.py:940: ConvergenceWarning: lbfgs failed to converge (status=1):\n",
            "STOP: TOTAL NO. of ITERATIONS REACHED LIMIT.\n",
            "\n",
            "Increase the number of iterations (max_iter) or scale the data as shown in:\n",
            "    https://scikit-learn.org/stable/modules/preprocessing.html\n",
            "Please also refer to the documentation for alternative solver options:\n",
            "    https://scikit-learn.org/stable/modules/linear_model.html#logistic-regression\n",
            "  extra_warning_msg=_LOGISTIC_SOLVER_CONVERGENCE_MSG)\n"
          ],
          "name": "stderr"
        },
        {
          "output_type": "execute_result",
          "data": {
            "text/plain": [
              "array([0.65838065, 0.67202505, 0.6691857 ])"
            ]
          },
          "metadata": {
            "tags": []
          },
          "execution_count": 92
        }
      ]
    },
    {
      "cell_type": "code",
      "metadata": {
        "id": "KsMg1zkMRYYp",
        "outputId": "9758e931-2c3a-430e-cd18-8de088bad1f3",
        "colab": {
          "base_uri": "https://localhost:8080/"
        }
      },
      "source": [
        "cross_val_score(lg_clf, dramatic_X, dramatic_y, cv=3, scoring='recall')"
      ],
      "execution_count": 93,
      "outputs": [
        {
          "output_type": "stream",
          "text": [
            "/usr/local/lib/python3.6/dist-packages/sklearn/linear_model/_logistic.py:940: ConvergenceWarning: lbfgs failed to converge (status=1):\n",
            "STOP: TOTAL NO. of ITERATIONS REACHED LIMIT.\n",
            "\n",
            "Increase the number of iterations (max_iter) or scale the data as shown in:\n",
            "    https://scikit-learn.org/stable/modules/preprocessing.html\n",
            "Please also refer to the documentation for alternative solver options:\n",
            "    https://scikit-learn.org/stable/modules/linear_model.html#logistic-regression\n",
            "  extra_warning_msg=_LOGISTIC_SOLVER_CONVERGENCE_MSG)\n",
            "/usr/local/lib/python3.6/dist-packages/sklearn/linear_model/_logistic.py:940: ConvergenceWarning: lbfgs failed to converge (status=1):\n",
            "STOP: TOTAL NO. of ITERATIONS REACHED LIMIT.\n",
            "\n",
            "Increase the number of iterations (max_iter) or scale the data as shown in:\n",
            "    https://scikit-learn.org/stable/modules/preprocessing.html\n",
            "Please also refer to the documentation for alternative solver options:\n",
            "    https://scikit-learn.org/stable/modules/linear_model.html#logistic-regression\n",
            "  extra_warning_msg=_LOGISTIC_SOLVER_CONVERGENCE_MSG)\n",
            "/usr/local/lib/python3.6/dist-packages/sklearn/linear_model/_logistic.py:940: ConvergenceWarning: lbfgs failed to converge (status=1):\n",
            "STOP: TOTAL NO. of ITERATIONS REACHED LIMIT.\n",
            "\n",
            "Increase the number of iterations (max_iter) or scale the data as shown in:\n",
            "    https://scikit-learn.org/stable/modules/preprocessing.html\n",
            "Please also refer to the documentation for alternative solver options:\n",
            "    https://scikit-learn.org/stable/modules/linear_model.html#logistic-regression\n",
            "  extra_warning_msg=_LOGISTIC_SOLVER_CONVERGENCE_MSG)\n"
          ],
          "name": "stderr"
        },
        {
          "output_type": "execute_result",
          "data": {
            "text/plain": [
              "array([0.58333679, 0.59961018, 0.5976859 ])"
            ]
          },
          "metadata": {
            "tags": []
          },
          "execution_count": 93
        }
      ]
    },
    {
      "cell_type": "code",
      "metadata": {
        "id": "QRj2BtMXRd04",
        "outputId": "6e2aa9c7-4977-4a08-f5e8-8986af3f4ef7",
        "colab": {
          "base_uri": "https://localhost:8080/"
        }
      },
      "source": [
        "cross_val_score(lg_clf, dramatic_X, dramatic_y, cv=3, scoring='f1_weighted')"
      ],
      "execution_count": 94,
      "outputs": [
        {
          "output_type": "stream",
          "text": [
            "/usr/local/lib/python3.6/dist-packages/sklearn/linear_model/_logistic.py:940: ConvergenceWarning: lbfgs failed to converge (status=1):\n",
            "STOP: TOTAL NO. of ITERATIONS REACHED LIMIT.\n",
            "\n",
            "Increase the number of iterations (max_iter) or scale the data as shown in:\n",
            "    https://scikit-learn.org/stable/modules/preprocessing.html\n",
            "Please also refer to the documentation for alternative solver options:\n",
            "    https://scikit-learn.org/stable/modules/linear_model.html#logistic-regression\n",
            "  extra_warning_msg=_LOGISTIC_SOLVER_CONVERGENCE_MSG)\n",
            "/usr/local/lib/python3.6/dist-packages/sklearn/linear_model/_logistic.py:940: ConvergenceWarning: lbfgs failed to converge (status=1):\n",
            "STOP: TOTAL NO. of ITERATIONS REACHED LIMIT.\n",
            "\n",
            "Increase the number of iterations (max_iter) or scale the data as shown in:\n",
            "    https://scikit-learn.org/stable/modules/preprocessing.html\n",
            "Please also refer to the documentation for alternative solver options:\n",
            "    https://scikit-learn.org/stable/modules/linear_model.html#logistic-regression\n",
            "  extra_warning_msg=_LOGISTIC_SOLVER_CONVERGENCE_MSG)\n",
            "/usr/local/lib/python3.6/dist-packages/sklearn/linear_model/_logistic.py:940: ConvergenceWarning: lbfgs failed to converge (status=1):\n",
            "STOP: TOTAL NO. of ITERATIONS REACHED LIMIT.\n",
            "\n",
            "Increase the number of iterations (max_iter) or scale the data as shown in:\n",
            "    https://scikit-learn.org/stable/modules/preprocessing.html\n",
            "Please also refer to the documentation for alternative solver options:\n",
            "    https://scikit-learn.org/stable/modules/linear_model.html#logistic-regression\n",
            "  extra_warning_msg=_LOGISTIC_SOLVER_CONVERGENCE_MSG)\n"
          ],
          "name": "stderr"
        },
        {
          "output_type": "execute_result",
          "data": {
            "text/plain": [
              "array([0.61170276, 0.61968391, 0.62007335])"
            ]
          },
          "metadata": {
            "tags": []
          },
          "execution_count": 94
        }
      ]
    },
    {
      "cell_type": "code",
      "metadata": {
        "id": "w2fn_eLIawpu"
      },
      "source": [
        "from sklearn.neural_network import MLPClassifier"
      ],
      "execution_count": 101,
      "outputs": []
    },
    {
      "cell_type": "code",
      "metadata": {
        "id": "RAEbo4UjfSIs"
      },
      "source": [
        "mlp_clf = MLPClassifier()"
      ],
      "execution_count": 102,
      "outputs": []
    },
    {
      "cell_type": "code",
      "metadata": {
        "id": "iMkTLvn8fY-d",
        "outputId": "24f2fd69-4254-4ccd-d948-55c54463b348",
        "colab": {
          "base_uri": "https://localhost:8080/"
        }
      },
      "source": [
        "cross_val_score(mlp_clf, X, y, cv=3, scoring='accuracy')"
      ],
      "execution_count": 103,
      "outputs": [
        {
          "output_type": "stream",
          "text": [
            "/usr/local/lib/python3.6/dist-packages/sklearn/neural_network/_multilayer_perceptron.py:571: ConvergenceWarning: Stochastic Optimizer: Maximum iterations (200) reached and the optimization hasn't converged yet.\n",
            "  % self.max_iter, ConvergenceWarning)\n",
            "/usr/local/lib/python3.6/dist-packages/sklearn/neural_network/_multilayer_perceptron.py:571: ConvergenceWarning: Stochastic Optimizer: Maximum iterations (200) reached and the optimization hasn't converged yet.\n",
            "  % self.max_iter, ConvergenceWarning)\n",
            "/usr/local/lib/python3.6/dist-packages/sklearn/neural_network/_multilayer_perceptron.py:571: ConvergenceWarning: Stochastic Optimizer: Maximum iterations (200) reached and the optimization hasn't converged yet.\n",
            "  % self.max_iter, ConvergenceWarning)\n"
          ],
          "name": "stderr"
        },
        {
          "output_type": "execute_result",
          "data": {
            "text/plain": [
              "array([0.86034343, 0.84220806, 0.86258614])"
            ]
          },
          "metadata": {
            "tags": []
          },
          "execution_count": 103
        }
      ]
    },
    {
      "cell_type": "code",
      "metadata": {
        "id": "zzoG5CTzfd6D",
        "outputId": "6fc365b1-eb8e-4ec8-e535-dad2092b8efb",
        "colab": {
          "base_uri": "https://localhost:8080/"
        }
      },
      "source": [
        "cross_val_score(mlp_clf, X_, y_, cv=3, scoring='accuracy')"
      ],
      "execution_count": 104,
      "outputs": [
        {
          "output_type": "stream",
          "text": [
            "/usr/local/lib/python3.6/dist-packages/sklearn/neural_network/_multilayer_perceptron.py:571: ConvergenceWarning: Stochastic Optimizer: Maximum iterations (200) reached and the optimization hasn't converged yet.\n",
            "  % self.max_iter, ConvergenceWarning)\n",
            "/usr/local/lib/python3.6/dist-packages/sklearn/neural_network/_multilayer_perceptron.py:571: ConvergenceWarning: Stochastic Optimizer: Maximum iterations (200) reached and the optimization hasn't converged yet.\n",
            "  % self.max_iter, ConvergenceWarning)\n",
            "/usr/local/lib/python3.6/dist-packages/sklearn/neural_network/_multilayer_perceptron.py:571: ConvergenceWarning: Stochastic Optimizer: Maximum iterations (200) reached and the optimization hasn't converged yet.\n",
            "  % self.max_iter, ConvergenceWarning)\n"
          ],
          "name": "stderr"
        },
        {
          "output_type": "execute_result",
          "data": {
            "text/plain": [
              "array([0.75236384, 0.8835499 , 0.88426873])"
            ]
          },
          "metadata": {
            "tags": []
          },
          "execution_count": 104
        }
      ]
    },
    {
      "cell_type": "code",
      "metadata": {
        "id": "JC72rTZNhQ6I",
        "outputId": "cae8ea77-c59a-44d3-bc9c-415f87b5c309",
        "colab": {
          "base_uri": "https://localhost:8080/"
        }
      },
      "source": [
        "cross_val_score(mlp_clf, dramatic_X, dramatic_y, cv=3, scoring='accuracy')"
      ],
      "execution_count": 105,
      "outputs": [
        {
          "output_type": "stream",
          "text": [
            "/usr/local/lib/python3.6/dist-packages/sklearn/neural_network/_multilayer_perceptron.py:571: ConvergenceWarning: Stochastic Optimizer: Maximum iterations (200) reached and the optimization hasn't converged yet.\n",
            "  % self.max_iter, ConvergenceWarning)\n",
            "/usr/local/lib/python3.6/dist-packages/sklearn/neural_network/_multilayer_perceptron.py:571: ConvergenceWarning: Stochastic Optimizer: Maximum iterations (200) reached and the optimization hasn't converged yet.\n",
            "  % self.max_iter, ConvergenceWarning)\n"
          ],
          "name": "stderr"
        },
        {
          "output_type": "execute_result",
          "data": {
            "text/plain": [
              "array([0.78642669, 0.89451967, 0.87799113])"
            ]
          },
          "metadata": {
            "tags": []
          },
          "execution_count": 105
        }
      ]
    },
    {
      "cell_type": "code",
      "metadata": {
        "id": "EwBXjQMRhUDh",
        "outputId": "bfe19955-17d8-40a4-b94d-b7b4fd3fb529",
        "colab": {
          "base_uri": "https://localhost:8080/"
        }
      },
      "source": [
        "cross_val_score(mlp_clf, X_, y_, cv=3, scoring='roc_auc')"
      ],
      "execution_count": 106,
      "outputs": [
        {
          "output_type": "stream",
          "text": [
            "/usr/local/lib/python3.6/dist-packages/sklearn/neural_network/_multilayer_perceptron.py:571: ConvergenceWarning: Stochastic Optimizer: Maximum iterations (200) reached and the optimization hasn't converged yet.\n",
            "  % self.max_iter, ConvergenceWarning)\n",
            "/usr/local/lib/python3.6/dist-packages/sklearn/neural_network/_multilayer_perceptron.py:571: ConvergenceWarning: Stochastic Optimizer: Maximum iterations (200) reached and the optimization hasn't converged yet.\n",
            "  % self.max_iter, ConvergenceWarning)\n"
          ],
          "name": "stderr"
        },
        {
          "output_type": "execute_result",
          "data": {
            "text/plain": [
              "array([0.75716185, 0.95687755, 0.95287017])"
            ]
          },
          "metadata": {
            "tags": []
          },
          "execution_count": 106
        }
      ]
    },
    {
      "cell_type": "code",
      "metadata": {
        "id": "VA_s8oTGhXb0",
        "outputId": "8c6e4b2c-4901-4acd-c858-e540ca83b582",
        "colab": {
          "base_uri": "https://localhost:8080/"
        }
      },
      "source": [
        "cross_val_score(mlp_clf, dramatic_X, dramatic_y, cv=3, scoring='roc_auc')"
      ],
      "execution_count": 107,
      "outputs": [
        {
          "output_type": "stream",
          "text": [
            "/usr/local/lib/python3.6/dist-packages/sklearn/neural_network/_multilayer_perceptron.py:571: ConvergenceWarning: Stochastic Optimizer: Maximum iterations (200) reached and the optimization hasn't converged yet.\n",
            "  % self.max_iter, ConvergenceWarning)\n",
            "/usr/local/lib/python3.6/dist-packages/sklearn/neural_network/_multilayer_perceptron.py:571: ConvergenceWarning: Stochastic Optimizer: Maximum iterations (200) reached and the optimization hasn't converged yet.\n",
            "  % self.max_iter, ConvergenceWarning)\n",
            "/usr/local/lib/python3.6/dist-packages/sklearn/neural_network/_multilayer_perceptron.py:571: ConvergenceWarning: Stochastic Optimizer: Maximum iterations (200) reached and the optimization hasn't converged yet.\n",
            "  % self.max_iter, ConvergenceWarning)\n"
          ],
          "name": "stderr"
        },
        {
          "output_type": "execute_result",
          "data": {
            "text/plain": [
              "array([0.87619674, 0.97178704, 0.96948178])"
            ]
          },
          "metadata": {
            "tags": []
          },
          "execution_count": 107
        }
      ]
    },
    {
      "cell_type": "code",
      "metadata": {
        "id": "evPUDtiRhbPk",
        "outputId": "35f8a09e-367b-44f6-823b-74130884b3e1",
        "colab": {
          "base_uri": "https://localhost:8080/"
        }
      },
      "source": [
        "cross_val_score(mlp_clf, X_, y_, cv=3, scoring='recall')"
      ],
      "execution_count": 108,
      "outputs": [
        {
          "output_type": "stream",
          "text": [
            "/usr/local/lib/python3.6/dist-packages/sklearn/neural_network/_multilayer_perceptron.py:571: ConvergenceWarning: Stochastic Optimizer: Maximum iterations (200) reached and the optimization hasn't converged yet.\n",
            "  % self.max_iter, ConvergenceWarning)\n",
            "/usr/local/lib/python3.6/dist-packages/sklearn/neural_network/_multilayer_perceptron.py:571: ConvergenceWarning: Stochastic Optimizer: Maximum iterations (200) reached and the optimization hasn't converged yet.\n",
            "  % self.max_iter, ConvergenceWarning)\n",
            "/usr/local/lib/python3.6/dist-packages/sklearn/neural_network/_multilayer_perceptron.py:571: ConvergenceWarning: Stochastic Optimizer: Maximum iterations (200) reached and the optimization hasn't converged yet.\n",
            "  % self.max_iter, ConvergenceWarning)\n"
          ],
          "name": "stderr"
        },
        {
          "output_type": "execute_result",
          "data": {
            "text/plain": [
              "array([0.4225282 , 0.92435929, 0.87376628])"
            ]
          },
          "metadata": {
            "tags": []
          },
          "execution_count": 108
        }
      ]
    },
    {
      "cell_type": "code",
      "metadata": {
        "id": "KtH0LyWRhlhY",
        "outputId": "d62a869b-8587-4737-bca4-e7ea19827e21",
        "colab": {
          "base_uri": "https://localhost:8080/"
        }
      },
      "source": [
        "cross_val_score(mlp_clf, dramatic_X, dramatic_y, cv=3, scoring='recall')"
      ],
      "execution_count": 109,
      "outputs": [
        {
          "output_type": "stream",
          "text": [
            "/usr/local/lib/python3.6/dist-packages/sklearn/neural_network/_multilayer_perceptron.py:571: ConvergenceWarning: Stochastic Optimizer: Maximum iterations (200) reached and the optimization hasn't converged yet.\n",
            "  % self.max_iter, ConvergenceWarning)\n",
            "/usr/local/lib/python3.6/dist-packages/sklearn/neural_network/_multilayer_perceptron.py:571: ConvergenceWarning: Stochastic Optimizer: Maximum iterations (200) reached and the optimization hasn't converged yet.\n",
            "  % self.max_iter, ConvergenceWarning)\n",
            "/usr/local/lib/python3.6/dist-packages/sklearn/neural_network/_multilayer_perceptron.py:571: ConvergenceWarning: Stochastic Optimizer: Maximum iterations (200) reached and the optimization hasn't converged yet.\n",
            "  % self.max_iter, ConvergenceWarning)\n"
          ],
          "name": "stderr"
        },
        {
          "output_type": "execute_result",
          "data": {
            "text/plain": [
              "array([0.64649774, 0.94579912, 0.94753867])"
            ]
          },
          "metadata": {
            "tags": []
          },
          "execution_count": 109
        }
      ]
    },
    {
      "cell_type": "code",
      "metadata": {
        "id": "QlKR6B2nhppy",
        "outputId": "aa03b7b1-2c0e-447c-b81a-d1d97d942d51",
        "colab": {
          "base_uri": "https://localhost:8080/"
        }
      },
      "source": [
        "cross_val_score(mlp_clf, X_, y_, cv=3, scoring='f1_weighted')"
      ],
      "execution_count": 110,
      "outputs": [
        {
          "output_type": "stream",
          "text": [
            "/usr/local/lib/python3.6/dist-packages/sklearn/neural_network/_multilayer_perceptron.py:571: ConvergenceWarning: Stochastic Optimizer: Maximum iterations (200) reached and the optimization hasn't converged yet.\n",
            "  % self.max_iter, ConvergenceWarning)\n",
            "/usr/local/lib/python3.6/dist-packages/sklearn/neural_network/_multilayer_perceptron.py:571: ConvergenceWarning: Stochastic Optimizer: Maximum iterations (200) reached and the optimization hasn't converged yet.\n",
            "  % self.max_iter, ConvergenceWarning)\n"
          ],
          "name": "stderr"
        },
        {
          "output_type": "execute_result",
          "data": {
            "text/plain": [
              "array([0.72811649, 0.90058625, 0.88134408])"
            ]
          },
          "metadata": {
            "tags": []
          },
          "execution_count": 110
        }
      ]
    },
    {
      "cell_type": "code",
      "metadata": {
        "id": "cgp6ackThtja",
        "outputId": "b64e16ec-061c-457f-d699-4550c135fdc9",
        "colab": {
          "base_uri": "https://localhost:8080/"
        }
      },
      "source": [
        "cross_val_score(mlp_clf, dramatic_X, dramatic_y, cv=3, scoring='f1_weighted')"
      ],
      "execution_count": 111,
      "outputs": [
        {
          "output_type": "stream",
          "text": [
            "/usr/local/lib/python3.6/dist-packages/sklearn/neural_network/_multilayer_perceptron.py:571: ConvergenceWarning: Stochastic Optimizer: Maximum iterations (200) reached and the optimization hasn't converged yet.\n",
            "  % self.max_iter, ConvergenceWarning)\n",
            "/usr/local/lib/python3.6/dist-packages/sklearn/neural_network/_multilayer_perceptron.py:571: ConvergenceWarning: Stochastic Optimizer: Maximum iterations (200) reached and the optimization hasn't converged yet.\n",
            "  % self.max_iter, ConvergenceWarning)\n",
            "/usr/local/lib/python3.6/dist-packages/sklearn/neural_network/_multilayer_perceptron.py:571: ConvergenceWarning: Stochastic Optimizer: Maximum iterations (200) reached and the optimization hasn't converged yet.\n",
            "  % self.max_iter, ConvergenceWarning)\n"
          ],
          "name": "stderr"
        },
        {
          "output_type": "execute_result",
          "data": {
            "text/plain": [
              "array([0.79870031, 0.90731377, 0.90453759])"
            ]
          },
          "metadata": {
            "tags": []
          },
          "execution_count": 111
        }
      ]
    },
    {
      "cell_type": "code",
      "metadata": {
        "id": "xvl7fcFHhxTo"
      },
      "source": [
        ""
      ],
      "execution_count": null,
      "outputs": []
    }
  ]
}